{
 "cells": [
  {
   "cell_type": "code",
   "execution_count": 1,
   "id": "1fd86b59",
   "metadata": {
    "_cell_guid": "b1076dfc-b9ad-4769-8c92-a6c4dae69d19",
    "_uuid": "8f2839f25d086af736a60e9eeb907d3b93b6e0e5",
    "execution": {
     "iopub.execute_input": "2024-03-06T14:52:52.245961Z",
     "iopub.status.busy": "2024-03-06T14:52:52.245082Z",
     "iopub.status.idle": "2024-03-06T14:52:57.879656Z",
     "shell.execute_reply": "2024-03-06T14:52:57.877790Z"
    },
    "papermill": {
     "duration": 5.644525,
     "end_time": "2024-03-06T14:52:57.883228",
     "exception": false,
     "start_time": "2024-03-06T14:52:52.238703",
     "status": "completed"
    },
    "tags": []
   },
   "outputs": [],
   "source": [
    "# Library Import\n",
    "import numpy as np \n",
    "import pandas as pd \n",
    "import sklearn as skl\n",
    "\n",
    "# Input data files are available in the read-only \"../input/\" directory\n",
    "# For example, running this (by clicking run or pressing Shift+Enter) will list all files under the input directory\n",
    "import os\n",
    "# for dirname, _, filenames in os.walk('/kaggle/input'):\n",
    "#     for filename in filenames:\n",
    "#         print(os.path.join(dirname, filename))\n",
    "\n",
    "# You can write up to 20GB to the current directory (/kaggle/working/) that gets preserved as output when you create a version using \"Save & Run All\" \n",
    "# You can also write temporary files to /kaggle/temp/, but they won't be saved outside of the current session\n",
    "\n",
    "# Set Data Dir\n",
    "input_dir = '/kaggle/input/sml-assessed-practical-data/'\n",
    "\n",
    "# Load the training data and the test inputs\n",
    "x_train = pd.read_csv(os.path.join(input_dir, 'X_train.csv'), index_col = 0, header=[0, 1, 2])\n",
    "y_train = pd.read_csv(os.path.join(input_dir, 'y_train.csv'), index_col=0)\n",
    "y_train = y_train.squeeze().to_numpy() # Make y_train a NumPy array\n",
    "x_test = pd.read_csv(os.path.join(input_dir, 'X_test.csv'), index_col = 0, header=[0, 1, 2])"
   ]
  },
  {
   "cell_type": "code",
   "execution_count": null,
   "id": "92622842",
   "metadata": {
    "papermill": {
     "duration": 0.001876,
     "end_time": "2024-03-06T14:52:57.887999",
     "exception": false,
     "start_time": "2024-03-06T14:52:57.886123",
     "status": "completed"
    },
    "tags": []
   },
   "outputs": [],
   "source": []
  }
 ],
 "metadata": {
  "kaggle": {
   "accelerator": "none",
   "dataSources": [
    {
     "datasetId": 4550223,
     "sourceId": 7776495,
     "sourceType": "datasetVersion"
    }
   ],
   "dockerImageVersionId": 30664,
   "isGpuEnabled": false,
   "isInternetEnabled": true,
   "language": "python",
   "sourceType": "notebook"
  },
  "kernelspec": {
   "display_name": "Python 3",
   "language": "python",
   "name": "python3"
  },
  "language_info": {
   "codemirror_mode": {
    "name": "ipython",
    "version": 3
   },
   "file_extension": ".py",
   "mimetype": "text/x-python",
   "name": "python",
   "nbconvert_exporter": "python",
   "pygments_lexer": "ipython3",
   "version": "3.10.13"
  },
  "papermill": {
   "default_parameters": {},
   "duration": 10.569256,
   "end_time": "2024-03-06T14:52:58.819088",
   "environment_variables": {},
   "exception": null,
   "input_path": "__notebook__.ipynb",
   "output_path": "__notebook__.ipynb",
   "parameters": {},
   "start_time": "2024-03-06T14:52:48.249832",
   "version": "2.5.0"
  }
 },
 "nbformat": 4,
 "nbformat_minor": 5
}
