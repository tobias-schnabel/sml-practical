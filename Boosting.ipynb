{
 "cells": [
  {
   "cell_type": "code",
   "execution_count": 2,
   "id": "initial_id",
   "metadata": {
    "execution": {
     "iopub.execute_input": "2024-03-13T23:14:23.532775Z",
     "iopub.status.busy": "2024-03-13T23:14:23.532596Z",
     "iopub.status.idle": "2024-03-13T23:14:31.968927Z",
     "shell.execute_reply": "2024-03-13T23:14:31.968289Z",
     "shell.execute_reply.started": "2024-03-13T23:14:23.532758Z"
    },
    "ExecuteTime": {
     "end_time": "2024-03-14T10:28:34.562457Z",
     "start_time": "2024-03-14T10:28:29.663839Z"
    }
   },
   "outputs": [
    {
     "name": "stdout",
     "output_type": "stream",
     "text": [
      "8 different classes: Electronic, Experimental, Folk, Hip-Hop, Instrumental, International, Pop or Rock.\n",
      "objective 1: construct a classifier which, based on the features of a song, predicts its genre\n",
      "objective 2: estimate its generalisation error under the 0–1 loss.\n",
      "Features are real-valued, correspond to summary statistics (mean, sd, skewness, kurtosis, median, min, max) of \n",
      "time series of various music features, such as the chromagram or the Mel-frequency cepstrum.\n",
      "Feature description: \n",
      "\n",
      "Feature description: \n",
      "chroma_cens: Chroma Energy Normalized (CENS, 12 chroma) - 84 features\n",
      "chroma_cqt: Constant-Q chromagram (12 chroma) - 84 features\n",
      "chroma_stft: Chromagram (12 chroma) - 84 features\n",
      "mfcc: Mel-frequency cepstrum (20 coefficients) - 140 features\n",
      "rmse: Root-mean-square - 7 features\n",
      "spectral_bandwidth: Spectral bandwidth - 7 features\n",
      "spectral_centroid: Spectral centroid - 7 features\n",
      "spectral_contrast: Spectral contrast (7 frequency bands) - 49 features\n",
      "spectral_rolloff: Roll-off frequency - 7 features\n",
      "tonnetz: Tonal centroid features (6 features) - 42 features\n",
      "zcr: Zero-crossing rate - 7 features\n",
      "x_train: 6000 rows on 518 columns\n",
      "Objects loaded: x_train, x_test, y_train as pd dataframes, x_train_np, x_test_np, y_train_np as NP arrays\n",
      "function generate_submission_csv(genre_predictions, filename='submission.csv') available\n"
     ]
    }
   ],
   "source": [
    "%run 'Setup.py'"
   ]
  },
  {
   "cell_type": "code",
   "execution_count": 3,
   "id": "253e8e93911b19bd",
   "metadata": {
    "collapsed": false,
    "execution": {
     "iopub.execute_input": "2024-03-13T23:14:31.970712Z",
     "iopub.status.busy": "2024-03-13T23:14:31.970355Z",
     "iopub.status.idle": "2024-03-13T23:14:32.053941Z",
     "shell.execute_reply": "2024-03-13T23:14:32.053347Z",
     "shell.execute_reply.started": "2024-03-13T23:14:31.970690Z"
    },
    "ExecuteTime": {
     "end_time": "2024-03-14T10:28:35.332473Z",
     "start_time": "2024-03-14T10:28:35.295406Z"
    }
   },
   "outputs": [],
   "source": [
    "# Prepare data\n",
    "label_encoder = LabelEncoder()\n",
    "y_train_encoded = label_encoder.fit_transform(y_train_np.ravel()) #\n",
    "\n",
    "# Split training data into training and temporary validation sets\n",
    "X_train, X_temp, Y_train, Y_temp = train_test_split(x_train, y_train_encoded, test_size=0.4, random_state=42)\n",
    "\n",
    "# Split the temporary validation set into validation and fake test set\n",
    "X_val, X_test, Y_val, Y_test = train_test_split(X_temp, Y_temp, test_size=0.5, random_state=42)\n",
    "\n",
    "scaler = StandardScaler()\n",
    "X_train_scaled = scaler.fit_transform(X_train)\n",
    "X_val_scaled = scaler.transform(X_val)\n",
    "X_test_scaled = scaler.transform(X_test)  \n",
    "X_real_test_scaled = scaler.transform(x_test) # real test set we don't have labels for"
   ]
  },
  {
   "cell_type": "code",
   "execution_count": 4,
   "id": "9de5ce8bcfa2e8be",
   "metadata": {
    "collapsed": false,
    "execution": {
     "iopub.execute_input": "2024-03-13T23:14:32.055084Z",
     "iopub.status.busy": "2024-03-13T23:14:32.054812Z",
     "iopub.status.idle": "2024-03-13T23:14:32.059627Z",
     "shell.execute_reply": "2024-03-13T23:14:32.059051Z",
     "shell.execute_reply.started": "2024-03-13T23:14:32.055067Z"
    },
    "ExecuteTime": {
     "end_time": "2024-03-14T10:28:36.150682Z",
     "start_time": "2024-03-14T10:28:36.147659Z"
    }
   },
   "outputs": [],
   "source": [
    "def split_features_by_type(X, feature_structure):\n",
    "    \"\"\"\n",
    "    Splits the dataset into subsets based on the feature structure provided.\n",
    "\n",
    "    :param X: numpy array, the dataset to be split (features only)\n",
    "    :param feature_structure: dict, keys are feature names and values are the number of features of that type\n",
    "    :return: dict of feature subsets\n",
    "    \"\"\"\n",
    "    feature_subsets = {}\n",
    "    start_idx = 0\n",
    "    \n",
    "    for feature_name, feature_count in feature_structure.items():\n",
    "        end_idx = start_idx + feature_count\n",
    "        feature_subsets[feature_name] = X[:, start_idx:end_idx]\n",
    "        start_idx = end_idx\n",
    "    \n",
    "    return feature_subsets\n",
    "\n",
    "# Define the feature structure\n",
    "feature_structure = {\n",
    "    'chroma_cens': 84,\n",
    "    'chroma_cqt': 84,\n",
    "    'chroma_stft': 84,\n",
    "    'mfcc': 140,\n",
    "    'rmse': 7,\n",
    "    'spectral_bandwidth': 7,\n",
    "    'spectral_centroid': 7,\n",
    "    'spectral_contrast': 49,\n",
    "    'spectral_rolloff': 7,\n",
    "    'tonnetz': 42,\n",
    "    'zcr': 7\n",
    "}"
   ]
  },
  {
   "cell_type": "markdown",
   "id": "358187543faee74a",
   "metadata": {},
   "source": [
    "# Boosting separately on feature subsets"
   ]
  },
  {
   "cell_type": "markdown",
   "id": "37aaa6e01ddd1e9c",
   "metadata": {},
   "source": [
    "Load Data and Convert to DMatrix"
   ]
  },
  {
   "cell_type": "code",
   "execution_count": 12,
   "id": "7273f030d3fce949",
   "metadata": {
    "ExecuteTime": {
     "end_time": "2024-03-13T21:37:41.624023Z",
     "start_time": "2024-03-13T21:37:41.622330Z"
    },
    "collapsed": false,
    "execution": {
     "iopub.execute_input": "2024-03-13T23:14:32.104944Z",
     "iopub.status.busy": "2024-03-13T23:14:32.104765Z",
     "iopub.status.idle": "2024-03-13T23:14:32.109114Z",
     "shell.execute_reply": "2024-03-13T23:14:32.108404Z",
     "shell.execute_reply.started": "2024-03-13T23:14:32.104930Z"
    }
   },
   "outputs": [],
   "source": [
    "train_subsets = split_features_by_type(X_train_scaled, feature_structure)\n",
    "val_subsets = split_features_by_type(X_val_scaled, feature_structure)\n",
    "test_subsets = split_features_by_type(X_test_scaled, feature_structure)"
   ]
  },
  {
   "cell_type": "code",
   "execution_count": 13,
   "id": "c5f917abf41d4dca",
   "metadata": {
    "ExecuteTime": {
     "end_time": "2024-03-13T21:37:41.627367Z",
     "start_time": "2024-03-13T21:37:41.624879Z"
    },
    "collapsed": false,
    "execution": {
     "iopub.execute_input": "2024-03-13T23:14:32.110000Z",
     "iopub.status.busy": "2024-03-13T23:14:32.109821Z",
     "iopub.status.idle": "2024-03-13T23:14:32.115245Z",
     "shell.execute_reply": "2024-03-13T23:14:32.114530Z",
     "shell.execute_reply.started": "2024-03-13T23:14:32.109986Z"
    }
   },
   "outputs": [],
   "source": [
    "def objective(trial, X_sub, Y_sub):\n",
    "    # Hyperparameters\n",
    "    params = {\n",
    "        'objective': 'multi:softmax',\n",
    "        'num_class': 8,\n",
    "        'max_depth': trial.suggest_int('max_depth', 3, 60),\n",
    "        'eta': trial.suggest_float('eta', 0.01, 0.4),\n",
    "        'subsample': trial.suggest_float('subsample', 0.6, 1.0),\n",
    "        'colsample_bytree': trial.suggest_float('colsample_bytree', 0.6, 1.0),\n",
    "        'eval_metric': 'merror'  # Multiclass Classification Error\n",
    "    }\n",
    "\n",
    "    # Convert the subset dataset into DMatrix form\n",
    "    dmatrix = xgb.DMatrix(X_sub, label=Y_sub)\n",
    "\n",
    "    # Perform cross-validation\n",
    "    cv_results = xgb.cv(params, dmatrix, num_boost_round=5000, nfold=5, stratified=True,\n",
    "                        early_stopping_rounds=25, seed=42, verbose_eval=False)\n",
    "\n",
    "    # Extract the minimum mean merror from the CV results\n",
    "    min_mean_merror = cv_results['test-merror-mean'].min()\n",
    "\n",
    "    return min_mean_merror"
   ]
  },
  {
   "cell_type": "code",
   "execution_count": 14,
   "id": "464bbf2d926a2626",
   "metadata": {
    "ExecuteTime": {
     "end_time": "2024-03-13T21:37:52.638307Z",
     "start_time": "2024-03-13T21:37:41.629776Z"
    },
    "collapsed": false,
    "execution": {
     "iopub.execute_input": "2024-03-13T23:14:32.116363Z",
     "iopub.status.busy": "2024-03-13T23:14:32.116073Z",
     "iopub.status.idle": "2024-03-13T23:15:05.168180Z",
     "shell.execute_reply": "2024-03-13T23:15:05.167199Z",
     "shell.execute_reply.started": "2024-03-13T23:14:32.116348Z"
    }
   },
   "outputs": [
    {
     "name": "stderr",
     "output_type": "stream",
     "text": [
      "[I 2024-03-13 23:14:32,121] A new study created in memory with name: XGB_chroma_cens\n"
     ]
    },
    {
     "name": "stdout",
     "output_type": "stream",
     "text": [
      "Running study for feature subset: chroma_cens\n"
     ]
    },
    {
     "name": "stderr",
     "output_type": "stream",
     "text": [
      "[W 2024-03-13 23:15:03,961] Trial 0 failed with parameters: {'max_depth': 16, 'eta': 0.18260583038077527, 'subsample': 0.8210097791906202, 'colsample_bytree': 0.8412711335976696} because of the following error: KeyboardInterrupt().\n",
      "Traceback (most recent call last):\n",
      "  File \"/opt/saturncloud/envs/saturn/lib/python3.10/site-packages/optuna/study/_optimize.py\", line 200, in _run_trial\n",
      "    value_or_values = func(trial)\n",
      "  File \"/tmp/ipykernel_278/2774506645.py\", line 12, in subset_objective\n",
      "    return objective(trial, X_sub_train, Y_sub_train)\n",
      "  File \"/tmp/ipykernel_278/3102675667.py\", line 17, in objective\n",
      "    cv_results = xgb.cv(params, dmatrix, num_boost_round=5000, nfold=5, stratified=True,\n",
      "  File \"/opt/saturncloud/envs/saturn/lib/python3.10/site-packages/xgboost/training.py\", line 538, in cv\n",
      "    booster.update(i, obj)\n",
      "  File \"/opt/saturncloud/envs/saturn/lib/python3.10/site-packages/xgboost/training.py\", line 229, in update\n",
      "    fold.update(iteration, obj)\n",
      "  File \"/opt/saturncloud/envs/saturn/lib/python3.10/site-packages/xgboost/training.py\", line 215, in update\n",
      "    self.bst.update(self.dtrain, iteration, fobj)\n",
      "  File \"/opt/saturncloud/envs/saturn/lib/python3.10/site-packages/xgboost/core.py\", line 1918, in update\n",
      "    _check_call(_LIB.XGBoosterUpdateOneIter(self.handle,\n",
      "KeyboardInterrupt\n",
      "[W 2024-03-13 23:15:03,963] Trial 0 failed with value None.\n"
     ]
    },
    {
     "ename": "KeyboardInterrupt",
     "evalue": "",
     "output_type": "error",
     "traceback": [
      "\u001B[0;31m---------------------------------------------------------------------------\u001B[0m",
      "\u001B[0;31mKeyboardInterrupt\u001B[0m                         Traceback (most recent call last)",
      "Cell \u001B[0;32mIn[14], line 15\u001B[0m\n\u001B[1;32m     12\u001B[0m     \u001B[38;5;28;01mreturn\u001B[39;00m objective(trial, X_sub_train, Y_sub_train)\n\u001B[1;32m     14\u001B[0m study \u001B[38;5;241m=\u001B[39m optuna\u001B[38;5;241m.\u001B[39mcreate_study(direction\u001B[38;5;241m=\u001B[39m\u001B[38;5;124m'\u001B[39m\u001B[38;5;124mminimize\u001B[39m\u001B[38;5;124m'\u001B[39m, study_name\u001B[38;5;241m=\u001B[39m\u001B[38;5;124mf\u001B[39m\u001B[38;5;124m\"\u001B[39m\u001B[38;5;124mXGB_\u001B[39m\u001B[38;5;132;01m{\u001B[39;00mfeature_name\u001B[38;5;132;01m}\u001B[39;00m\u001B[38;5;124m\"\u001B[39m)\n\u001B[0;32m---> 15\u001B[0m \u001B[43mstudy\u001B[49m\u001B[38;5;241;43m.\u001B[39;49m\u001B[43moptimize\u001B[49m\u001B[43m(\u001B[49m\u001B[43msubset_objective\u001B[49m\u001B[43m,\u001B[49m\u001B[43m \u001B[49m\u001B[43mn_trials\u001B[49m\u001B[38;5;241;43m=\u001B[39;49m\u001B[38;5;241;43m100\u001B[39;49m\u001B[43m)\u001B[49m\n\u001B[1;32m     17\u001B[0m best_params_subsets[feature_name] \u001B[38;5;241m=\u001B[39m study\u001B[38;5;241m.\u001B[39mbest_trial\u001B[38;5;241m.\u001B[39mparams\n\u001B[1;32m     19\u001B[0m \u001B[38;5;66;03m# # Merge train and validation subsets for final model retraining\u001B[39;00m\n\u001B[1;32m     20\u001B[0m \u001B[38;5;66;03m# X_sub_train_val_combined = np.vstack((X_sub_train, val_subsets[feature_name]))\u001B[39;00m\n\u001B[1;32m     21\u001B[0m \u001B[38;5;66;03m# Y_train_val_combined = np.concatenate((Y_train, Y_val))  # Assuming Y_val is defined\u001B[39;00m\n\u001B[0;32m   (...)\u001B[0m\n\u001B[1;32m     24\u001B[0m \u001B[38;5;66;03m# dtrain_val_combined = xgb.DMatrix(X_sub_train_val_combined, label=Y_train_val_combined)\u001B[39;00m\n\u001B[1;32m     25\u001B[0m \u001B[38;5;66;03m# Retrain model with optimal parameters with more boosting rounds\u001B[39;00m\n",
      "File \u001B[0;32m/opt/saturncloud/envs/saturn/lib/python3.10/site-packages/optuna/study/study.py:451\u001B[0m, in \u001B[0;36mStudy.optimize\u001B[0;34m(self, func, n_trials, timeout, n_jobs, catch, callbacks, gc_after_trial, show_progress_bar)\u001B[0m\n\u001B[1;32m    348\u001B[0m \u001B[38;5;28;01mdef\u001B[39;00m \u001B[38;5;21moptimize\u001B[39m(\n\u001B[1;32m    349\u001B[0m     \u001B[38;5;28mself\u001B[39m,\n\u001B[1;32m    350\u001B[0m     func: ObjectiveFuncType,\n\u001B[0;32m   (...)\u001B[0m\n\u001B[1;32m    357\u001B[0m     show_progress_bar: \u001B[38;5;28mbool\u001B[39m \u001B[38;5;241m=\u001B[39m \u001B[38;5;28;01mFalse\u001B[39;00m,\n\u001B[1;32m    358\u001B[0m ) \u001B[38;5;241m-\u001B[39m\u001B[38;5;241m>\u001B[39m \u001B[38;5;28;01mNone\u001B[39;00m:\n\u001B[1;32m    359\u001B[0m \u001B[38;5;250m    \u001B[39m\u001B[38;5;124;03m\"\"\"Optimize an objective function.\u001B[39;00m\n\u001B[1;32m    360\u001B[0m \n\u001B[1;32m    361\u001B[0m \u001B[38;5;124;03m    Optimization is done by choosing a suitable set of hyperparameter values from a given\u001B[39;00m\n\u001B[0;32m   (...)\u001B[0m\n\u001B[1;32m    449\u001B[0m \u001B[38;5;124;03m            If nested invocation of this method occurs.\u001B[39;00m\n\u001B[1;32m    450\u001B[0m \u001B[38;5;124;03m    \"\"\"\u001B[39;00m\n\u001B[0;32m--> 451\u001B[0m     \u001B[43m_optimize\u001B[49m\u001B[43m(\u001B[49m\n\u001B[1;32m    452\u001B[0m \u001B[43m        \u001B[49m\u001B[43mstudy\u001B[49m\u001B[38;5;241;43m=\u001B[39;49m\u001B[38;5;28;43mself\u001B[39;49m\u001B[43m,\u001B[49m\n\u001B[1;32m    453\u001B[0m \u001B[43m        \u001B[49m\u001B[43mfunc\u001B[49m\u001B[38;5;241;43m=\u001B[39;49m\u001B[43mfunc\u001B[49m\u001B[43m,\u001B[49m\n\u001B[1;32m    454\u001B[0m \u001B[43m        \u001B[49m\u001B[43mn_trials\u001B[49m\u001B[38;5;241;43m=\u001B[39;49m\u001B[43mn_trials\u001B[49m\u001B[43m,\u001B[49m\n\u001B[1;32m    455\u001B[0m \u001B[43m        \u001B[49m\u001B[43mtimeout\u001B[49m\u001B[38;5;241;43m=\u001B[39;49m\u001B[43mtimeout\u001B[49m\u001B[43m,\u001B[49m\n\u001B[1;32m    456\u001B[0m \u001B[43m        \u001B[49m\u001B[43mn_jobs\u001B[49m\u001B[38;5;241;43m=\u001B[39;49m\u001B[43mn_jobs\u001B[49m\u001B[43m,\u001B[49m\n\u001B[1;32m    457\u001B[0m \u001B[43m        \u001B[49m\u001B[43mcatch\u001B[49m\u001B[38;5;241;43m=\u001B[39;49m\u001B[38;5;28;43mtuple\u001B[39;49m\u001B[43m(\u001B[49m\u001B[43mcatch\u001B[49m\u001B[43m)\u001B[49m\u001B[43m \u001B[49m\u001B[38;5;28;43;01mif\u001B[39;49;00m\u001B[43m \u001B[49m\u001B[38;5;28;43misinstance\u001B[39;49m\u001B[43m(\u001B[49m\u001B[43mcatch\u001B[49m\u001B[43m,\u001B[49m\u001B[43m \u001B[49m\u001B[43mIterable\u001B[49m\u001B[43m)\u001B[49m\u001B[43m \u001B[49m\u001B[38;5;28;43;01melse\u001B[39;49;00m\u001B[43m \u001B[49m\u001B[43m(\u001B[49m\u001B[43mcatch\u001B[49m\u001B[43m,\u001B[49m\u001B[43m)\u001B[49m\u001B[43m,\u001B[49m\n\u001B[1;32m    458\u001B[0m \u001B[43m        \u001B[49m\u001B[43mcallbacks\u001B[49m\u001B[38;5;241;43m=\u001B[39;49m\u001B[43mcallbacks\u001B[49m\u001B[43m,\u001B[49m\n\u001B[1;32m    459\u001B[0m \u001B[43m        \u001B[49m\u001B[43mgc_after_trial\u001B[49m\u001B[38;5;241;43m=\u001B[39;49m\u001B[43mgc_after_trial\u001B[49m\u001B[43m,\u001B[49m\n\u001B[1;32m    460\u001B[0m \u001B[43m        \u001B[49m\u001B[43mshow_progress_bar\u001B[49m\u001B[38;5;241;43m=\u001B[39;49m\u001B[43mshow_progress_bar\u001B[49m\u001B[43m,\u001B[49m\n\u001B[1;32m    461\u001B[0m \u001B[43m    \u001B[49m\u001B[43m)\u001B[49m\n",
      "File \u001B[0;32m/opt/saturncloud/envs/saturn/lib/python3.10/site-packages/optuna/study/_optimize.py:66\u001B[0m, in \u001B[0;36m_optimize\u001B[0;34m(study, func, n_trials, timeout, n_jobs, catch, callbacks, gc_after_trial, show_progress_bar)\u001B[0m\n\u001B[1;32m     64\u001B[0m \u001B[38;5;28;01mtry\u001B[39;00m:\n\u001B[1;32m     65\u001B[0m     \u001B[38;5;28;01mif\u001B[39;00m n_jobs \u001B[38;5;241m==\u001B[39m \u001B[38;5;241m1\u001B[39m:\n\u001B[0;32m---> 66\u001B[0m         \u001B[43m_optimize_sequential\u001B[49m\u001B[43m(\u001B[49m\n\u001B[1;32m     67\u001B[0m \u001B[43m            \u001B[49m\u001B[43mstudy\u001B[49m\u001B[43m,\u001B[49m\n\u001B[1;32m     68\u001B[0m \u001B[43m            \u001B[49m\u001B[43mfunc\u001B[49m\u001B[43m,\u001B[49m\n\u001B[1;32m     69\u001B[0m \u001B[43m            \u001B[49m\u001B[43mn_trials\u001B[49m\u001B[43m,\u001B[49m\n\u001B[1;32m     70\u001B[0m \u001B[43m            \u001B[49m\u001B[43mtimeout\u001B[49m\u001B[43m,\u001B[49m\n\u001B[1;32m     71\u001B[0m \u001B[43m            \u001B[49m\u001B[43mcatch\u001B[49m\u001B[43m,\u001B[49m\n\u001B[1;32m     72\u001B[0m \u001B[43m            \u001B[49m\u001B[43mcallbacks\u001B[49m\u001B[43m,\u001B[49m\n\u001B[1;32m     73\u001B[0m \u001B[43m            \u001B[49m\u001B[43mgc_after_trial\u001B[49m\u001B[43m,\u001B[49m\n\u001B[1;32m     74\u001B[0m \u001B[43m            \u001B[49m\u001B[43mreseed_sampler_rng\u001B[49m\u001B[38;5;241;43m=\u001B[39;49m\u001B[38;5;28;43;01mFalse\u001B[39;49;00m\u001B[43m,\u001B[49m\n\u001B[1;32m     75\u001B[0m \u001B[43m            \u001B[49m\u001B[43mtime_start\u001B[49m\u001B[38;5;241;43m=\u001B[39;49m\u001B[38;5;28;43;01mNone\u001B[39;49;00m\u001B[43m,\u001B[49m\n\u001B[1;32m     76\u001B[0m \u001B[43m            \u001B[49m\u001B[43mprogress_bar\u001B[49m\u001B[38;5;241;43m=\u001B[39;49m\u001B[43mprogress_bar\u001B[49m\u001B[43m,\u001B[49m\n\u001B[1;32m     77\u001B[0m \u001B[43m        \u001B[49m\u001B[43m)\u001B[49m\n\u001B[1;32m     78\u001B[0m     \u001B[38;5;28;01melse\u001B[39;00m:\n\u001B[1;32m     79\u001B[0m         \u001B[38;5;28;01mif\u001B[39;00m n_jobs \u001B[38;5;241m==\u001B[39m \u001B[38;5;241m-\u001B[39m\u001B[38;5;241m1\u001B[39m:\n",
      "File \u001B[0;32m/opt/saturncloud/envs/saturn/lib/python3.10/site-packages/optuna/study/_optimize.py:163\u001B[0m, in \u001B[0;36m_optimize_sequential\u001B[0;34m(study, func, n_trials, timeout, catch, callbacks, gc_after_trial, reseed_sampler_rng, time_start, progress_bar)\u001B[0m\n\u001B[1;32m    160\u001B[0m         \u001B[38;5;28;01mbreak\u001B[39;00m\n\u001B[1;32m    162\u001B[0m \u001B[38;5;28;01mtry\u001B[39;00m:\n\u001B[0;32m--> 163\u001B[0m     frozen_trial \u001B[38;5;241m=\u001B[39m \u001B[43m_run_trial\u001B[49m\u001B[43m(\u001B[49m\u001B[43mstudy\u001B[49m\u001B[43m,\u001B[49m\u001B[43m \u001B[49m\u001B[43mfunc\u001B[49m\u001B[43m,\u001B[49m\u001B[43m \u001B[49m\u001B[43mcatch\u001B[49m\u001B[43m)\u001B[49m\n\u001B[1;32m    164\u001B[0m \u001B[38;5;28;01mfinally\u001B[39;00m:\n\u001B[1;32m    165\u001B[0m     \u001B[38;5;66;03m# The following line mitigates memory problems that can be occurred in some\u001B[39;00m\n\u001B[1;32m    166\u001B[0m     \u001B[38;5;66;03m# environments (e.g., services that use computing containers such as GitHub Actions).\u001B[39;00m\n\u001B[1;32m    167\u001B[0m     \u001B[38;5;66;03m# Please refer to the following PR for further details:\u001B[39;00m\n\u001B[1;32m    168\u001B[0m     \u001B[38;5;66;03m# https://github.com/optuna/optuna/pull/325.\u001B[39;00m\n\u001B[1;32m    169\u001B[0m     \u001B[38;5;28;01mif\u001B[39;00m gc_after_trial:\n",
      "File \u001B[0;32m/opt/saturncloud/envs/saturn/lib/python3.10/site-packages/optuna/study/_optimize.py:251\u001B[0m, in \u001B[0;36m_run_trial\u001B[0;34m(study, func, catch)\u001B[0m\n\u001B[1;32m    244\u001B[0m         \u001B[38;5;28;01massert\u001B[39;00m \u001B[38;5;28;01mFalse\u001B[39;00m, \u001B[38;5;124m\"\u001B[39m\u001B[38;5;124mShould not reach.\u001B[39m\u001B[38;5;124m\"\u001B[39m\n\u001B[1;32m    246\u001B[0m \u001B[38;5;28;01mif\u001B[39;00m (\n\u001B[1;32m    247\u001B[0m     frozen_trial\u001B[38;5;241m.\u001B[39mstate \u001B[38;5;241m==\u001B[39m TrialState\u001B[38;5;241m.\u001B[39mFAIL\n\u001B[1;32m    248\u001B[0m     \u001B[38;5;129;01mand\u001B[39;00m func_err \u001B[38;5;129;01mis\u001B[39;00m \u001B[38;5;129;01mnot\u001B[39;00m \u001B[38;5;28;01mNone\u001B[39;00m\n\u001B[1;32m    249\u001B[0m     \u001B[38;5;129;01mand\u001B[39;00m \u001B[38;5;129;01mnot\u001B[39;00m \u001B[38;5;28misinstance\u001B[39m(func_err, catch)\n\u001B[1;32m    250\u001B[0m ):\n\u001B[0;32m--> 251\u001B[0m     \u001B[38;5;28;01mraise\u001B[39;00m func_err\n\u001B[1;32m    252\u001B[0m \u001B[38;5;28;01mreturn\u001B[39;00m frozen_trial\n",
      "File \u001B[0;32m/opt/saturncloud/envs/saturn/lib/python3.10/site-packages/optuna/study/_optimize.py:200\u001B[0m, in \u001B[0;36m_run_trial\u001B[0;34m(study, func, catch)\u001B[0m\n\u001B[1;32m    198\u001B[0m \u001B[38;5;28;01mwith\u001B[39;00m get_heartbeat_thread(trial\u001B[38;5;241m.\u001B[39m_trial_id, study\u001B[38;5;241m.\u001B[39m_storage):\n\u001B[1;32m    199\u001B[0m     \u001B[38;5;28;01mtry\u001B[39;00m:\n\u001B[0;32m--> 200\u001B[0m         value_or_values \u001B[38;5;241m=\u001B[39m \u001B[43mfunc\u001B[49m\u001B[43m(\u001B[49m\u001B[43mtrial\u001B[49m\u001B[43m)\u001B[49m\n\u001B[1;32m    201\u001B[0m     \u001B[38;5;28;01mexcept\u001B[39;00m exceptions\u001B[38;5;241m.\u001B[39mTrialPruned \u001B[38;5;28;01mas\u001B[39;00m e:\n\u001B[1;32m    202\u001B[0m         \u001B[38;5;66;03m# TODO(mamu): Handle multi-objective cases.\u001B[39;00m\n\u001B[1;32m    203\u001B[0m         state \u001B[38;5;241m=\u001B[39m TrialState\u001B[38;5;241m.\u001B[39mPRUNED\n",
      "Cell \u001B[0;32mIn[14], line 12\u001B[0m, in \u001B[0;36msubset_objective\u001B[0;34m(trial)\u001B[0m\n\u001B[1;32m     11\u001B[0m \u001B[38;5;28;01mdef\u001B[39;00m \u001B[38;5;21msubset_objective\u001B[39m(trial):\n\u001B[0;32m---> 12\u001B[0m     \u001B[38;5;28;01mreturn\u001B[39;00m \u001B[43mobjective\u001B[49m\u001B[43m(\u001B[49m\u001B[43mtrial\u001B[49m\u001B[43m,\u001B[49m\u001B[43m \u001B[49m\u001B[43mX_sub_train\u001B[49m\u001B[43m,\u001B[49m\u001B[43m \u001B[49m\u001B[43mY_sub_train\u001B[49m\u001B[43m)\u001B[49m\n",
      "Cell \u001B[0;32mIn[13], line 17\u001B[0m, in \u001B[0;36mobjective\u001B[0;34m(trial, X_sub, Y_sub)\u001B[0m\n\u001B[1;32m     14\u001B[0m dmatrix \u001B[38;5;241m=\u001B[39m xgb\u001B[38;5;241m.\u001B[39mDMatrix(X_sub, label\u001B[38;5;241m=\u001B[39mY_sub)\n\u001B[1;32m     16\u001B[0m \u001B[38;5;66;03m# Perform cross-validation\u001B[39;00m\n\u001B[0;32m---> 17\u001B[0m cv_results \u001B[38;5;241m=\u001B[39m \u001B[43mxgb\u001B[49m\u001B[38;5;241;43m.\u001B[39;49m\u001B[43mcv\u001B[49m\u001B[43m(\u001B[49m\u001B[43mparams\u001B[49m\u001B[43m,\u001B[49m\u001B[43m \u001B[49m\u001B[43mdmatrix\u001B[49m\u001B[43m,\u001B[49m\u001B[43m \u001B[49m\u001B[43mnum_boost_round\u001B[49m\u001B[38;5;241;43m=\u001B[39;49m\u001B[38;5;241;43m5000\u001B[39;49m\u001B[43m,\u001B[49m\u001B[43m \u001B[49m\u001B[43mnfold\u001B[49m\u001B[38;5;241;43m=\u001B[39;49m\u001B[38;5;241;43m5\u001B[39;49m\u001B[43m,\u001B[49m\u001B[43m \u001B[49m\u001B[43mstratified\u001B[49m\u001B[38;5;241;43m=\u001B[39;49m\u001B[38;5;28;43;01mTrue\u001B[39;49;00m\u001B[43m,\u001B[49m\n\u001B[1;32m     18\u001B[0m \u001B[43m                    \u001B[49m\u001B[43mearly_stopping_rounds\u001B[49m\u001B[38;5;241;43m=\u001B[39;49m\u001B[38;5;241;43m25\u001B[39;49m\u001B[43m,\u001B[49m\u001B[43m \u001B[49m\u001B[43mseed\u001B[49m\u001B[38;5;241;43m=\u001B[39;49m\u001B[38;5;241;43m42\u001B[39;49m\u001B[43m,\u001B[49m\u001B[43m \u001B[49m\u001B[43mverbose_eval\u001B[49m\u001B[38;5;241;43m=\u001B[39;49m\u001B[38;5;28;43;01mFalse\u001B[39;49;00m\u001B[43m)\u001B[49m\n\u001B[1;32m     20\u001B[0m \u001B[38;5;66;03m# Extract the minimum mean merror from the CV results\u001B[39;00m\n\u001B[1;32m     21\u001B[0m min_mean_merror \u001B[38;5;241m=\u001B[39m cv_results[\u001B[38;5;124m'\u001B[39m\u001B[38;5;124mtest-merror-mean\u001B[39m\u001B[38;5;124m'\u001B[39m]\u001B[38;5;241m.\u001B[39mmin()\n",
      "File \u001B[0;32m/opt/saturncloud/envs/saturn/lib/python3.10/site-packages/xgboost/training.py:538\u001B[0m, in \u001B[0;36mcv\u001B[0;34m(params, dtrain, num_boost_round, nfold, stratified, folds, metrics, obj, feval, maximize, early_stopping_rounds, fpreproc, as_pandas, verbose_eval, show_stdv, seed, callbacks, shuffle, custom_metric)\u001B[0m\n\u001B[1;32m    536\u001B[0m \u001B[38;5;28;01mif\u001B[39;00m callbacks_container\u001B[38;5;241m.\u001B[39mbefore_iteration(booster, i, dtrain, \u001B[38;5;28;01mNone\u001B[39;00m):\n\u001B[1;32m    537\u001B[0m     \u001B[38;5;28;01mbreak\u001B[39;00m\n\u001B[0;32m--> 538\u001B[0m \u001B[43mbooster\u001B[49m\u001B[38;5;241;43m.\u001B[39;49m\u001B[43mupdate\u001B[49m\u001B[43m(\u001B[49m\u001B[43mi\u001B[49m\u001B[43m,\u001B[49m\u001B[43m \u001B[49m\u001B[43mobj\u001B[49m\u001B[43m)\u001B[49m\n\u001B[1;32m    540\u001B[0m should_break \u001B[38;5;241m=\u001B[39m callbacks_container\u001B[38;5;241m.\u001B[39mafter_iteration(booster, i, dtrain, \u001B[38;5;28;01mNone\u001B[39;00m)\n\u001B[1;32m    541\u001B[0m res \u001B[38;5;241m=\u001B[39m callbacks_container\u001B[38;5;241m.\u001B[39maggregated_cv\n",
      "File \u001B[0;32m/opt/saturncloud/envs/saturn/lib/python3.10/site-packages/xgboost/training.py:229\u001B[0m, in \u001B[0;36m_PackedBooster.update\u001B[0;34m(self, iteration, obj)\u001B[0m\n\u001B[1;32m    227\u001B[0m \u001B[38;5;250m\u001B[39m\u001B[38;5;124;03m'''Iterate through folds for update'''\u001B[39;00m\n\u001B[1;32m    228\u001B[0m \u001B[38;5;28;01mfor\u001B[39;00m fold \u001B[38;5;129;01min\u001B[39;00m \u001B[38;5;28mself\u001B[39m\u001B[38;5;241m.\u001B[39mcvfolds:\n\u001B[0;32m--> 229\u001B[0m     \u001B[43mfold\u001B[49m\u001B[38;5;241;43m.\u001B[39;49m\u001B[43mupdate\u001B[49m\u001B[43m(\u001B[49m\u001B[43miteration\u001B[49m\u001B[43m,\u001B[49m\u001B[43m \u001B[49m\u001B[43mobj\u001B[49m\u001B[43m)\u001B[49m\n",
      "File \u001B[0;32m/opt/saturncloud/envs/saturn/lib/python3.10/site-packages/xgboost/training.py:215\u001B[0m, in \u001B[0;36mCVPack.update\u001B[0;34m(self, iteration, fobj)\u001B[0m\n\u001B[1;32m    213\u001B[0m \u001B[38;5;28;01mdef\u001B[39;00m \u001B[38;5;21mupdate\u001B[39m(\u001B[38;5;28mself\u001B[39m, iteration: \u001B[38;5;28mint\u001B[39m, fobj: Optional[Objective]) \u001B[38;5;241m-\u001B[39m\u001B[38;5;241m>\u001B[39m \u001B[38;5;28;01mNone\u001B[39;00m:\n\u001B[1;32m    214\u001B[0m \u001B[38;5;250m    \u001B[39m\u001B[38;5;124;03m\"\"\"\"Update the boosters for one iteration\"\"\"\u001B[39;00m\n\u001B[0;32m--> 215\u001B[0m     \u001B[38;5;28;43mself\u001B[39;49m\u001B[38;5;241;43m.\u001B[39;49m\u001B[43mbst\u001B[49m\u001B[38;5;241;43m.\u001B[39;49m\u001B[43mupdate\u001B[49m\u001B[43m(\u001B[49m\u001B[38;5;28;43mself\u001B[39;49m\u001B[38;5;241;43m.\u001B[39;49m\u001B[43mdtrain\u001B[49m\u001B[43m,\u001B[49m\u001B[43m \u001B[49m\u001B[43miteration\u001B[49m\u001B[43m,\u001B[49m\u001B[43m \u001B[49m\u001B[43mfobj\u001B[49m\u001B[43m)\u001B[49m\n",
      "File \u001B[0;32m/opt/saturncloud/envs/saturn/lib/python3.10/site-packages/xgboost/core.py:1918\u001B[0m, in \u001B[0;36mBooster.update\u001B[0;34m(self, dtrain, iteration, fobj)\u001B[0m\n\u001B[1;32m   1915\u001B[0m \u001B[38;5;28mself\u001B[39m\u001B[38;5;241m.\u001B[39m_validate_dmatrix_features(dtrain)\n\u001B[1;32m   1917\u001B[0m \u001B[38;5;28;01mif\u001B[39;00m fobj \u001B[38;5;129;01mis\u001B[39;00m \u001B[38;5;28;01mNone\u001B[39;00m:\n\u001B[0;32m-> 1918\u001B[0m     _check_call(\u001B[43m_LIB\u001B[49m\u001B[38;5;241;43m.\u001B[39;49m\u001B[43mXGBoosterUpdateOneIter\u001B[49m\u001B[43m(\u001B[49m\u001B[38;5;28;43mself\u001B[39;49m\u001B[38;5;241;43m.\u001B[39;49m\u001B[43mhandle\u001B[49m\u001B[43m,\u001B[49m\n\u001B[1;32m   1919\u001B[0m \u001B[43m                                            \u001B[49m\u001B[43mctypes\u001B[49m\u001B[38;5;241;43m.\u001B[39;49m\u001B[43mc_int\u001B[49m\u001B[43m(\u001B[49m\u001B[43miteration\u001B[49m\u001B[43m)\u001B[49m\u001B[43m,\u001B[49m\n\u001B[1;32m   1920\u001B[0m \u001B[43m                                            \u001B[49m\u001B[43mdtrain\u001B[49m\u001B[38;5;241;43m.\u001B[39;49m\u001B[43mhandle\u001B[49m\u001B[43m)\u001B[49m)\n\u001B[1;32m   1921\u001B[0m \u001B[38;5;28;01melse\u001B[39;00m:\n\u001B[1;32m   1922\u001B[0m     pred \u001B[38;5;241m=\u001B[39m \u001B[38;5;28mself\u001B[39m\u001B[38;5;241m.\u001B[39mpredict(dtrain, output_margin\u001B[38;5;241m=\u001B[39m\u001B[38;5;28;01mTrue\u001B[39;00m, training\u001B[38;5;241m=\u001B[39m\u001B[38;5;28;01mTrue\u001B[39;00m)\n",
      "\u001B[0;31mKeyboardInterrupt\u001B[0m: "
     ]
    }
   ],
   "source": [
    "best_params_subsets = {}\n",
    "validation_accuracies = {}\n",
    "\n",
    "for feature_name, feature_count in feature_structure.items():\n",
    "    print(f\"Running study for feature subset: {feature_name}\")\n",
    "    \n",
    "    # Prepare the data for this subset\n",
    "    X_sub_train = train_subsets[feature_name]\n",
    "    Y_sub_train = Y_train  # Y_train should be defined in your context\n",
    "\n",
    "    def subset_objective(trial):\n",
    "        return objective(trial, X_sub_train, Y_sub_train)\n",
    "\n",
    "    study = optuna.create_study(direction='minimize', study_name=f\"XGB_{feature_name}\")\n",
    "    study.optimize(subset_objective, n_trials=100)\n",
    "\n",
    "    best_params_subsets[feature_name] = study.best_trial.params\n",
    "\n",
    "    # # Merge train and validation subsets for final model retraining\n",
    "    # X_sub_train_val_combined = np.vstack((X_sub_train, val_subsets[feature_name]))\n",
    "    # Y_train_val_combined = np.concatenate((Y_train, Y_val))  # Assuming Y_val is defined\n",
    "    # \n",
    "    # # Retrain the model on the combined training and validation set with the best parameters\n",
    "    # dtrain_val_combined = xgb.DMatrix(X_sub_train_val_combined, label=Y_train_val_combined)\n",
    "    # Retrain model with optimal parameters with more boosting rounds\n",
    "    params = {\n",
    "        'objective': 'multi:softmax',\n",
    "        'num_class': 8,\n",
    "        **best_params_subsets[feature_name],  # Unpack the best parameters\n",
    "    }\n",
    "    final_model = xgb.train(params, X_sub_train, num_boost_round=10_000) # dtrain_val_combined\n",
    "\n",
    "    # Evaluate the final model on the validation set\n",
    "    dval = xgb.DMatrix(val_subsets[feature_name], label=Y_val)\n",
    "    preds = final_model.predict(dval)\n",
    "    val_accuracy = accuracy_score(Y_val, preds)\n",
    "    validation_accuracies[feature_name] = val_accuracy\n",
    "\n",
    "    # Save the final model\n",
    "    model_name = f'Models/XGBoost-Feature-Subsets/xgboost_{feature_name}_final.model'\n",
    "    final_model.save_model(model_name)\n",
    "\n",
    "    print(f\"Validation accuracy for {feature_name}: {val_accuracy}\")\n",
    "    "
   ]
  },
  {
   "cell_type": "markdown",
   "id": "2efb63d5965616a0",
   "metadata": {},
   "source": [
    "## Save Best Parameters "
   ]
  },
  {
   "cell_type": "code",
   "execution_count": null,
   "id": "8e6e929bc02c4985",
   "metadata": {
    "collapsed": false,
    "execution": {
     "iopub.status.busy": "2024-03-13T23:15:05.168875Z",
     "iopub.status.idle": "2024-03-13T23:15:05.169146Z",
     "shell.execute_reply": "2024-03-13T23:15:05.169030Z",
     "shell.execute_reply.started": "2024-03-13T23:15:05.169020Z"
    }
   },
   "outputs": [],
   "source": [
    "import json\n",
    "from datetime import datetime\n",
    "# Format the current date and time as a string\n",
    "timestamp = datetime.now().strftime(\"%Y-%m-%d_%H-%M-%S\")\n",
    "\n",
    "# Filenames with date and time\n",
    "filename_best_params = f\"best_params_subsets_{timestamp}.json\"\n",
    "filename_validation_accuracies = f\"validation_accuracies_{timestamp}.json\"\n",
    "\n",
    "# Save best_params_subsets\n",
    "with open(filename_best_params, 'w') as file:\n",
    "    json.dump(best_params_subsets, file, indent=4)\n",
    "\n",
    "# Save validation_accuracies\n",
    "with open(filename_validation_accuracies, 'w') as file:\n",
    "    json.dump(validation_accuracies, file, indent=4)\n"
   ]
  },
  {
   "cell_type": "markdown",
   "id": "d5b474af-86de-4958-9055-56c24bfbf44b",
   "metadata": {},
   "source": [
    "## Add, Commit, Push Tuning Results"
   ]
  },
  {
   "cell_type": "code",
   "execution_count": null,
   "id": "559603a0-c30e-4485-b774-858539edbc06",
   "metadata": {
    "execution": {
     "iopub.status.busy": "2024-03-13T23:15:05.170119Z",
     "iopub.status.idle": "2024-03-13T23:15:05.170360Z",
     "shell.execute_reply": "2024-03-13T23:15:05.170255Z",
     "shell.execute_reply.started": "2024-03-13T23:15:05.170246Z"
    },
    "tags": []
   },
   "outputs": [],
   "source": [
    "!git add .\n",
    "!git commit -m \"tuning completed\"\n",
    "!git push origin HEAD\n"
   ]
  },
  {
   "cell_type": "code",
   "outputs": [
    {
     "data": {
      "text/plain": "11"
     },
     "execution_count": 5,
     "metadata": {},
     "output_type": "execute_result"
    }
   ],
   "source": [
    "len(feature_structure)"
   ],
   "metadata": {
    "collapsed": false,
    "ExecuteTime": {
     "end_time": "2024-03-14T10:28:40.954680Z",
     "start_time": "2024-03-14T10:28:40.950957Z"
    }
   },
   "id": "48f50b70bf169bfd",
   "execution_count": 5
  },
  {
   "cell_type": "code",
   "outputs": [
    {
     "name": "stdout",
     "output_type": "stream",
     "text": [
      "{'chroma_cens': 84, 'chroma_cqt': 84, 'chroma_stft': 84, 'mfcc': 140, 'rmse': 7, 'spectral_bandwidth': 7, 'spectral_centroid': 7, 'spectral_contrast': 49, 'spectral_rolloff': 7, 'tonnetz': 42, 'zcr': 7}\n"
     ]
    }
   ],
   "source": [
    "print(feature_structure)"
   ],
   "metadata": {
    "collapsed": false,
    "ExecuteTime": {
     "end_time": "2024-03-14T10:28:49.094948Z",
     "start_time": "2024-03-14T10:28:49.092730Z"
    }
   },
   "id": "c95b61976bb503fd",
   "execution_count": 6
  },
  {
   "cell_type": "code",
   "outputs": [],
   "source": [],
   "metadata": {
    "collapsed": false
   },
   "id": "19b5a28ae732d12b"
  }
 ],
 "metadata": {
  "kernelspec": {
   "display_name": "saturn (Python 3)",
   "language": "python",
   "name": "python3"
  },
  "language_info": {
   "codemirror_mode": {
    "name": "ipython",
    "version": 3
   },
   "file_extension": ".py",
   "mimetype": "text/x-python",
   "name": "python",
   "nbconvert_exporter": "python",
   "pygments_lexer": "ipython3",
   "version": "3.10.13"
  }
 },
 "nbformat": 4,
 "nbformat_minor": 5
}
