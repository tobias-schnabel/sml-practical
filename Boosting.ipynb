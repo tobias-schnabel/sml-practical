{
 "cells": [
  {
   "cell_type": "code",
   "execution_count": 25,
   "id": "initial_id",
   "metadata": {
    "collapsed": true,
    "ExecuteTime": {
     "end_time": "2024-03-13T19:34:09.752918Z",
     "start_time": "2024-03-13T19:34:09.340588Z"
    }
   },
   "outputs": [
    {
     "name": "stdout",
     "output_type": "stream",
     "text": [
      "8 different classes: Electronic, Experimental, Folk, Hip-Hop, Instrumental, International, Pop or Rock.\n",
      "objective 1: construct a classifier which, based on the features of a song, predicts its genre\n",
      "objective 2: estimate its generalisation error under the 0–1 loss.\n",
      "Features are real-valued, correspond to summary statistics (mean, sd, skewness, kurtosis, median, min, max) of \n",
      "time series of various music features, such as the chromagram or the Mel-frequency cepstrum.\n",
      "Feature description: \n",
      "\n",
      "Feature description: \n",
      "chroma_cens: Chroma Energy Normalized (CENS, 12 chroma) - 84 features\n",
      "chroma_cqt: Constant-Q chromagram (12 chroma) - 84 features\n",
      "chroma_stft: Chromagram (12 chroma) - 84 features\n",
      "mfcc: Mel-frequency cepstrum (20 coefficients) - 140 features\n",
      "rmse: Root-mean-square - 7 features\n",
      "spectral_bandwidth: Spectral bandwidth - 7 features\n",
      "spectral_centroid: Spectral centroid - 7 features\n",
      "spectral_contrast: Spectral contrast (7 frequency bands) - 49 features\n",
      "spectral_rolloff: Roll-off frequency - 7 features\n",
      "tonnetz: Tonal centroid features (6 features) - 42 features\n",
      "zcr: Zero-crossing rate - 7 features\n",
      "x_train: 6000 rows on 518 columns\n",
      "Objects loaded: x_train, x_test, y_train as pd dataframes, x_train_np, x_test_np, y_train_np as NP arrays\n",
      "function generate_submission_csv(genre_predictions, filename='submission.csv') available\n"
     ]
    }
   ],
   "source": [
    "%run 'Setup.py'"
   ]
  },
  {
   "cell_type": "code",
   "outputs": [],
   "source": [
    "# Prepare data\n",
    "label_encoder = LabelEncoder()\n",
    "y_train_encoded = label_encoder.fit_transform(y_train_np.ravel()) #\n",
    "\n",
    "# Split training data into training and temporary validation sets\n",
    "X_train, X_temp, Y_train, Y_temp = train_test_split(x_train, y_train_encoded, test_size=0.4, random_state=42)\n",
    "\n",
    "# Split the temporary validation set into validation and fake test set\n",
    "X_val, X_test, Y_val, Y_test = train_test_split(X_temp, Y_temp, test_size=0.5, random_state=42)\n",
    "\n",
    "scaler = StandardScaler()\n",
    "X_train_scaled = scaler.fit_transform(X_train)\n",
    "X_val_scaled = scaler.transform(X_val)\n",
    "X_test_scaled = scaler.transform(X_test)  \n",
    "X_real_test_scaled = scaler.transform(x_test) # real test set we don't have labels for"
   ],
   "metadata": {
    "collapsed": false,
    "ExecuteTime": {
     "end_time": "2024-03-13T19:34:14.715829Z",
     "start_time": "2024-03-13T19:34:14.670084Z"
    }
   },
   "id": "253e8e93911b19bd",
   "execution_count": 26
  },
  {
   "cell_type": "code",
   "outputs": [],
   "source": [
    "def split_features_by_type(X, feature_structure):\n",
    "    \"\"\"\n",
    "    Splits the dataset into subsets based on the feature structure provided.\n",
    "\n",
    "    :param X: numpy array, the dataset to be split (features only)\n",
    "    :param feature_structure: dict, keys are feature names and values are the number of features of that type\n",
    "    :return: dict of feature subsets\n",
    "    \"\"\"\n",
    "    feature_subsets = {}\n",
    "    start_idx = 0\n",
    "    \n",
    "    for feature_name, feature_count in feature_structure.items():\n",
    "        end_idx = start_idx + feature_count\n",
    "        feature_subsets[feature_name] = X[:, start_idx:end_idx]\n",
    "        start_idx = end_idx\n",
    "    \n",
    "    return feature_subsets\n",
    "\n",
    "# Define the feature structure\n",
    "feature_structure = {\n",
    "    'chroma_cens': 84,\n",
    "    'chroma_cqt': 84,\n",
    "    'chroma_stft': 84,\n",
    "    'mfcc': 140,\n",
    "    'rmse': 7,\n",
    "    'spectral_bandwidth': 7,\n",
    "    'spectral_centroid': 7,\n",
    "    'spectral_contrast': 49,\n",
    "    'spectral_rolloff': 7,\n",
    "    'tonnetz': 42,\n",
    "    'zcr': 7\n",
    "}"
   ],
   "metadata": {
    "collapsed": false,
    "ExecuteTime": {
     "end_time": "2024-03-13T14:22:06.815228Z",
     "start_time": "2024-03-13T14:22:06.810363Z"
    }
   },
   "id": "9de5ce8bcfa2e8be",
   "execution_count": 3
  },
  {
   "cell_type": "markdown",
   "source": [
    "## Boosting"
   ],
   "metadata": {
    "collapsed": false
   },
   "id": "ec891d781b0e966a"
  },
  {
   "cell_type": "code",
   "outputs": [],
   "source": [
    "import optuna\n",
    "import xgboost as xgb\n",
    "from sklearn.metrics import accuracy_score\n",
    "\n",
    "def objective(trial):\n",
    "    # Hyperparameters to be tuned\n",
    "    params = {\n",
    "        'objective': 'multi:softmax',\n",
    "        'num_class': 8,\n",
    "        'max_depth': trial.suggest_int('max_depth', 3, 100),\n",
    "        'eta': trial.suggest_float('eta', 0.01, 0.4),\n",
    "        'subsample': trial.suggest_float('subsample', 0.6, 1.0),\n",
    "        'colsample_bytree': trial.suggest_float('colsample_bytree', 0.6, 1.0),\n",
    "    }\n",
    "\n",
    "    # Convert the dataset into DMatrix form\n",
    "    dtrain = xgb.DMatrix(X_train_scaled, label=Y_train)\n",
    "    dval = xgb.DMatrix(X_val_scaled, label=Y_val)\n",
    "\n",
    "    # List to hold the validation sets\n",
    "    evals = [(dtrain, 'train'), (dval, 'validation')]\n",
    "    model = xgb.train(params, dtrain, num_boost_round=5_000, evals=evals,\n",
    "                      early_stopping_rounds=25, verbose_eval=False)\n",
    "\n",
    "    # Predictions on the validation set\n",
    "    preds = model.predict(dval)\n",
    "    accuracy = accuracy_score(Y_val, preds)\n",
    "\n",
    "    return accuracy"
   ],
   "metadata": {
    "collapsed": false,
    "ExecuteTime": {
     "end_time": "2024-03-13T16:27:55.794673Z",
     "start_time": "2024-03-13T16:27:55.784619Z"
    }
   },
   "id": "e6f6fc5050071769",
   "execution_count": 13
  },
  {
   "cell_type": "code",
   "outputs": [
    {
     "name": "stderr",
     "output_type": "stream",
     "text": [
      "[I 2024-03-13 16:27:57,113] A new study created in memory with name: XGB\n",
      "[I 2024-03-13 16:28:14,380] Trial 0 finished with value: 0.5658333333333333 and parameters: {'max_depth': 49, 'eta': 0.22468942740980324, 'subsample': 0.8795250041220241, 'colsample_bytree': 0.9351923036898544}. Best is trial 0 with value: 0.5658333333333333.\n",
      "[I 2024-03-13 16:32:12,545] Trial 1 finished with value: 0.5691666666666667 and parameters: {'max_depth': 73, 'eta': 0.011364781099888269, 'subsample': 0.9167484610898501, 'colsample_bytree': 0.8059351842647398}. Best is trial 1 with value: 0.5691666666666667.\n",
      "[I 2024-03-13 16:32:31,146] Trial 2 finished with value: 0.5783333333333334 and parameters: {'max_depth': 68, 'eta': 0.17474434186893512, 'subsample': 0.7662150483698524, 'colsample_bytree': 0.8148551507175649}. Best is trial 2 with value: 0.5783333333333334.\n",
      "[I 2024-03-13 16:35:57,233] Trial 3 finished with value: 0.5716666666666667 and parameters: {'max_depth': 65, 'eta': 0.014772979634822636, 'subsample': 0.7930194261477599, 'colsample_bytree': 0.9962140723197708}. Best is trial 2 with value: 0.5783333333333334.\n",
      "[I 2024-03-13 16:36:14,508] Trial 4 finished with value: 0.5716666666666667 and parameters: {'max_depth': 17, 'eta': 0.19801154991636255, 'subsample': 0.66584363262319, 'colsample_bytree': 0.8722814739594841}. Best is trial 2 with value: 0.5783333333333334.\n",
      "[I 2024-03-13 16:36:28,478] Trial 5 finished with value: 0.5525 and parameters: {'max_depth': 55, 'eta': 0.30274723685518495, 'subsample': 0.6917764655764566, 'colsample_bytree': 0.9124993274742879}. Best is trial 2 with value: 0.5783333333333334.\n",
      "[I 2024-03-13 16:36:41,568] Trial 6 finished with value: 0.5658333333333333 and parameters: {'max_depth': 53, 'eta': 0.2820240299132903, 'subsample': 0.6568955865842915, 'colsample_bytree': 0.8144050324914323}. Best is trial 2 with value: 0.5783333333333334.\n",
      "[I 2024-03-13 16:37:16,369] Trial 7 finished with value: 0.5816666666666667 and parameters: {'max_depth': 11, 'eta': 0.06538044563573273, 'subsample': 0.8658165460956389, 'colsample_bytree': 0.7871061107388062}. Best is trial 7 with value: 0.5816666666666667.\n",
      "[I 2024-03-13 16:38:32,464] Trial 8 finished with value: 0.58 and parameters: {'max_depth': 20, 'eta': 0.032592705752530586, 'subsample': 0.8127403755630815, 'colsample_bytree': 0.6330790769468417}. Best is trial 7 with value: 0.5816666666666667.\n",
      "[I 2024-03-13 16:38:49,724] Trial 9 finished with value: 0.5741666666666667 and parameters: {'max_depth': 45, 'eta': 0.16296542182929563, 'subsample': 0.8318321120310659, 'colsample_bytree': 0.6619088840118212}. Best is trial 7 with value: 0.5816666666666667.\n",
      "[I 2024-03-13 16:38:58,703] Trial 10 finished with value: 0.5491666666666667 and parameters: {'max_depth': 97, 'eta': 0.3847985925761942, 'subsample': 0.9969576878854952, 'colsample_bytree': 0.7149085640017177}. Best is trial 7 with value: 0.5816666666666667.\n",
      "[I 2024-03-13 16:39:15,837] Trial 11 finished with value: 0.5783333333333334 and parameters: {'max_depth': 3, 'eta': 0.09114021774821432, 'subsample': 0.9052225960635358, 'colsample_bytree': 0.6020397505180768}. Best is trial 7 with value: 0.5816666666666667.\n",
      "[I 2024-03-13 16:39:44,792] Trial 12 finished with value: 0.5758333333333333 and parameters: {'max_depth': 27, 'eta': 0.08881957022704967, 'subsample': 0.7412836084751715, 'colsample_bytree': 0.7252732047947971}. Best is trial 7 with value: 0.5816666666666667.\n",
      "[I 2024-03-13 16:40:15,701] Trial 13 finished with value: 0.5733333333333334 and parameters: {'max_depth': 26, 'eta': 0.08643813290166688, 'subsample': 0.8387498112135459, 'colsample_bytree': 0.7421698898836154}. Best is trial 7 with value: 0.5816666666666667.\n",
      "[I 2024-03-13 16:40:48,739] Trial 14 finished with value: 0.5725 and parameters: {'max_depth': 3, 'eta': 0.062110829570075715, 'subsample': 0.9738123560776022, 'colsample_bytree': 0.6248942101043617}. Best is trial 7 with value: 0.5816666666666667.\n",
      "[I 2024-03-13 16:41:10,045] Trial 15 finished with value: 0.5733333333333334 and parameters: {'max_depth': 17, 'eta': 0.13244995424999018, 'subsample': 0.7288597991915768, 'colsample_bytree': 0.6746842080436029}. Best is trial 7 with value: 0.5816666666666667.\n",
      "[I 2024-03-13 16:42:11,753] Trial 16 finished with value: 0.5766666666666667 and parameters: {'max_depth': 37, 'eta': 0.04756369925742008, 'subsample': 0.8371507404629992, 'colsample_bytree': 0.743520972283647}. Best is trial 7 with value: 0.5816666666666667.\n",
      "[I 2024-03-13 16:42:37,407] Trial 17 finished with value: 0.5683333333333334 and parameters: {'max_depth': 15, 'eta': 0.12819498556307174, 'subsample': 0.9433310397167319, 'colsample_bytree': 0.8671759139666245}. Best is trial 7 with value: 0.5816666666666667.\n",
      "[I 2024-03-13 16:43:00,194] Trial 18 finished with value: 0.5791666666666667 and parameters: {'max_depth': 35, 'eta': 0.12467426524007244, 'subsample': 0.8602646706877168, 'colsample_bytree': 0.6504124573040229}. Best is trial 7 with value: 0.5816666666666667.\n",
      "[I 2024-03-13 16:43:12,873] Trial 19 finished with value: 0.5583333333333333 and parameters: {'max_depth': 85, 'eta': 0.23674864822021982, 'subsample': 0.6126814298347152, 'colsample_bytree': 0.7743603772777318}. Best is trial 7 with value: 0.5816666666666667.\n",
      "[I 2024-03-13 16:44:16,981] Trial 20 finished with value: 0.585 and parameters: {'max_depth': 10, 'eta': 0.0360235051946516, 'subsample': 0.7993397405332165, 'colsample_bytree': 0.6862104191722568}. Best is trial 20 with value: 0.585.\n",
      "[I 2024-03-13 16:45:05,453] Trial 21 finished with value: 0.5783333333333334 and parameters: {'max_depth': 12, 'eta': 0.046629423344799775, 'subsample': 0.7943502185712589, 'colsample_bytree': 0.6877620916086273}. Best is trial 20 with value: 0.585.\n",
      "[I 2024-03-13 16:47:51,822] Trial 22 finished with value: 0.5808333333333333 and parameters: {'max_depth': 26, 'eta': 0.012226216570894205, 'subsample': 0.7994969941451133, 'colsample_bytree': 0.6266808393298825}. Best is trial 20 with value: 0.585.\n",
      "[I 2024-03-13 16:48:18,133] Trial 23 finished with value: 0.5641666666666667 and parameters: {'max_depth': 9, 'eta': 0.061924714087846035, 'subsample': 0.7708281078236174, 'colsample_bytree': 0.6043808014253612}. Best is trial 20 with value: 0.585.\n",
      "[I 2024-03-13 16:48:47,847] Trial 24 finished with value: 0.5675 and parameters: {'max_depth': 30, 'eta': 0.10114090484491542, 'subsample': 0.8774782104728087, 'colsample_bytree': 0.6973474417720702}. Best is trial 20 with value: 0.585.\n",
      "[I 2024-03-13 16:50:35,572] Trial 25 finished with value: 0.5825 and parameters: {'max_depth': 40, 'eta': 0.024643176547301228, 'subsample': 0.7195979208762271, 'colsample_bytree': 0.7690817451778094}. Best is trial 20 with value: 0.585.\n",
      "[I 2024-03-13 16:51:20,130] Trial 26 finished with value: 0.5716666666666667 and parameters: {'max_depth': 38, 'eta': 0.06605502822659273, 'subsample': 0.7138461112210992, 'colsample_bytree': 0.7762801823868141}. Best is trial 20 with value: 0.585.\n",
      "[I 2024-03-13 16:51:42,920] Trial 27 finished with value: 0.5733333333333334 and parameters: {'max_depth': 41, 'eta': 0.15625161156169584, 'subsample': 0.7558879317066993, 'colsample_bytree': 0.768606181219768}. Best is trial 20 with value: 0.585.\n",
      "[I 2024-03-13 16:52:59,148] Trial 28 finished with value: 0.5825 and parameters: {'max_depth': 61, 'eta': 0.03591085283816047, 'subsample': 0.6963108175232924, 'colsample_bytree': 0.8466049981565724}. Best is trial 20 with value: 0.585.\n",
      "[I 2024-03-13 16:53:08,599] Trial 29 finished with value: 0.5408333333333334 and parameters: {'max_depth': 64, 'eta': 0.3770815530740445, 'subsample': 0.6012730207073993, 'colsample_bytree': 0.892544376693964}. Best is trial 20 with value: 0.585.\n",
      "[I 2024-03-13 16:54:15,330] Trial 30 finished with value: 0.5716666666666667 and parameters: {'max_depth': 58, 'eta': 0.03949913208709648, 'subsample': 0.6972646780110499, 'colsample_bytree': 0.8305282141541377}. Best is trial 20 with value: 0.585.\n",
      "[I 2024-03-13 16:54:50,965] Trial 31 finished with value: 0.5675 and parameters: {'max_depth': 77, 'eta': 0.07316819508124799, 'subsample': 0.6532052166794218, 'colsample_bytree': 0.8458870472742794}. Best is trial 20 with value: 0.585.\n",
      "[I 2024-03-13 16:56:53,802] Trial 32 finished with value: 0.5725 and parameters: {'max_depth': 47, 'eta': 0.026563665440341833, 'subsample': 0.8999270063610574, 'colsample_bytree': 0.9557474132745393}. Best is trial 20 with value: 0.585.\n",
      "[I 2024-03-13 16:57:20,178] Trial 33 finished with value: 0.5766666666666667 and parameters: {'max_depth': 77, 'eta': 0.11068964103616016, 'subsample': 0.6277615111083674, 'colsample_bytree': 0.8504565483450254}. Best is trial 20 with value: 0.585.\n",
      "[I 2024-03-13 17:00:22,273] Trial 34 finished with value: 0.5775 and parameters: {'max_depth': 59, 'eta': 0.013481820736024025, 'subsample': 0.6999775348372625, 'colsample_bytree': 0.7932465503634961}. Best is trial 20 with value: 0.585.\n",
      "[I 2024-03-13 17:01:02,830] Trial 35 finished with value: 0.5633333333333334 and parameters: {'max_depth': 9, 'eta': 0.05312853322382976, 'subsample': 0.9375360384885832, 'colsample_bytree': 0.7930978187561959}. Best is trial 20 with value: 0.585.\n",
      "[I 2024-03-13 17:02:09,116] Trial 36 finished with value: 0.5775 and parameters: {'max_depth': 21, 'eta': 0.036259092433363865, 'subsample': 0.7699606101644798, 'colsample_bytree': 0.7478674931700249}. Best is trial 20 with value: 0.585.\n",
      "[I 2024-03-13 17:02:24,920] Trial 37 finished with value: 0.5633333333333334 and parameters: {'max_depth': 69, 'eta': 0.23306013229724026, 'subsample': 0.7294336790945215, 'colsample_bytree': 0.8237791395479339}. Best is trial 20 with value: 0.585.\n",
      "[I 2024-03-13 17:02:41,422] Trial 38 finished with value: 0.5733333333333334 and parameters: {'max_depth': 8, 'eta': 0.1997114751228381, 'subsample': 0.8576817975776552, 'colsample_bytree': 0.9285963676437385}. Best is trial 20 with value: 0.585.\n",
      "[I 2024-03-13 17:03:16,581] Trial 39 finished with value: 0.5825 and parameters: {'max_depth': 51, 'eta': 0.07566280843221337, 'subsample': 0.6810166376471888, 'colsample_bytree': 0.8841102020436395}. Best is trial 20 with value: 0.585.\n",
      "[I 2024-03-13 17:03:41,320] Trial 40 finished with value: 0.5816666666666667 and parameters: {'max_depth': 52, 'eta': 0.1503174322430744, 'subsample': 0.6757626566283009, 'colsample_bytree': 0.9862163694855433}. Best is trial 20 with value: 0.585.\n",
      "[I 2024-03-13 17:04:20,326] Trial 41 finished with value: 0.5791666666666667 and parameters: {'max_depth': 43, 'eta': 0.07319539174756695, 'subsample': 0.6379003330048917, 'colsample_bytree': 0.887391866398428}. Best is trial 20 with value: 0.585.\n",
      "[I 2024-03-13 17:08:14,002] Trial 42 finished with value: 0.5808333333333333 and parameters: {'max_depth': 61, 'eta': 0.011486022043424776, 'subsample': 0.6858574552487217, 'colsample_bytree': 0.9056875723763448}. Best is trial 20 with value: 0.585.\n",
      "[I 2024-03-13 17:09:56,311] Trial 43 finished with value: 0.5775 and parameters: {'max_depth': 50, 'eta': 0.02630386699674143, 'subsample': 0.8180127415563285, 'colsample_bytree': 0.8622954126177783}. Best is trial 20 with value: 0.585.\n",
      "[I 2024-03-13 17:10:23,912] Trial 44 finished with value: 0.5816666666666667 and parameters: {'max_depth': 71, 'eta': 0.1083071229227818, 'subsample': 0.6603564360631126, 'colsample_bytree': 0.7992730576395918}. Best is trial 20 with value: 0.585.\n",
      "[I 2024-03-13 17:10:59,655] Trial 45 finished with value: 0.5733333333333334 and parameters: {'max_depth': 22, 'eta': 0.08328071538038992, 'subsample': 0.7121448821993179, 'colsample_bytree': 0.841914942240495}. Best is trial 20 with value: 0.585.\n",
      "[I 2024-03-13 17:12:27,155] Trial 46 finished with value: 0.5783333333333334 and parameters: {'max_depth': 32, 'eta': 0.03281704646892015, 'subsample': 0.7511658285655106, 'colsample_bytree': 0.7219417782939677}. Best is trial 20 with value: 0.585.\n",
      "[I 2024-03-13 17:12:42,795] Trial 47 finished with value: 0.5725 and parameters: {'max_depth': 54, 'eta': 0.2593381713551967, 'subsample': 0.6778255904056082, 'colsample_bytree': 0.8142504063147117}. Best is trial 20 with value: 0.585.\n",
      "[I 2024-03-13 17:13:02,555] Trial 48 finished with value: 0.5791666666666667 and parameters: {'max_depth': 64, 'eta': 0.1789409259864659, 'subsample': 0.7218206950857561, 'colsample_bytree': 0.7064184377937851}. Best is trial 20 with value: 0.585.\n",
      "[I 2024-03-13 17:13:57,026] Trial 49 finished with value: 0.5608333333333333 and parameters: {'max_depth': 96, 'eta': 0.059362146166335145, 'subsample': 0.6438868005208004, 'colsample_bytree': 0.7570624409362121}. Best is trial 20 with value: 0.585.\n",
      "[I 2024-03-13 17:14:07,516] Trial 50 finished with value: 0.57 and parameters: {'max_depth': 5, 'eta': 0.3024657037005002, 'subsample': 0.7860654820980049, 'colsample_bytree': 0.8856090153051309}. Best is trial 20 with value: 0.585.\n",
      "[I 2024-03-13 17:14:35,933] Trial 51 finished with value: 0.5725 and parameters: {'max_depth': 52, 'eta': 0.14742486201423055, 'subsample': 0.6691224743676168, 'colsample_bytree': 0.9888740793574404}. Best is trial 20 with value: 0.585.\n",
      "[I 2024-03-13 17:15:22,618] Trial 52 finished with value: 0.5775 and parameters: {'max_depth': 56, 'eta': 0.0940098674122844, 'subsample': 0.7433249628293129, 'colsample_bytree': 0.9483852165396438}. Best is trial 20 with value: 0.585.\n",
      "[I 2024-03-13 17:15:44,386] Trial 53 finished with value: 0.5683333333333334 and parameters: {'max_depth': 49, 'eta': 0.17783682909334142, 'subsample': 0.6775020625149308, 'colsample_bytree': 0.9972016618062279}. Best is trial 20 with value: 0.585.\n",
      "[I 2024-03-13 17:16:41,291] Trial 54 finished with value: 0.5691666666666667 and parameters: {'max_depth': 43, 'eta': 0.07809774258827086, 'subsample': 0.7038817908639808, 'colsample_bytree': 0.9663558087676112}. Best is trial 20 with value: 0.585.\n",
      "[I 2024-03-13 17:17:14,503] Trial 55 finished with value: 0.5616666666666666 and parameters: {'max_depth': 16, 'eta': 0.120411324814191, 'subsample': 0.8144804514490496, 'colsample_bytree': 0.9254106383290738}. Best is trial 20 with value: 0.585.\n",
      "[I 2024-03-13 17:18:29,015] Trial 56 finished with value: 0.5766666666666667 and parameters: {'max_depth': 46, 'eta': 0.045372245151442364, 'subsample': 0.7331539588078426, 'colsample_bytree': 0.7301910088711416}. Best is trial 20 with value: 0.585.\n",
      "[I 2024-03-13 17:20:44,514] Trial 57 finished with value: 0.5725 and parameters: {'max_depth': 61, 'eta': 0.024638107954683974, 'subsample': 0.8882989706923221, 'colsample_bytree': 0.6598550360238566}. Best is trial 20 with value: 0.585.\n",
      "[I 2024-03-13 17:21:40,525] Trial 58 finished with value: 0.5741666666666667 and parameters: {'max_depth': 12, 'eta': 0.05241852551709196, 'subsample': 0.8514127532272057, 'colsample_bytree': 0.7848743427860871}. Best is trial 20 with value: 0.585.\n",
      "[I 2024-03-13 17:22:00,978] Trial 59 finished with value: 0.555 and parameters: {'max_depth': 40, 'eta': 0.21443544595761888, 'subsample': 0.9354363337650258, 'colsample_bytree': 0.9773532515090799}. Best is trial 20 with value: 0.585.\n",
      "[I 2024-03-13 17:22:29,151] Trial 60 finished with value: 0.5691666666666667 and parameters: {'max_depth': 34, 'eta': 0.14720138207147374, 'subsample': 0.6857826901447809, 'colsample_bytree': 0.8077843049581211}. Best is trial 20 with value: 0.585.\n",
      "[I 2024-03-13 17:22:57,686] Trial 61 finished with value: 0.5791666666666667 and parameters: {'max_depth': 70, 'eta': 0.10557695528806288, 'subsample': 0.6603646693331274, 'colsample_bytree': 0.8265526360324472}. Best is trial 20 with value: 0.585.\n",
      "[I 2024-03-13 17:23:22,472] Trial 62 finished with value: 0.5658333333333333 and parameters: {'max_depth': 73, 'eta': 0.11394285196774057, 'subsample': 0.6211881933725663, 'colsample_bytree': 0.7618598684278152}. Best is trial 20 with value: 0.585.\n",
      "[I 2024-03-13 17:23:44,131] Trial 63 finished with value: 0.565 and parameters: {'max_depth': 80, 'eta': 0.13996167846435498, 'subsample': 0.6674679879763815, 'colsample_bytree': 0.7975342726242683}. Best is trial 20 with value: 0.585.\n",
      "[I 2024-03-13 17:24:13,655] Trial 64 finished with value: 0.5658333333333333 and parameters: {'max_depth': 67, 'eta': 0.09617994161289721, 'subsample': 0.641106543025159, 'colsample_bytree': 0.861477255453383}. Best is trial 20 with value: 0.585.\n",
      "[I 2024-03-13 17:27:40,880] Trial 65 finished with value: 0.5766666666666667 and parameters: {'max_depth': 90, 'eta': 0.06670957292276605, 'subsample': 0.7852683052700605, 'colsample_bytree': 0.6866491675278975}. Best is trial 20 with value: 0.585.\n",
      "[I 2024-03-13 17:28:31,859] Trial 66 finished with value: 0.57 and parameters: {'max_depth': 73, 'eta': 0.08142011469985293, 'subsample': 0.6566055248290161, 'colsample_bytree': 0.8378862899231222}. Best is trial 20 with value: 0.585.\n",
      "[I 2024-03-13 17:28:54,104] Trial 67 finished with value: 0.5591666666666667 and parameters: {'max_depth': 57, 'eta': 0.16669080180708454, 'subsample': 0.7171593968962031, 'colsample_bytree': 0.7841851581692751}. Best is trial 20 with value: 0.585.\n",
      "[I 2024-03-13 17:30:43,026] Trial 68 finished with value: 0.5658333333333333 and parameters: {'max_depth': 53, 'eta': 0.0409333371080166, 'subsample': 0.8740989155435472, 'colsample_bytree': 0.9091768484039287}. Best is trial 20 with value: 0.585.\n",
      "[I 2024-03-13 17:30:53,430] Trial 69 finished with value: 0.5508333333333333 and parameters: {'max_depth': 61, 'eta': 0.3689512160558949, 'subsample': 0.9183742238199106, 'colsample_bytree': 0.8754887743276858}. Best is trial 20 with value: 0.585.\n",
      "[I 2024-03-13 17:43:22,914] Trial 70 finished with value: 0.5825 and parameters: {'max_depth': 24, 'eta': 0.02312603649791308, 'subsample': 0.6910921945688799, 'colsample_bytree': 0.8110814872451424}. Best is trial 20 with value: 0.585.\n",
      "[I 2024-03-13 17:45:49,762] Trial 71 finished with value: 0.5791666666666667 and parameters: {'max_depth': 23, 'eta': 0.023300317080029737, 'subsample': 0.6909692472177495, 'colsample_bytree': 0.8505654941042716}. Best is trial 20 with value: 0.585.\n",
      "[I 2024-03-13 17:46:45,454] Trial 72 finished with value: 0.5866666666666667 and parameters: {'max_depth': 12, 'eta': 0.05879685528115675, 'subsample': 0.7038036539646736, 'colsample_bytree': 0.817242799129062}. Best is trial 72 with value: 0.5866666666666667.\n",
      "[I 2024-03-13 17:47:48,846] Trial 73 finished with value: 0.5791666666666667 and parameters: {'max_depth': 29, 'eta': 0.05295412441207437, 'subsample': 0.7093038244735432, 'colsample_bytree': 0.8168216251466663}. Best is trial 72 with value: 0.5866666666666667.\n",
      "[I 2024-03-13 17:50:11,920] Trial 74 finished with value: 0.5775 and parameters: {'max_depth': 13, 'eta': 0.02008360835848734, 'subsample': 0.6856142569283075, 'colsample_bytree': 0.8083305326297313}. Best is trial 72 with value: 0.5866666666666667.\n",
      "[I 2024-03-13 17:51:04,971] Trial 75 finished with value: 0.5725 and parameters: {'max_depth': 7, 'eta': 0.040794174009693304, 'subsample': 0.7009098200994295, 'colsample_bytree': 0.8319621275906562}. Best is trial 72 with value: 0.5866666666666667.\n",
      "[I 2024-03-13 17:51:51,722] Trial 76 finished with value: 0.5633333333333334 and parameters: {'max_depth': 19, 'eta': 0.06564432604624011, 'subsample': 0.8262965922147376, 'colsample_bytree': 0.7748221471912137}. Best is trial 72 with value: 0.5866666666666667.\n",
      "[I 2024-03-13 17:52:26,669] Trial 77 finished with value: 0.5741666666666667 and parameters: {'max_depth': 3, 'eta': 0.05646237134022737, 'subsample': 0.7603035519494404, 'colsample_bytree': 0.7456117903499171}. Best is trial 72 with value: 0.5866666666666667.\n",
      "[I 2024-03-13 17:54:07,395] Trial 78 finished with value: 0.5741666666666667 and parameters: {'max_depth': 13, 'eta': 0.030969391157860147, 'subsample': 0.7445530984114912, 'colsample_bytree': 0.855346099995111}. Best is trial 72 with value: 0.5866666666666667.\n",
      "[I 2024-03-13 17:56:55,698] Trial 79 finished with value: 0.5841666666666666 and parameters: {'max_depth': 18, 'eta': 0.01646304357531779, 'subsample': 0.6753048342187901, 'colsample_bytree': 0.786007552965208}. Best is trial 72 with value: 0.5866666666666667.\n",
      "[I 2024-03-13 18:00:02,798] Trial 80 finished with value: 0.5816666666666667 and parameters: {'max_depth': 18, 'eta': 0.015842743389065623, 'subsample': 0.7215724618043223, 'colsample_bytree': 0.6399588933947193}. Best is trial 72 with value: 0.5866666666666667.\n",
      "[I 2024-03-13 18:01:22,779] Trial 81 finished with value: 0.585 and parameters: {'max_depth': 10, 'eta': 0.03483982330626953, 'subsample': 0.6732746582341631, 'colsample_bytree': 0.8211409718724977}. Best is trial 72 with value: 0.5866666666666667.\n",
      "[I 2024-03-13 18:02:56,515] Trial 82 finished with value: 0.5841666666666666 and parameters: {'max_depth': 11, 'eta': 0.03099115718974484, 'subsample': 0.6487552467396632, 'colsample_bytree': 0.8189947230860739}. Best is trial 72 with value: 0.5866666666666667.\n",
      "[I 2024-03-13 18:07:54,454] Trial 83 finished with value: 0.5775 and parameters: {'max_depth': 25, 'eta': 0.010640780157976506, 'subsample': 0.6764084053182787, 'colsample_bytree': 0.8160776605796285}. Best is trial 72 with value: 0.5866666666666667.\n",
      "[I 2024-03-13 18:08:57,552] Trial 84 finished with value: 0.5725 and parameters: {'max_depth': 15, 'eta': 0.039510579247972855, 'subsample': 0.6493981239444434, 'colsample_bytree': 0.8778687245101126}. Best is trial 72 with value: 0.5866666666666667.\n",
      "[I 2024-03-13 18:10:09,715] Trial 85 finished with value: 0.5825 and parameters: {'max_depth': 10, 'eta': 0.03218291432634184, 'subsample': 0.6224338642693771, 'colsample_bytree': 0.8969446335534773}. Best is trial 72 with value: 0.5866666666666667.\n",
      "[I 2024-03-13 18:10:55,634] Trial 86 finished with value: 0.5875 and parameters: {'max_depth': 7, 'eta': 0.04842404379213268, 'subsample': 0.6319894057470088, 'colsample_bytree': 0.839924916573817}. Best is trial 86 with value: 0.5875.\n",
      "[I 2024-03-13 18:11:38,888] Trial 87 finished with value: 0.5791666666666667 and parameters: {'max_depth': 6, 'eta': 0.047810000877990685, 'subsample': 0.6345006938001748, 'colsample_bytree': 0.8337212288259572}. Best is trial 86 with value: 0.5875.\n",
      "[I 2024-03-13 18:12:10,579] Trial 88 finished with value: 0.5866666666666667 and parameters: {'max_depth': 5, 'eta': 0.0651132298030752, 'subsample': 0.6310940713170161, 'colsample_bytree': 0.8239365284136942}. Best is trial 86 with value: 0.5875.\n",
      "[I 2024-03-13 18:12:44,057] Trial 89 finished with value: 0.575 and parameters: {'max_depth': 4, 'eta': 0.06719656083223276, 'subsample': 0.6092061798848672, 'colsample_bytree': 0.8214805643936162}. Best is trial 86 with value: 0.5875.\n",
      "[I 2024-03-13 18:14:14,653] Trial 90 finished with value: 0.5816666666666667 and parameters: {'max_depth': 9, 'eta': 0.03399922508107675, 'subsample': 0.630404948220239, 'colsample_bytree': 0.8408130685978357}. Best is trial 86 with value: 0.5875.\n",
      "[I 2024-03-13 18:14:57,579] Trial 91 finished with value: 0.5708333333333333 and parameters: {'max_depth': 15, 'eta': 0.07264300590632167, 'subsample': 0.6125871407697732, 'colsample_bytree': 0.8680606141214015}. Best is trial 86 with value: 0.5875.\n",
      "[I 2024-03-13 18:15:46,971] Trial 92 finished with value: 0.5641666666666667 and parameters: {'max_depth': 11, 'eta': 0.05694100798487514, 'subsample': 0.6463798573874866, 'colsample_bytree': 0.8008814761030071}. Best is trial 86 with value: 0.5875.\n",
      "[I 2024-03-13 18:16:45,907] Trial 93 finished with value: 0.5758333333333333 and parameters: {'max_depth': 7, 'eta': 0.043008216111604984, 'subsample': 0.6588523354159076, 'colsample_bytree': 0.8559475633399912}. Best is trial 86 with value: 0.5875.\n",
      "[I 2024-03-13 18:17:59,684] Trial 94 finished with value: 0.5808333333333333 and parameters: {'max_depth': 20, 'eta': 0.0490014963818097, 'subsample': 0.6024774456721469, 'colsample_bytree': 0.8261720414960682}. Best is trial 86 with value: 0.5875.\n",
      "[I 2024-03-13 18:20:22,307] Trial 95 finished with value: 0.5775 and parameters: {'max_depth': 14, 'eta': 0.020205344933093446, 'subsample': 0.6241715255244389, 'colsample_bytree': 0.7842907075404816}. Best is trial 86 with value: 0.5875.\n",
      "[I 2024-03-13 18:21:24,636] Trial 96 finished with value: 0.5833333333333334 and parameters: {'max_depth': 5, 'eta': 0.030639392808018105, 'subsample': 0.6682527977953734, 'colsample_bytree': 0.8455493431733432}. Best is trial 86 with value: 0.5875.\n",
      "[I 2024-03-13 18:24:15,885] Trial 97 finished with value: 0.5858333333333333 and parameters: {'max_depth': 5, 'eta': 0.010362882988866163, 'subsample': 0.6723048328278486, 'colsample_bytree': 0.8475685537373979}. Best is trial 86 with value: 0.5875.\n",
      "[I 2024-03-13 18:26:05,070] Trial 98 finished with value: 0.585 and parameters: {'max_depth': 5, 'eta': 0.015981808506125284, 'subsample': 0.6706570944488217, 'colsample_bytree': 0.8027445853621774}. Best is trial 86 with value: 0.5875.\n",
      "[I 2024-03-13 18:28:11,540] Trial 99 finished with value: 0.5825 and parameters: {'max_depth': 5, 'eta': 0.011791422705412904, 'subsample': 0.6698877725228847, 'colsample_bytree': 0.6127427570789542}. Best is trial 86 with value: 0.5875.\n"
     ]
    }
   ],
   "source": [
    "study = optuna.create_study(direction='maximize', study_name=\"XGB\")\n",
    "study.optimize(objective, n_trials=100)"
   ],
   "metadata": {
    "collapsed": false,
    "ExecuteTime": {
     "end_time": "2024-03-13T18:28:11.542502Z",
     "start_time": "2024-03-13T16:27:57.111874Z"
    }
   },
   "id": "b8eab0227911cb99",
   "execution_count": 14
  },
  {
   "cell_type": "code",
   "outputs": [
    {
     "name": "stdout",
     "output_type": "stream",
     "text": [
      "Best trial: {'max_depth': 7, 'eta': 0.04842404379213268, 'subsample': 0.6319894057470088, 'colsample_bytree': 0.839924916573817}\n",
      "Test set accuracy: 0.64\n"
     ]
    }
   ],
   "source": [
    "best_params = study.best_trial.params\n",
    "print('Best trial:', study.best_trial.params)\n",
    "params = {\n",
    "        'objective': 'multi:softmax',\n",
    "        'num_class': 8,\n",
    "    }\n",
    "\n",
    "# Update model parameters\n",
    "params.update(best_params)\n",
    "\n",
    "# Merge train and val set to retrain on maximal amount of data possible\n",
    "X_train_val_combined = np.vstack((X_train_scaled, X_val_scaled))\n",
    "Y_train_val_combined = np.concatenate((Y_train, Y_val))\n",
    "\n",
    "# Convert the combined dataset into DMatrix form for XGBoost\n",
    "dtrain_val_combined = xgb.DMatrix(X_train_val_combined, label=Y_train_val_combined)\n",
    "\n",
    "# Retrain the model on the full dataset with the best parameters\n",
    "final_model = xgb.train(params, dtrain_val_combined, num_boost_round=10_000) # 5,000\n",
    "\n",
    "# Evaluate on the fake test set\n",
    "dtest = xgb.DMatrix(X_test_scaled)\n",
    "test_preds = final_model.predict(dtest)\n",
    "test_accuracy = accuracy_score(Y_test, test_preds)\n",
    "print(f\"Test set accuracy: {test_accuracy}\")"
   ],
   "metadata": {
    "collapsed": false,
    "ExecuteTime": {
     "end_time": "2024-03-13T18:39:20.999548Z",
     "start_time": "2024-03-13T18:28:52.232924Z"
    }
   },
   "id": "be237dadc7f00384",
   "execution_count": 16
  },
  {
   "cell_type": "code",
   "outputs": [],
   "source": [
    "# If worht it, save model:\n",
    "final_model.save_model('Models/xgboost-64%-all-data')"
   ],
   "metadata": {
    "collapsed": false,
    "ExecuteTime": {
     "end_time": "2024-03-13T19:51:30.210346Z",
     "start_time": "2024-03-13T19:51:30.109202Z"
    }
   },
   "id": "609bce8a1531f1b6",
   "execution_count": 27
  },
  {
   "cell_type": "code",
   "outputs": [],
   "source": [
    "# Load Model again, important to use same data prepro pipeline\n",
    "best_current_booster = xgb.Booster()\n",
    "best_current_booster.load_model('Models/xgboost-64%-all-data')"
   ],
   "metadata": {
    "collapsed": false,
    "ExecuteTime": {
     "end_time": "2024-03-13T19:54:01.252866Z",
     "start_time": "2024-03-13T19:54:01.164501Z"
    }
   },
   "id": "e061d0a6511a7bd8",
   "execution_count": 28
  },
  {
   "cell_type": "code",
   "outputs": [
    {
     "name": "stdout",
     "output_type": "stream",
     "text": [
      "FrozenTrial(number=86, state=TrialState.COMPLETE, values=[0.5875], datetime_start=datetime.datetime(2024, 3, 13, 18, 10, 9, 715945), datetime_complete=datetime.datetime(2024, 3, 13, 18, 10, 55, 634526), params={'max_depth': 7, 'eta': 0.04842404379213268, 'subsample': 0.6319894057470088, 'colsample_bytree': 0.839924916573817}, user_attrs={}, system_attrs={}, intermediate_values={}, distributions={'max_depth': IntDistribution(high=100, log=False, low=3, step=1), 'eta': FloatDistribution(high=0.4, log=False, low=0.01, step=None), 'subsample': FloatDistribution(high=1.0, log=False, low=0.6, step=None), 'colsample_bytree': FloatDistribution(high=1.0, log=False, low=0.6, step=None)}, trial_id=86, value=None)\n"
     ]
    }
   ],
   "source": [
    "print(study.best_trial)"
   ],
   "metadata": {
    "collapsed": false,
    "ExecuteTime": {
     "end_time": "2024-03-13T18:28:11.547105Z",
     "start_time": "2024-03-13T18:28:11.544148Z"
    }
   },
   "id": "f1310b567ff3eaff",
   "execution_count": 15
  },
  {
   "cell_type": "markdown",
   "source": [
    "# First attempt"
   ],
   "metadata": {
    "collapsed": false
   },
   "id": "accc5d7b1f19987e"
  },
  {
   "cell_type": "code",
   "outputs": [],
   "source": [
    "# Best trial: {'max_depth': 41, 'eta': 0.06469690136778568, 'subsample': 0.6691108267215701, 'colsample_bytree': 0.6187924973029665}\n",
    "# Test set accuracy: 0.6383333333333333\n",
    "# using 5k final boosting rounds, 1000 in study with 80 max tree depth"
   ],
   "metadata": {
    "collapsed": false
   },
   "id": "9337aea0ab4908e"
  },
  {
   "cell_type": "markdown",
   "source": [
    "# Second attempt"
   ],
   "metadata": {
    "collapsed": false
   },
   "id": "ae10a6842c45dfc9"
  },
  {
   "cell_type": "code",
   "outputs": [],
   "source": [
    "# Best trial: {'max_depth': 7, 'eta': 0.04842404379213268, 'subsample': 0.6319894057470088, 'colsample_bytree': 0.839924916573817}\n",
    "# Test set accuracy: 0.64\n",
    "# Using 10 final boosting rounds, 5k in study with tree depth between 3 and 100"
   ],
   "metadata": {
    "collapsed": false
   },
   "id": "d20ec1258fddff39"
  },
  {
   "cell_type": "markdown",
   "source": [
    "# Boosting separately on feature subsets"
   ],
   "metadata": {
    "collapsed": false
   },
   "id": "358187543faee74a"
  },
  {
   "cell_type": "markdown",
   "source": [
    "Load Data and Convert to DMatrix"
   ],
   "metadata": {
    "collapsed": false
   },
   "id": "37aaa6e01ddd1e9c"
  },
  {
   "cell_type": "code",
   "outputs": [],
   "source": [
    "train_subsets = split_features_by_type(X_train_scaled, feature_structure)\n",
    "val_subsets = split_features_by_type(X_val_scaled, feature_structure)\n",
    "test_subsets = split_features_by_type(X_test_scaled, feature_structure)"
   ],
   "metadata": {
    "collapsed": false,
    "ExecuteTime": {
     "end_time": "2024-03-13T20:03:08.528478Z",
     "start_time": "2024-03-13T20:03:08.511902Z"
    }
   },
   "id": "7273f030d3fce949",
   "execution_count": 29
  },
  {
   "cell_type": "code",
   "outputs": [],
   "source": [
    "def objective(trial, X_sub, Y_sub):\n",
    "    # Hyperparameters\n",
    "    params = {\n",
    "        'objective': 'multi:softmax',\n",
    "        'num_class': 8,\n",
    "        'max_depth': trial.suggest_int('max_depth', 3, 60),\n",
    "        'eta': trial.suggest_float('eta', 0.01, 0.4),\n",
    "        'subsample': trial.suggest_float('subsample', 0.6, 1.0),\n",
    "        'colsample_bytree': trial.suggest_float('colsample_bytree', 0.6, 1.0),\n",
    "        'eval_metric': 'merror'  # Multiclass Classification Error\n",
    "    }\n",
    "\n",
    "    # Convert the subset dataset into DMatrix form\n",
    "    dmatrix = xgb.DMatrix(X_sub, label=Y_sub)\n",
    "\n",
    "    # Perform cross-validation\n",
    "    cv_results = xgb.cv(params, dmatrix, num_boost_round=5000, nfold=5, stratified=True,\n",
    "                        early_stopping_rounds=25, seed=42, verbose_eval=False)\n",
    "\n",
    "    # Extract the minimum mean merror from the CV results\n",
    "    min_mean_merror = cv_results['test-merror-mean'].min()\n",
    "\n",
    "    return min_mean_merror"
   ],
   "metadata": {
    "collapsed": false,
    "ExecuteTime": {
     "end_time": "2024-03-13T20:34:42.838685Z",
     "start_time": "2024-03-13T20:34:42.831628Z"
    }
   },
   "id": "c5f917abf41d4dca",
   "execution_count": 32
  },
  {
   "cell_type": "code",
   "outputs": [],
   "source": [
    "best_params_subsets = {}\n",
    "validation_accuracies = {}\n",
    "\n",
    "for feature_name, feature_count in feature_structure.items():\n",
    "    print(f\"Running study for feature subset: {feature_name}\")\n",
    "    \n",
    "    # Prepare the data for this subset\n",
    "    X_sub_train = train_subsets[feature_name]\n",
    "    Y_sub_train = Y_train  # Y_train should be defined in your context\n",
    "\n",
    "    def subset_objective(trial):\n",
    "        return objective(trial, X_sub_train, Y_sub_train)\n",
    "\n",
    "    study = optuna.create_study(direction='minimize', study_name=f\"XGB_{feature_name}\")\n",
    "    study.optimize(subset_objective, n_trials=100)\n",
    "\n",
    "    best_params_subsets[feature_name] = study.best_trial.params\n",
    "\n",
    "    # # Merge train and validation subsets for final model retraining\n",
    "    # X_sub_train_val_combined = np.vstack((X_sub_train, val_subsets[feature_name]))\n",
    "    # Y_train_val_combined = np.concatenate((Y_train, Y_val))  # Assuming Y_val is defined\n",
    "    # \n",
    "    # # Retrain the model on the combined training and validation set with the best parameters\n",
    "    # dtrain_val_combined = xgb.DMatrix(X_sub_train_val_combined, label=Y_train_val_combined)\n",
    "    # Retrain model with optimal parameters with more boosting rounds\n",
    "    params = {\n",
    "        'objective': 'multi:softmax',\n",
    "        'num_class': 8,\n",
    "        **best_params_subsets[feature_name],  # Unpack the best parameters\n",
    "    }\n",
    "    final_model = xgb.train(params, X_sub_train, num_boost_round=10_000) # dtrain_val_combined\n",
    "\n",
    "    # Evaluate the final model on the validation set\n",
    "    dval = xgb.DMatrix(val_subsets[feature_name], label=Y_val)\n",
    "    preds = final_model.predict(dval)\n",
    "    val_accuracy = accuracy_score(Y_val, preds)\n",
    "    validation_accuracies[feature_name] = val_accuracy\n",
    "\n",
    "    # Save the final model\n",
    "    model_name = f'Models/XGBoost-Feature-Subsets/xgboost_{feature_name}_final.model'\n",
    "    final_model.save_model(model_name)\n",
    "\n",
    "    print(f\"Validation accuracy for {feature_name}: {val_accuracy}\")"
   ],
   "metadata": {
    "collapsed": false
   },
   "id": "464bbf2d926a2626"
  },
  {
   "cell_type": "markdown",
   "source": [
    "## Save Best Parameters "
   ],
   "metadata": {
    "collapsed": false
   },
   "id": "2efb63d5965616a0"
  },
  {
   "cell_type": "code",
   "outputs": [],
   "source": [
    "import json\n",
    "from datetime import datetime\n",
    "# Format the current date and time as a string\n",
    "timestamp = datetime.now().strftime(\"%Y-%m-%d_%H-%M-%S\")\n",
    "\n",
    "# Filenames with date and time\n",
    "filename_best_params = f\"best_params_subsets_{timestamp}.json\"\n",
    "filename_validation_accuracies = f\"validation_accuracies_{timestamp}.json\"\n",
    "\n",
    "# Save best_params_subsets\n",
    "with open(filename_best_params, 'w') as file:\n",
    "    json.dump(best_params_subsets, file, indent=4)\n",
    "\n",
    "# Save validation_accuracies\n",
    "with open(filename_validation_accuracies, 'w') as file:\n",
    "    json.dump(validation_accuracies, file, indent=4)\n"
   ],
   "metadata": {
    "collapsed": false
   },
   "id": "8e6e929bc02c4985"
  }
 ],
 "metadata": {
  "kernelspec": {
   "display_name": "Python 3",
   "language": "python",
   "name": "python3"
  },
  "language_info": {
   "codemirror_mode": {
    "name": "ipython",
    "version": 2
   },
   "file_extension": ".py",
   "mimetype": "text/x-python",
   "name": "python",
   "nbconvert_exporter": "python",
   "pygments_lexer": "ipython2",
   "version": "2.7.6"
  }
 },
 "nbformat": 4,
 "nbformat_minor": 5
}
