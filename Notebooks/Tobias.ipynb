{
 "cells": [
  {
   "cell_type": "markdown",
   "source": [
    "# Setup"
   ],
   "metadata": {
    "collapsed": false
   },
   "id": "dac851d56d48b45c"
  },
  {
   "cell_type": "code",
   "outputs": [],
   "source": [
    "import numpy as np\n",
    "import pandas as pd\n",
    "import sklearn as skl\n",
    "import matplotlib.pyplot as plt\n",
    "import seaborn as sns\n",
    "import sklearn\n",
    "from sklearn.model_selection import train_test_split\n",
    "from sklearn.model_selection import GridSearchCV\n",
    "from sklearn.preprocessing import StandardScaler\n",
    "from sklearn.decomposition import PCA\n",
    "from sklearn.ensemble import RandomForestClassifier\n",
    "from sklearn.metrics import accuracy_score, classification_report\n",
    "from sklearn.model_selection import RandomizedSearchCV\n",
    "from sklearn.ensemble import BaggingClassifier\n",
    "from scipy.stats import randint\n",
    "from sklearn.ensemble import AdaBoostClassifier\n",
    "from sklearn.ensemble import GradientBoostingClassifier\n",
    "from sklearn.linear_model import LogisticRegression\n",
    "from sklearn.model_selection import cross_val_score\n",
    "from sklearn.tree import DecisionTreeClassifier\n",
    "from sklearn.metrics import roc_auc_score, average_precision_score, classification_report, auc\n",
    "import scikitplot as skplt  # search for scikit-plot\n",
    "from sklearn.neural_network import MLPClassifier\n",
    "from sklearn.metrics import accuracy_score\n",
    "from sklearn.pipeline import make_pipeline\n",
    "from sklearn.preprocessing import LabelEncoder, StandardScaler\n",
    "import torch\n",
    "import torch.nn as nn\n",
    "import torch.optim as optim\n",
    "from torch.utils.data import DataLoader, TensorDataset\n",
    "import optuna\n",
    "import xgboost as xgb\n",
    "\n",
    "# Load the training data and the test inputs\n",
    "x_train = pd.read_csv('X_train.csv', index_col=0, header=[0, 1, 2])\n",
    "x_train_np = np.array(x_train)\n",
    "y_train = pd.read_csv('y_train.csv', index_col=0)\n",
    "y_train_np = y_train.squeeze().to_numpy()  # Make y_train a NumPy array\n",
    "x_test = pd.read_csv('X_test.csv', index_col=0, header=[0, 1, 2])\n",
    "x_test_np = np.array(x_test)\n",
    "\n",
    "x_train_flat_columns = ['_'.join(col).strip() for col in x_train.columns.values]\n",
    "x_train.columns = x_train_flat_columns\n",
    "\n",
    "x_test_flat_columns = ['_'.join(col).strip() for col in x_test.columns.values]\n",
    "x_test.columns = x_train_flat_columns\n",
    "# Prepare data\n",
    "label_encoder = LabelEncoder()\n",
    "y_train_encoded = label_encoder.fit_transform(y_train_np.ravel())\n",
    "\n",
    "# Split training data into training and temporary validation sets\n",
    "X_train, X_temp, Y_train, Y_temp = train_test_split(x_train, y_train_encoded, test_size=0.4, random_state=42)\n",
    "\n",
    "# Split the temporary validation set into validation and fake test set\n",
    "X_val, X_test, Y_val, Y_test = train_test_split(X_temp, Y_temp, test_size=0.5, random_state=42)\n",
    "\n",
    "scaler = StandardScaler()\n",
    "X_train_scaled = scaler.fit_transform(X_train)\n",
    "X_val_scaled = scaler.transform(X_val)\n",
    "X_test_scaled = scaler.transform(X_test)\n",
    "X_real_test_scaled = scaler.transform(x_test)  # real test set we don't have labels for\n",
    "\n",
    "\n",
    "def calculate_test_accuracy(predictions):\n",
    "    print(f\"Pseudo Test Set accuracy: {accuracy_score(Y_test, predictions):.2f}\")\n",
    "\n",
    "\n",
    "def calculate_training_accuracy(predictions):\n",
    "    print(f\"Training Set accuracy: {accuracy_score(Y_train, predictions):.2f}\")\n",
    "\n",
    "\n",
    "def split_features_by_type(X, feature_structure):\n",
    "    \"\"\"\n",
    "    Splits the dataset into subsets based on the feature structure provided.\n",
    "\n",
    "    :param X: numpy array, the dataset to be split (features only)\n",
    "    :param feature_structure: dict, keys are feature names and values are the number of features of that type\n",
    "    :return: dict of feature subsets\n",
    "    \"\"\"\n",
    "    feature_subsets = {}\n",
    "    start_idx = 0\n",
    "    \n",
    "    for feature_name, feature_count in feature_structure.items():\n",
    "        end_idx = start_idx + feature_count\n",
    "        feature_subsets[feature_name] = X[:, start_idx:end_idx]\n",
    "        start_idx = end_idx\n",
    "    \n",
    "    return feature_subsets\n",
    "\n",
    "# Define the structure of your features based on the information you've provided\n",
    "feature_structure = {\n",
    "    'chroma_cens': 84,\n",
    "    'chroma_cqt': 84,\n",
    "    'chroma_stft': 84,\n",
    "    'mfcc': 140,\n",
    "    'rmse': 7,\n",
    "    'spectral_bandwidth': 7,\n",
    "    'spectral_centroid': 7,\n",
    "    'spectral_contrast': 49,\n",
    "    'spectral_rolloff': 7,\n",
    "    'tonnetz': 42,\n",
    "    'zcr': 7\n",
    "}\n",
    "\n",
    "# Example usage with a hypothetical dataset X_train_scaled\n",
    "# This would be your preprocessed and scaled training data as a NumPy array\n",
    "train_feature_subsets = split_features_by_type(X_train_scaled, feature_structure)\n",
    "val_feature_subsets = split_features_by_type(X_val_scaled, feature_structure)\n",
    "test_feature_subsets = split_features_by_type(X_test_scaled, feature_structure)"
   ],
   "metadata": {
    "collapsed": false,
    "ExecuteTime": {
     "end_time": "2024-03-16T18:24:37.748938Z",
     "start_time": "2024-03-16T18:24:37.097320Z"
    }
   },
   "id": "c6251c9406f7ee15",
   "execution_count": 43
  },
  {
   "cell_type": "markdown",
   "source": [
    "## KNN"
   ],
   "metadata": {
    "collapsed": false
   },
   "id": "9806c5b808550921"
  },
  {
   "cell_type": "markdown",
   "source": [
    "### KNN Bagging"
   ],
   "metadata": {
    "collapsed": false
   },
   "id": "179260ce1e032230"
  },
  {
   "cell_type": "code",
   "outputs": [
    {
     "name": "stdout",
     "output_type": "stream",
     "text": [
      "Training Set accuracy: 0.52\n",
      "Pseudo Test Set accuracy: 0.40\n"
     ]
    }
   ],
   "source": [
    "from sklearn.neighbors import KNeighborsClassifier\n",
    "from sklearn.ensemble import BaggingClassifier\n",
    "\n",
    "# Number of base estimators\n",
    "n_estimators = 10  # You can experiment with this number\n",
    "\n",
    "# Create a BaggingClassifier with KNN as base estimators\n",
    "bagging_clf = BaggingClassifier(\n",
    "    estimator=KNeighborsClassifier(n_neighbors=1), \n",
    "    n_estimators=n_estimators, \n",
    "    max_samples=1.0 / n_estimators, \n",
    "    bootstrap=True, \n",
    "    random_state=42,\n",
    "    n_jobs=-1  # Use all cores\n",
    ")\n",
    "\n",
    "# Fit the BaggingClassifier\n",
    "bagging_clf.fit(X_train_scaled, Y_train)\n",
    "# training predictions\n",
    "trainpreds = bagging_clf.predict(X_train_scaled)\n",
    "# test predictions\n",
    "testpreds = bagging_clf.predict(X_test_scaled)\n",
    "\n",
    "print(calculate_training_accuracy(trainpreds))\n",
    "print(calculate_test_accuracy(testpreds))"
   ],
   "metadata": {
    "collapsed": false,
    "ExecuteTime": {
     "end_time": "2024-03-16T16:53:51.657728Z",
     "start_time": "2024-03-16T16:53:49.984989Z"
    }
   },
   "id": "e20c92732a982cb6",
   "execution_count": 3
  },
  {
   "cell_type": "markdown",
   "source": [
    "### KNN  Ensembling"
   ],
   "metadata": {
    "collapsed": false
   },
   "id": "79e00c5088d82836"
  },
  {
   "cell_type": "code",
   "outputs": [
    {
     "name": "stdout",
     "output_type": "stream",
     "text": [
      "Train accuracy with combined KNN models: 0.1238888888888889\n",
      "Test accuracy with combined KNN models: 0.13\n"
     ]
    }
   ],
   "source": [
    "from sklearn.neighbors import KNeighborsClassifier\n",
    "# Define a range of k values\n",
    "k_values = [1, 8, 64]\n",
    "\n",
    "# Train a KNN model for each k\n",
    "knn_models = [KNeighborsClassifier(n_neighbors=k).fit(X_train_scaled, Y_train) for k in k_values]\n",
    "\n",
    "# Predict on the trainig set with each model\n",
    "train_predictions = [model.predict(X_train_scaled) for model in knn_models]\n",
    "\n",
    "# Predict on the trainig set with each model\n",
    "test_predictions = [model.predict(X_test_scaled) for model in knn_models]\n",
    "\n",
    "# Combine predictions: Take the mode of predictions across the different models\n",
    "combined_train_predictions = mode(train_predictions, axis=0)[0][0]\n",
    "\n",
    "combined_test_predictions = mode(test_predictions, axis=0)[0][0]\n",
    "\n",
    "# Evaluate accuracy\n",
    "val_accuracy = np.mean(combined_train_predictions == Y_train)\n",
    "print(f\"Train accuracy with combined KNN models: {val_accuracy}\")\n",
    "\n",
    "val_accuracy = np.mean(combined_test_predictions == Y_val)\n",
    "print(f\"Test accuracy with combined KNN models: {val_accuracy}\")"
   ],
   "metadata": {
    "collapsed": false,
    "ExecuteTime": {
     "end_time": "2024-03-16T17:06:24.763410Z",
     "start_time": "2024-03-16T17:06:23.882029Z"
    }
   },
   "id": "83305126aa9b1631",
   "execution_count": 11
  },
  {
   "cell_type": "markdown",
   "source": [
    "## KNN on feature subsets, Majority Voting"
   ],
   "metadata": {
    "collapsed": false
   },
   "id": "c246070fac7517b5"
  },
  {
   "cell_type": "code",
   "outputs": [
    {
     "name": "stdout",
     "output_type": "stream",
     "text": [
      "Best K for chroma_cens features: 9 with cross-validation score: 0.2663888888888889\n",
      "Best K for chroma_cqt features: 13 with cross-validation score: 0.27361111111111114\n",
      "Best K for chroma_stft features: 13 with cross-validation score: 0.30194444444444446\n",
      "Best K for mfcc features: 15 with cross-validation score: 0.46611111111111103\n",
      "Best K for rmse features: 15 with cross-validation score: 0.23555555555555552\n",
      "Best K for spectral_bandwidth features: 15 with cross-validation score: 0.29083333333333333\n",
      "Best K for spectral_centroid features: 11 with cross-validation score: 0.32166666666666666\n",
      "Best K for spectral_contrast features: 12 with cross-validation score: 0.40861111111111115\n",
      "Best K for spectral_rolloff features: 12 with cross-validation score: 0.3061111111111111\n",
      "Best K for tonnetz features: 6 with cross-validation score: 0.2725000000000001\n",
      "Best K for zcr features: 14 with cross-validation score: 0.30583333333333335\n",
      "Validation accuracy with combined KNN models: 0.4725\n"
     ]
    }
   ],
   "source": [
    "from sklearn.neighbors import KNeighborsClassifier\n",
    "\n",
    "# Dictionary to store the trained KNN models for each feature subset\n",
    "knn_models = {}\n",
    "\n",
    "# Train a KNN model for each feature subset\n",
    "from sklearn.model_selection import cross_val_score\n",
    "\n",
    "# Dictionary to store the best KNN models for each feature subset\n",
    "best_knn_models = {}\n",
    "\n",
    "# Train a KNN model for each feature subset and find the best k using cross-validation\n",
    "for feature_name, X_subset in train_feature_subsets.items():\n",
    "    best_score = 0\n",
    "    best_k = 1\n",
    "    # Try different values of k\n",
    "    for k in range(1, 16):  # Let's try k from 1 to 15 as an example\n",
    "        knn = KNeighborsClassifier(n_neighbors=k)\n",
    "        scores = cross_val_score(knn, X_subset, Y_train, cv=5)\n",
    "        mean_score = scores.mean()\n",
    "        if mean_score > best_score:\n",
    "            best_score = mean_score\n",
    "            best_k = k\n",
    "\n",
    "    # Train a new KNN model on the full training set with the best k\n",
    "    best_knn = KNeighborsClassifier(n_neighbors=best_k)\n",
    "    best_knn.fit(X_subset, Y_train)\n",
    "    best_knn_models[feature_name] = best_knn\n",
    "    print(f\"Best K for {feature_name} features: {best_k} with cross-validation score: {best_score}\")\n",
    "\n",
    "# Now best_knn_models dictionary contains the best KNN model for each feature subset\n",
    "# Gather predictions from all models on the validation set\n",
    "test_predictions = []\n",
    "for feature_name, model in best_knn_models.items():\n",
    "    # Ensure that we predict on the correct feature subset\n",
    "    X_val_subset = val_feature_subsets[feature_name]\n",
    "    predictions = model.predict(X_val_subset)\n",
    "    val_predictions.append(predictions)\n",
    "\n",
    "# Combine predictions using majority voting\n",
    "combined_val_predictions = mode(val_predictions, axis=0).mode\n",
    "\n",
    "# Calculate accuracy or any other metric based on the combined predictions\n",
    "val_accuracy = np.mean(combined_val_predictions.ravel() == Y_val)\n",
    "print(f\"Validation accuracy with combined KNN models: {val_accuracy}\")\n",
    "\n"
   ],
   "metadata": {
    "collapsed": false,
    "ExecuteTime": {
     "end_time": "2024-03-16T17:12:36.528289Z",
     "start_time": "2024-03-16T17:12:26.754465Z"
    }
   },
   "id": "6719c3588f0f7d49",
   "execution_count": 16
  },
  {
   "cell_type": "markdown",
   "source": [
    "## KNN on feature subsets, Majority Voting"
   ],
   "metadata": {
    "collapsed": false
   },
   "id": "95398bc66ad0284e"
  },
  {
   "cell_type": "code",
   "outputs": [
    {
     "name": "stdout",
     "output_type": "stream",
     "text": [
      "Training Set accuracy: 0.76\n",
      "Pseudo Test Set accuracy: 0.52\n"
     ]
    }
   ],
   "source": [
    "# Calculate the validation accuracy for each feature subset and use it as weight for voting\n",
    "weights = []\n",
    "for feature_name, model in best_knn_models.items():\n",
    "    X_val_subset = val_feature_subsets[feature_name]\n",
    "    val_accuracy = model.score(X_val_subset, Y_val)\n",
    "    weights.append(val_accuracy)\n",
    "    # print(f\"Validation accuracy for {feature_name} features: {val_accuracy}\")\n",
    "\n",
    "# Normalize weights so they sum up to 1\n",
    "weights = np.array(weights) / np.sum(weights)\n",
    "\n",
    "# Predict on the train set with each model and weight the predictions\n",
    "weighted_train_predictions = np.zeros((X_train_scaled.shape[0], len(np.unique(Y_train))), dtype=float)\n",
    "\n",
    "for i, (feature_name, model) in enumerate(best_knn_models.items()):\n",
    "    X_train_subset = train_feature_subsets[feature_name]\n",
    "    train_predictions = model.predict_proba(X_train_subset)\n",
    "    weighted_preds = train_predictions * weights[i]\n",
    "    weighted_train_predictions += weighted_preds\n",
    "    \n",
    "    \n",
    "# Predict on the test set with each model and weight the predictions\n",
    "weighted_test_predictions = np.zeros((X_test_scaled.shape[0], len(np.unique(Y_test))), dtype=float)\n",
    "\n",
    "for i, (feature_name, model) in enumerate(best_knn_models.items()):\n",
    "    X_test_subset = test_feature_subsets[feature_name]\n",
    "    predictions = model.predict_proba(X_test_subset)\n",
    "    weighted_preds = predictions * weights[i]\n",
    "    weighted_test_predictions += weighted_preds\n",
    "\n",
    "# Combine weighted predictions by taking the argmax to get final predictions\n",
    "combined_train_predictions = np.argmax(weighted_train_predictions, axis=1)\n",
    "combined_test_predictions = np.argmax(weighted_test_predictions, axis=1)\n",
    "\n",
    "calculate_training_accuracy(combined_train_predictions)\n",
    "calculate_test_accuracy(combined_test_predictions)"
   ],
   "metadata": {
    "collapsed": false,
    "ExecuteTime": {
     "end_time": "2024-03-16T17:26:43.816065Z",
     "start_time": "2024-03-16T17:26:42.833822Z"
    }
   },
   "id": "3d0820ddae1e1af1",
   "execution_count": 23
  },
  {
   "cell_type": "markdown",
   "source": [
    "### KNN optimizing for Distance Metrics on feature subsets"
   ],
   "metadata": {
    "collapsed": false
   },
   "id": "a41a2562d1677f26"
  },
  {
   "cell_type": "code",
   "outputs": [
    {
     "name": "stdout",
     "output_type": "stream",
     "text": [
      "Training Set accuracy: 0.74\n",
      "Pseudo Test Set accuracy: 0.51\n"
     ]
    }
   ],
   "source": [
    "# Define a list of distance metrics to try\n",
    "distance_metrics = ['euclidean', 'manhattan', 'minkowski']\n",
    "\n",
    "# Define a range of k values to try\n",
    "k_values = range(1, 16)  # Example: trying k from 1 to 15\n",
    "\n",
    "# Dictionary to store the best KNN model for each feature subset\n",
    "best_knn_models_dm_k = {}\n",
    "\n",
    "# Dictionary to store the best combination of distance metric and k for each feature subset\n",
    "best_combinations = {}\n",
    "\n",
    "for feature_name, X_subset in train_feature_subsets.items():\n",
    "    best_score = 0\n",
    "    best_combination = {'metric': '', 'k': 0}\n",
    "    # Iterate over each distance metric\n",
    "    for metric in distance_metrics:\n",
    "        # Iterate over each value of k\n",
    "        for k in k_values:\n",
    "            # Create a KNN model with the current metric and k\n",
    "            knn = KNeighborsClassifier(n_neighbors=k, metric=metric)\n",
    "            # Perform cross-validation and compute the mean score\n",
    "            scores = cross_val_score(knn, X_subset, Y_train, cv=5)\n",
    "            mean_score = scores.mean()\n",
    "            # Update the best combination if the current model performs better\n",
    "            if mean_score > best_score:\n",
    "                best_score = mean_score\n",
    "                best_combination['metric'] = metric\n",
    "                best_combination['k'] = k\n",
    "    \n",
    "    # Once the best combination is found, retrain the model on the full training set\n",
    "    best_knn = KNeighborsClassifier(n_neighbors=best_combination['k'], metric=best_combination['metric'])\n",
    "    best_knn.fit(X_subset, Y_train)\n",
    "    best_knn_models_dm_k[feature_name] = best_knn\n",
    "    best_combinations[feature_name] = best_combination\n",
    "    # print(f\"Best combination for {feature_name} features: k={best_combination['k']}, metric={best_combination['metric']} with cross-validation score: {best_score:.2f}\")\n",
    "    # Calculate the validation accuracy for each feature subset and use it as weight for voting\n",
    "weights = []\n",
    "for feature_name, model in best_knn_models_dm_k.items():\n",
    "    X_val_subset = val_feature_subsets[feature_name]\n",
    "    val_accuracy = model.score(X_val_subset, Y_val)\n",
    "    weights.append(val_accuracy)\n",
    "    # print(f\"Validation accuracy for {feature_name} features: {val_accuracy:.2f}\")\n",
    "\n",
    "# Normalize weights so they sum up to 1\n",
    "weights = np.array(weights) / np.sum(weights)\n",
    "\n",
    "# Split the test set using the same feature structure\n",
    "\n",
    "# Predict on the train set with each model and weight the predictions\n",
    "weighted_train_predictions = np.zeros((X_train_scaled.shape[0], 8), dtype=float)\n",
    "\n",
    "for i, (feature_name, model) in enumerate(best_knn_models_dm_k.items()):\n",
    "    X_train_subset = train_feature_subsets[feature_name]\n",
    "    predictions = model.predict_proba(X_train_subset)\n",
    "    weighted_predictions = predictions * weights[i]\n",
    "    weighted_train_predictions += weighted_predictions\n",
    "    \n",
    "# Predict on the test set with each model and weight the predictions\n",
    "weighted_test_predictions = np.zeros((X_test_scaled.shape[0], 8), dtype=float)\n",
    "\n",
    "for i, (feature_name, model) in enumerate(best_knn_models_dm_k.items()):\n",
    "    X_test_subset = test_feature_subsets[feature_name]\n",
    "    predictions = model.predict_proba(X_test_subset)\n",
    "    weighted_predictions = predictions * weights[i]\n",
    "    weighted_test_predictions += weighted_predictions\n",
    "\n",
    "# Combine weighted predictions by taking the argmax to get final predictions\n",
    "combined_train_predictions = np.argmax(weighted_train_predictions, axis=1)\n",
    "combined_test_predictions = np.argmax(weighted_test_predictions, axis=1)\n",
    "\n",
    "# Calculate accuracy based on the combined weighted predictions\n",
    "calculate_training_accuracy(combined_train_predictions)\n",
    "calculate_test_accuracy(combined_test_predictions)"
   ],
   "metadata": {
    "collapsed": false,
    "ExecuteTime": {
     "end_time": "2024-03-16T17:34:13.301912Z",
     "start_time": "2024-03-16T17:33:28.335168Z"
    }
   },
   "id": "dd03e9209cd3bb",
   "execution_count": 26
  },
  {
   "cell_type": "markdown",
   "source": [
    "### Logistic Reg as Meta Learner on KNN on feature subsets"
   ],
   "metadata": {
    "collapsed": false
   },
   "id": "fde94bce73499d07"
  },
  {
   "cell_type": "code",
   "outputs": [
    {
     "name": "stdout",
     "output_type": "stream",
     "text": [
      "Training Set accuracy: 0.71\n",
      "Pseudo Test Set accuracy: 0.55\n"
     ]
    }
   ],
   "source": [
    "# Generate meta-features for the validation set\n",
    "val_meta_features = np.column_stack([\n",
    "    model.predict_proba(val_feature_subsets[feature_name]) for feature_name, model in best_knn_models_dm_k.items()\n",
    "])\n",
    "\n",
    "from sklearn.linear_model import LogisticRegression\n",
    "\n",
    "meta_model = LogisticRegression(max_iter=1000)\n",
    "meta_model.fit(val_meta_features, Y_val)  # Assuming Y_val is the validation set labels\n",
    "\n",
    "# Generate meta-features for the train set\n",
    "train_meta_features = np.column_stack([\n",
    "    model.predict_proba(train_feature_subsets[feature_name]) for feature_name, model in best_knn_models_dm_k.items()\n",
    "])\n",
    "\n",
    "# Generate meta-features for the test set\n",
    "test_meta_features = np.column_stack([\n",
    "    model.predict_proba(test_feature_subsets[feature_name]) for feature_name, model in best_knn_models_dm_k.items()\n",
    "])\n",
    "\n",
    "# Final predictions using the meta-learner\n",
    "train_predictions = meta_model.predict(train_meta_features)\n",
    "test_predictions = meta_model.predict(test_meta_features)\n",
    "\n",
    "calculate_training_accuracy(train_predictions)\n",
    "calculate_test_accuracy(test_predictions)"
   ],
   "metadata": {
    "collapsed": false,
    "ExecuteTime": {
     "end_time": "2024-03-16T17:40:16.634812Z",
     "start_time": "2024-03-16T17:40:15.182022Z"
    }
   },
   "id": "48c1491a16ece166",
   "execution_count": 30
  },
  {
   "cell_type": "markdown",
   "source": [
    "# Best Model per Feature Subset"
   ],
   "metadata": {
    "collapsed": false
   },
   "id": "a6560376490aebc0"
  },
  {
   "cell_type": "code",
   "outputs": [
    {
     "name": "stdout",
     "output_type": "stream",
     "text": [
      "Feature: chroma_cens, Best Model: SVM, Accuracy: 0.33\n",
      "Feature: chroma_cqt, Best Model: SVM, Accuracy: 0.35\n",
      "Feature: chroma_stft, Best Model: RF, Accuracy: 0.39\n",
      "Feature: mfcc, Best Model: SVM, Accuracy: 0.56\n",
      "Feature: rmse, Best Model: RF, Accuracy: 0.27\n",
      "Feature: spectral_bandwidth, Best Model: RF, Accuracy: 0.33\n",
      "Feature: spectral_centroid, Best Model: SVM, Accuracy: 0.38\n",
      "Feature: spectral_contrast, Best Model: SVM, Accuracy: 0.47\n",
      "Feature: spectral_rolloff, Best Model: SVM, Accuracy: 0.37\n",
      "Feature: tonnetz, Best Model: XGB, Accuracy: 0.33\n",
      "Feature: zcr, Best Model: SVM, Accuracy: 0.34\n",
      "Test accuracy with the best model from each feature subset ensemble: 0.5683333333333334\n"
     ]
    }
   ],
   "source": [
    "from sklearn.neighbors import KNeighborsClassifier\n",
    "from sklearn.ensemble import RandomForestClassifier\n",
    "from sklearn.linear_model import LogisticRegression\n",
    "from sklearn.svm import SVC  # For SVM with RBF kernel\n",
    "from xgboost import XGBClassifier  # For XGBoost\n",
    "from sklearn.metrics import accuracy_score\n",
    "import numpy as np\n",
    "\n",
    "# Assuming `feature_subsets`, `X_train`, `Y_train`, `X_val`, `Y_val`, `X_test`, `Y_test`, `val_feature_subsets`, and `test_feature_subsets` are already defined\n",
    "\n",
    "best_models = {}\n",
    "model_accuracies = {}  # To store the best accuracy for each feature subset\n",
    "\n",
    "for feature_name, X_train_subset in train_feature_subsets.items():\n",
    "    best_model = None\n",
    "    best_accuracy = 0\n",
    "    X_val_subset = val_feature_subsets[feature_name]\n",
    "\n",
    "    models = {\n",
    "        'KNN': KNeighborsClassifier(),\n",
    "        'RF': RandomForestClassifier(random_state=42),\n",
    "        'LR': LogisticRegression(random_state=42, max_iter=1000),\n",
    "        'SVM': SVC(probability=True, kernel='rbf', random_state=42),  # SVM with RBF kernel\n",
    "        'XGB': XGBClassifier(eval_metric='mlogloss', random_state=42)  # XGBoost\n",
    "    }\n",
    "\n",
    "    for model_name, model in models.items():\n",
    "        model.fit(X_train_subset, Y_train)\n",
    "        accuracy = model.score(X_val_subset, Y_val)\n",
    "\n",
    "        if accuracy > best_accuracy:\n",
    "            best_accuracy = accuracy\n",
    "            best_model = (model_name, model)\n",
    "\n",
    "    best_models[feature_name] = best_model\n",
    "    model_accuracies[feature_name] = best_accuracy  # Store the best accuracy\n",
    "\n",
    "# Print out the best model and its accuracy for each feature subset\n",
    "for feature_name, (model_name, _) in best_models.items():\n",
    "    accuracy = model_accuracies[feature_name]\n",
    "    print(f\"Feature: {feature_name}, Best Model: {model_name}, Accuracy: {accuracy:.2f}\")\n",
    "\n",
    "# Ensemble selected models for final prediction\n",
    "ensemble_predictions = np.zeros((len(Y_test), len(np.unique(Y_train))))\n",
    "\n",
    "for feature_name, (model_type, model) in best_models.items():\n",
    "    X_test_subset = test_feature_subsets[feature_name]\n",
    "    if hasattr(model, \"predict_proba\"):\n",
    "        predictions = model.predict_proba(X_test_subset)\n",
    "    else:  # For models like SVM that might not support predict_proba by default\n",
    "        predictions = model.decision_function(X_test_subset)\n",
    "        # Normalize SVM decision function output to [0, 1] for ensemble\n",
    "        predictions = (predictions - predictions.min()) / (predictions.max() - predictions.min())\n",
    "    ensemble_predictions += predictions\n",
    "\n",
    "# Final ensemble prediction\n",
    "final_predictions = np.argmax(ensemble_predictions, axis=1)\n",
    "\n",
    "# Calculate and print the test accuracy\n",
    "test_accuracy = accuracy_score(Y_test, final_predictions)\n",
    "print(f\"Test accuracy with the best model from each feature subset ensemble: {test_accuracy}\")\n"
   ],
   "metadata": {
    "collapsed": false,
    "ExecuteTime": {
     "end_time": "2024-03-16T18:08:00.410661Z",
     "start_time": "2024-03-16T18:06:35.535559Z"
    }
   },
   "id": "a872874223197dd8",
   "execution_count": 41
  },
  {
   "cell_type": "code",
   "outputs": [
    {
     "data": {
      "text/plain": "<Figure size 1000x600 with 1 Axes>",
      "image/png": "[encoded data removed]"
     },
     "metadata": {},
     "output_type": "display_data"
    }
   ],
   "source": [
    "from collections import Counter\n",
    "final_predictions_decoded = label_encoder.inverse_transform(final_predictions)\n",
    "# Calculate mispredictions\n",
    "mispredictions = (Y_test != final_predictions)\n",
    "\n",
    "# Decode the true labels and the predicted labels for interpretability\n",
    "y_test_decoded = label_encoder.inverse_transform(Y_test)\n",
    "final_predictions_decoded = label_encoder.inverse_transform(final_predictions)\n",
    "\n",
    "# Count the total occurrences for each class in the true test set\n",
    "total_counts = Counter(y_test_decoded)\n",
    "\n",
    "# Count mispredictions for each decoded class\n",
    "mispredicted_counts = Counter(y_test_decoded[mispredictions])\n",
    "\n",
    "# Calculate misprediction frequencies as a percentage\n",
    "misprediction_frequencies = {class_label: (mispredicted_counts.get(class_label, 0) / total_counts[class_label]) * 100\n",
    "                             for class_label in total_counts}\n",
    "\n",
    "# Sort the classes by name to maintain consistent order\n",
    "sorted_class_labels = sorted(total_counts.keys())\n",
    "\n",
    "# Prepare colors, one for each class\n",
    "colors = plt.cm.tab20(np.linspace(0, 1, len(sorted_class_labels)))\n",
    "\n",
    "# Bar chart of misprediction frequencies (as percentages)\n",
    "plt.figure(figsize=(10, 6))\n",
    "plt.bar(range(len(sorted_class_labels)), [misprediction_frequencies[class_label] for class_label in sorted_class_labels], color=colors)\n",
    "plt.xlabel('Classes')\n",
    "plt.ylabel('Misprediction Frequency (%)')\n",
    "plt.xticks(ticks=range(len(sorted_class_labels)), labels=sorted_class_labels, rotation=45)\n",
    "plt.title('Misprediction Frequency by Class for Stacked Model')\n",
    "plt.show()\n"
   ],
   "metadata": {
    "collapsed": false,
    "ExecuteTime": {
     "end_time": "2024-03-17T17:04:10.794830Z",
     "start_time": "2024-03-17T17:04:10.685706Z"
    }
   },
   "id": "e5c6cd5f8c2322bf",
   "execution_count": 87
  },
  {
   "cell_type": "markdown",
   "source": [
    "# Neural Nets"
   ],
   "metadata": {
    "collapsed": false
   },
   "id": "f116faacd740babb"
  },
  {
   "cell_type": "code",
   "outputs": [],
   "source": [
    "X_train_tensor = torch.tensor(X_train_scaled, dtype=torch.float32)\n",
    "Y_train_tensor = torch.tensor(Y_train, dtype=torch.int64)\n",
    "X_val_tensor = torch.tensor(X_val_scaled, dtype=torch.float32)\n",
    "Y_val_tensor = torch.tensor(Y_val, dtype=torch.int64)\n",
    "X_test_tensor = torch.tensor(X_test_scaled, dtype=torch.float32)\n",
    "Y_test_tensor = torch.tensor(Y_test, dtype=torch.int64)\n",
    "X_real_test_tensor = torch.tensor(X_real_test_scaled, dtype=torch.float32)\n",
    "\n",
    "# Create TensorDatasets and DataLoaders for training, validation, test sets\n",
    "train_dataset = TensorDataset(X_train_tensor, Y_train_tensor)\n",
    "val_dataset = TensorDataset(X_val_tensor, Y_val_tensor)\n",
    "test_dataset = TensorDataset(X_test_tensor, Y_test_tensor)\n",
    "train_loader = DataLoader(train_dataset, batch_size=64, shuffle=True)\n",
    "val_loader = DataLoader(val_dataset, batch_size=64, shuffle=False)\n",
    "test_loader = DataLoader(test_dataset, batch_size=64, shuffle=False)"
   ],
   "metadata": {
    "collapsed": false,
    "ExecuteTime": {
     "end_time": "2024-03-16T18:34:40.718895Z",
     "start_time": "2024-03-16T18:34:40.689872Z"
    }
   },
   "id": "cbdd2e965f91e429",
   "execution_count": 44
  },
  {
   "cell_type": "code",
   "outputs": [],
   "source": [
    "device = torch.device(\"mps\" if torch.backends.mps.is_available() else \"cpu\")"
   ],
   "metadata": {
    "collapsed": false,
    "ExecuteTime": {
     "end_time": "2024-03-16T18:34:41.378971Z",
     "start_time": "2024-03-16T18:34:41.376885Z"
    }
   },
   "id": "b457b1751041ce1a",
   "execution_count": 45
  },
  {
   "cell_type": "code",
   "outputs": [],
   "source": [
    "class CustomNN(nn.Module):\n",
    "    def __init__(self, input_size, num_classes, num_layers=2, hidden_size=100):\n",
    "        super(CustomNN, self).__init__()\n",
    "        self.layers = nn.ModuleList()\n",
    "        \n",
    "        for i in range(num_layers):\n",
    "            if i == 0:\n",
    "                self.layers.append(nn.Linear(input_size, hidden_size))\n",
    "            else:\n",
    "                self.layers.append(nn.Linear(hidden_size, hidden_size))\n",
    "            self.layers.append(nn.ReLU())\n",
    "\n",
    "        self.output_layer = nn.Linear(hidden_size, num_classes)\n",
    "        \n",
    "    def forward(self, x):\n",
    "        for layer in self.layers:\n",
    "            x = layer(x)\n",
    "        x = self.output_layer(x)\n",
    "        return x\n"
   ],
   "metadata": {
    "collapsed": false,
    "ExecuteTime": {
     "end_time": "2024-03-16T18:34:42.039551Z",
     "start_time": "2024-03-16T18:34:42.034494Z"
    }
   },
   "id": "324b81f138f5983d",
   "execution_count": 46
  },
  {
   "cell_type": "code",
   "outputs": [],
   "source": [
    "def train_and_validate(model, train_loader, val_loader, device, optimizer, criterion, epochs=10):\n",
    "    model.train()  # Set the model to training mode\n",
    "    for epoch in range(epochs):\n",
    "        for inputs, labels in train_loader:\n",
    "            inputs, labels = inputs.to(device), labels.to(device)\n",
    "            \n",
    "            optimizer.zero_grad()\n",
    "            outputs = model(inputs)\n",
    "            loss = criterion(outputs, labels)\n",
    "            loss.backward()\n",
    "            optimizer.step()\n",
    "    \n",
    "    # Validation phase\n",
    "    model.eval()  # Set the model to evaluation mode\n",
    "    total, correct = 0, 0\n",
    "    with torch.no_grad():\n",
    "        for inputs, labels in val_loader:\n",
    "            inputs, labels = inputs.to(device), labels.to(device)\n",
    "            outputs = model(inputs)\n",
    "            _, predicted = torch.max(outputs.data, 1)\n",
    "            total += labels.size(0)\n",
    "            correct += (predicted == labels).sum().item()\n",
    "    \n",
    "    val_accuracy = correct / total\n",
    "    return val_accuracy\n",
    "\n",
    "\n",
    "def evaluate_pytorch_model(model, dataloaders, device):\n",
    "    model.eval()  # Set the model to evaluation mode\n",
    "    performance = {}\n",
    "    with torch.no_grad():\n",
    "        for phase in ['train', 'val', 'test']:\n",
    "            if phase not in dataloaders:\n",
    "                continue\n",
    "            correct, total = 0, 0\n",
    "            for inputs, labels in dataloaders[phase]:\n",
    "                inputs, labels = inputs.to(device), labels.to(device)\n",
    "                outputs = model(inputs)\n",
    "                _, predicted = torch.max(outputs.data, 1)\n",
    "                total += labels.size(0)\n",
    "                correct += (predicted == labels).sum().item()\n",
    "            accuracy = correct / total\n",
    "            performance[phase + '_accuracy'] = accuracy\n",
    "            print(f'Accuracy of the {model.__class__.__name__} model on the {phase} set: {accuracy:.2f}')\n"
   ],
   "metadata": {
    "collapsed": false,
    "ExecuteTime": {
     "end_time": "2024-03-16T18:45:57.069099Z",
     "start_time": "2024-03-16T18:45:57.064304Z"
    }
   },
   "id": "b254ab80d285d613",
   "execution_count": 72
  },
  {
   "cell_type": "code",
   "outputs": [],
   "source": [
    "import optuna\n",
    "all_models = []\n",
    "def objective(trial):\n",
    "    # Hyperparameters to tune\n",
    "    lr = trial.suggest_float('lr', 1e-5, 1e-1)\n",
    "    num_layers = trial.suggest_int('num_layers', 1, 3)\n",
    "    hidden_size = trial.suggest_int('hidden_size', 50, 500)\n",
    "    \n",
    "    # Model initialization\n",
    "    model = CustomNN(input_size=X_train.shape[1], num_classes=len(np.unique(Y_train)),\n",
    "                     num_layers=num_layers, hidden_size=hidden_size).to(device)\n",
    "    \n",
    "    optimizer = torch.optim.Adam(model.parameters(), lr=lr)\n",
    "    criterion = nn.CrossEntropyLoss()\n",
    "\n",
    "    # Train and validate\n",
    "    val_accuracy = train_and_validate(model, train_loader, val_loader, device, optimizer, criterion, epochs=10)\n",
    "    \n",
    "    # Save the model and trial information\n",
    "    all_models.append({'trial_id': trial.number, 'model': model, 'val_accuracy': val_accuracy})\n",
    "    \n",
    "    return val_accuracy\n"
   ],
   "metadata": {
    "collapsed": false,
    "ExecuteTime": {
     "end_time": "2024-03-16T18:37:28.265353Z",
     "start_time": "2024-03-16T18:37:28.261241Z"
    }
   },
   "id": "5df69eedbb7d3119",
   "execution_count": 63
  },
  {
   "cell_type": "code",
   "outputs": [
    {
     "name": "stderr",
     "output_type": "stream",
     "text": [
      "[I 2024-03-16 18:41:38,943] A new study created in memory with name: MLP\n",
      "[I 2024-03-16 18:41:41,776] Trial 0 finished with value: 0.5033333333333333 and parameters: {'lr': 0.020109521612810172, 'num_layers': 1, 'hidden_size': 355}. Best is trial 0 with value: 0.5033333333333333.\n",
      "[I 2024-03-16 18:41:44,509] Trial 1 finished with value: 0.48083333333333333 and parameters: {'lr': 0.07460004650272418, 'num_layers': 1, 'hidden_size': 287}. Best is trial 0 with value: 0.5033333333333333.\n",
      "[I 2024-03-16 18:41:47,762] Trial 2 finished with value: 0.1175 and parameters: {'lr': 0.040083907602066114, 'num_layers': 2, 'hidden_size': 258}. Best is trial 0 with value: 0.5033333333333333.\n",
      "[I 2024-03-16 18:41:51,989] Trial 3 finished with value: 0.11833333333333333 and parameters: {'lr': 0.0617450100249225, 'num_layers': 3, 'hidden_size': 481}. Best is trial 0 with value: 0.5033333333333333.\n",
      "[I 2024-03-16 18:41:56,032] Trial 4 finished with value: 0.4791666666666667 and parameters: {'lr': 0.01874776009831906, 'num_layers': 3, 'hidden_size': 253}. Best is trial 0 with value: 0.5033333333333333.\n",
      "[I 2024-03-16 18:41:58,670] Trial 5 finished with value: 0.49083333333333334 and parameters: {'lr': 0.08697291381043427, 'num_layers': 1, 'hidden_size': 300}. Best is trial 0 with value: 0.5033333333333333.\n",
      "[I 2024-03-16 18:42:02,244] Trial 6 finished with value: 0.13 and parameters: {'lr': 0.035409213912852885, 'num_layers': 2, 'hidden_size': 331}. Best is trial 0 with value: 0.5033333333333333.\n",
      "[I 2024-03-16 18:42:05,502] Trial 7 finished with value: 0.2758333333333333 and parameters: {'lr': 0.029143399099207462, 'num_layers': 2, 'hidden_size': 137}. Best is trial 0 with value: 0.5033333333333333.\n",
      "[I 2024-03-16 18:42:09,259] Trial 8 finished with value: 0.1175 and parameters: {'lr': 0.0527733135322625, 'num_layers': 3, 'hidden_size': 150}. Best is trial 0 with value: 0.5033333333333333.\n",
      "[I 2024-03-16 18:42:11,758] Trial 9 finished with value: 0.5091666666666667 and parameters: {'lr': 0.06556793431141099, 'num_layers': 1, 'hidden_size': 190}. Best is trial 9 with value: 0.5091666666666667.\n",
      "[I 2024-03-16 18:42:14,216] Trial 10 finished with value: 0.5658333333333333 and parameters: {'lr': 0.0019468184827273333, 'num_layers': 1, 'hidden_size': 77}. Best is trial 10 with value: 0.5658333333333333.\n",
      "[I 2024-03-16 18:42:17,210] Trial 11 finished with value: 0.5716666666666667 and parameters: {'lr': 0.0021730951686629494, 'num_layers': 1, 'hidden_size': 50}. Best is trial 11 with value: 0.5716666666666667.\n",
      "[I 2024-03-16 18:42:20,073] Trial 12 finished with value: 0.5783333333333334 and parameters: {'lr': 0.0008945125158441643, 'num_layers': 1, 'hidden_size': 57}. Best is trial 12 with value: 0.5783333333333334.\n",
      "[I 2024-03-16 18:42:23,006] Trial 13 finished with value: 0.5566666666666666 and parameters: {'lr': 0.0031902806468570616, 'num_layers': 1, 'hidden_size': 55}. Best is trial 12 with value: 0.5783333333333334.\n",
      "[I 2024-03-16 18:42:26,767] Trial 14 finished with value: 0.5116666666666667 and parameters: {'lr': 0.012685824820994054, 'num_layers': 2, 'hidden_size': 117}. Best is trial 12 with value: 0.5783333333333334.\n",
      "[I 2024-03-16 18:42:30,221] Trial 15 finished with value: 0.5775 and parameters: {'lr': 0.0007412483731695368, 'num_layers': 1, 'hidden_size': 198}. Best is trial 12 with value: 0.5783333333333334.\n",
      "[I 2024-03-16 18:42:33,988] Trial 16 finished with value: 0.25083333333333335 and parameters: {'lr': 0.025374328614960383, 'num_layers': 2, 'hidden_size': 215}. Best is trial 12 with value: 0.5783333333333334.\n",
      "[I 2024-03-16 18:42:36,275] Trial 17 finished with value: 0.49166666666666664 and parameters: {'lr': 0.04308368667452991, 'num_layers': 1, 'hidden_size': 394}. Best is trial 12 with value: 0.5783333333333334.\n",
      "[I 2024-03-16 18:42:39,542] Trial 18 finished with value: 0.12916666666666668 and parameters: {'lr': 0.09967563127473592, 'num_layers': 2, 'hidden_size': 183}. Best is trial 12 with value: 0.5783333333333334.\n",
      "[I 2024-03-16 18:42:42,441] Trial 19 finished with value: 0.5283333333333333 and parameters: {'lr': 0.0130886533167528, 'num_layers': 1, 'hidden_size': 93}. Best is trial 12 with value: 0.5783333333333334.\n",
      "[I 2024-03-16 18:42:45,383] Trial 20 finished with value: 0.5125 and parameters: {'lr': 0.0140542525740707, 'num_layers': 1, 'hidden_size': 430}. Best is trial 12 with value: 0.5783333333333334.\n",
      "[I 2024-03-16 18:42:48,323] Trial 21 finished with value: 0.5783333333333334 and parameters: {'lr': 0.0009193889544229367, 'num_layers': 1, 'hidden_size': 61}. Best is trial 12 with value: 0.5783333333333334.\n",
      "[I 2024-03-16 18:42:50,809] Trial 22 finished with value: 0.5691666666666667 and parameters: {'lr': 0.0002680243112987734, 'num_layers': 1, 'hidden_size': 104}. Best is trial 12 with value: 0.5783333333333334.\n",
      "[I 2024-03-16 18:42:53,134] Trial 23 finished with value: 0.535 and parameters: {'lr': 0.00861422845422992, 'num_layers': 1, 'hidden_size': 148}. Best is trial 12 with value: 0.5783333333333334.\n",
      "[I 2024-03-16 18:42:55,197] Trial 24 finished with value: 0.4775 and parameters: {'lr': 0.026589574334936337, 'num_layers': 1, 'hidden_size': 206}. Best is trial 12 with value: 0.5783333333333334.\n",
      "[I 2024-03-16 18:42:58,419] Trial 25 finished with value: 0.5208333333333334 and parameters: {'lr': 0.008124451594805474, 'num_layers': 2, 'hidden_size': 164}. Best is trial 12 with value: 0.5783333333333334.\n",
      "[I 2024-03-16 18:43:00,965] Trial 26 finished with value: 0.48083333333333333 and parameters: {'lr': 0.022620642431889108, 'num_layers': 1, 'hidden_size': 111}. Best is trial 12 with value: 0.5783333333333334.\n",
      "[I 2024-03-16 18:43:03,606] Trial 27 finished with value: 0.5191666666666667 and parameters: {'lr': 0.007032723579470484, 'num_layers': 1, 'hidden_size': 74}. Best is trial 12 with value: 0.5783333333333334.\n",
      "[I 2024-03-16 18:43:08,048] Trial 28 finished with value: 0.15916666666666668 and parameters: {'lr': 0.03242847139865056, 'num_layers': 2, 'hidden_size': 237}. Best is trial 12 with value: 0.5783333333333334.\n",
      "[I 2024-03-16 18:43:10,787] Trial 29 finished with value: 0.5033333333333333 and parameters: {'lr': 0.017812141121991483, 'num_layers': 1, 'hidden_size': 327}. Best is trial 12 with value: 0.5783333333333334.\n"
     ]
    },
    {
     "name": "stdout",
     "output_type": "stream",
     "text": [
      "Best trial:\n",
      "Value: 0.5783333333333334\n",
      "Params: \n",
      "    lr: 0.0008945125158441643\n",
      "    num_layers: 1\n",
      "    hidden_size: 57\n"
     ]
    }
   ],
   "source": [
    "study = optuna.create_study(direction='maximize', study_name='MLP')\n",
    "study.optimize(objective, n_trials=30)  # Adjust the number of trials as needed\n",
    "\n",
    "print(\"Best trial:\")\n",
    "trial = study.best_trial\n",
    "\n",
    "print(f\"Value: {trial.value}\")\n",
    "print(\"Params: \")\n",
    "for key, value in trial.params.items():\n",
    "    print(f\"    {key}: {value}\")\n",
    "\n",
    "# Find the best model based on validation accuracy\n",
    "best_model_info = max(all_models, key=lambda x: x['val_accuracy'])\n",
    "best_model = best_model_info['model']\n",
    "\n"
   ],
   "metadata": {
    "collapsed": false,
    "ExecuteTime": {
     "end_time": "2024-03-16T18:43:10.789403Z",
     "start_time": "2024-03-16T18:41:38.941051Z"
    }
   },
   "id": "e67a52b15deea2e1",
   "execution_count": 70
  },
  {
   "cell_type": "code",
   "outputs": [
    {
     "name": "stdout",
     "output_type": "stream",
     "text": [
      "Accuracy of the CustomNN model on the train set: 0.82\n",
      "Accuracy of the CustomNN model on the val set: 0.58\n",
      "Accuracy of the CustomNN model on the test set: 0.57\n"
     ]
    }
   ],
   "source": [
    "# Test the best model\n",
    "evaluate_pytorch_model(best_model, dataloaders={'train': train_loader, 'val': val_loader, 'test': test_loader}, device=device)"
   ],
   "metadata": {
    "collapsed": false,
    "ExecuteTime": {
     "end_time": "2024-03-16T18:46:00.804969Z",
     "start_time": "2024-03-16T18:46:00.599789Z"
    }
   },
   "id": "76902a2336af6298",
   "execution_count": 73
  },
  {
   "cell_type": "markdown",
   "source": [
    "## More complex type of MLP that includes batch norm and dropout layers, weight decay"
   ],
   "metadata": {
    "collapsed": false
   },
   "id": "b41b6bde2cc0e613"
  },
  {
   "cell_type": "code",
   "outputs": [],
   "source": [
    "class AdvancedCustomNN(nn.Module):\n",
    "    def __init__(self, input_size, num_classes, num_layers=2, hidden_size=100, dropout_rate=0.0, use_batch_norm=False):\n",
    "        super(AdvancedCustomNN, self).__init__()\n",
    "        layers = []\n",
    "        \n",
    "        for i in range(num_layers):\n",
    "            if i == 0:\n",
    "                layers.append(nn.Linear(input_size, hidden_size))\n",
    "            else:\n",
    "                layers.append(nn.Linear(hidden_size, hidden_size))\n",
    "            if use_batch_norm:\n",
    "                layers.append(nn.BatchNorm1d(hidden_size))\n",
    "            layers.append(nn.ReLU())\n",
    "            if dropout_rate > 0:\n",
    "                layers.append(nn.Dropout(dropout_rate))\n",
    "                \n",
    "        layers.append(nn.Linear(hidden_size, num_classes))\n",
    "        self.layers = nn.Sequential(*layers)\n",
    "        \n",
    "    def forward(self, x):\n",
    "        return self.layers(x)\n"
   ],
   "metadata": {
    "collapsed": false,
    "ExecuteTime": {
     "end_time": "2024-03-16T18:46:10.734876Z",
     "start_time": "2024-03-16T18:46:10.730143Z"
    }
   },
   "id": "dbf10b76c50330f1",
   "execution_count": 74
  },
  {
   "cell_type": "code",
   "outputs": [],
   "source": [
    "all_advanced_mlps = []\n",
    "def advanced_objective(trial):\n",
    "    lr = trial.suggest_float('lr', 1e-5, 1e-1, log=True)\n",
    "    num_layers = trial.suggest_int('num_layers', 2, 8)\n",
    "    hidden_size = trial.suggest_int('hidden_size', 50, 600)\n",
    "    dropout_rate = trial.suggest_float('dropout_rate', 0.0, 0.5)\n",
    "    use_batch_norm = trial.suggest_categorical('use_batch_norm', [True, False])\n",
    "    weight_decay = trial.suggest_float('weight_decay', 1e-5, 1e-1, log=True)\n",
    "    \n",
    "    model = AdvancedCustomNN(input_size=X_train.shape[1], num_classes=len(np.unique(Y_train)),\n",
    "                             num_layers=num_layers, hidden_size=hidden_size,\n",
    "                             dropout_rate=dropout_rate, use_batch_norm=use_batch_norm).to(device)\n",
    "    \n",
    "    optimizer = torch.optim.Adam(model.parameters(), lr=lr, weight_decay=weight_decay)\n",
    "    criterion = nn.CrossEntropyLoss()\n",
    "\n",
    "    val_accuracy = train_and_validate(model, train_loader, val_loader, device, optimizer, criterion, epochs=10)\n",
    "    # Save the model and trial information\n",
    "    all_advanced_mlps.append({'trial_id': trial.number, 'model': model, 'val_accuracy': val_accuracy})\n",
    "    \n",
    "    return val_accuracy\n"
   ],
   "metadata": {
    "collapsed": false,
    "ExecuteTime": {
     "end_time": "2024-03-16T18:46:11.908425Z",
     "start_time": "2024-03-16T18:46:11.904610Z"
    }
   },
   "id": "7ad342eafba8624b",
   "execution_count": 75
  },
  {
   "cell_type": "code",
   "outputs": [
    {
     "name": "stderr",
     "output_type": "stream",
     "text": [
      "[I 2024-03-16 18:46:22,416] A new study created in memory with name: MLP Advanced\n",
      "[I 2024-03-16 18:46:31,081] Trial 0 finished with value: 0.55 and parameters: {'lr': 0.0004477447858678547, 'num_layers': 4, 'hidden_size': 142, 'dropout_rate': 0.05321709666025598, 'use_batch_norm': True, 'weight_decay': 0.06068257451135976}. Best is trial 0 with value: 0.55.\n",
      "[I 2024-03-16 18:46:39,182] Trial 1 finished with value: 0.1175 and parameters: {'lr': 0.011182237003139098, 'num_layers': 7, 'hidden_size': 287, 'dropout_rate': 0.32130625886432435, 'use_batch_norm': False, 'weight_decay': 0.0009658820411423538}. Best is trial 0 with value: 0.55.\n",
      "[I 2024-03-16 18:46:44,764] Trial 2 finished with value: 0.1175 and parameters: {'lr': 0.09348222659485882, 'num_layers': 4, 'hidden_size': 228, 'dropout_rate': 0.05471452014685407, 'use_batch_norm': False, 'weight_decay': 0.00027937192004457464}. Best is trial 0 with value: 0.55.\n",
      "[I 2024-03-16 18:46:50,424] Trial 3 finished with value: 0.11583333333333333 and parameters: {'lr': 4.623687083475368e-05, 'num_layers': 4, 'hidden_size': 351, 'dropout_rate': 0.1359779235041445, 'use_batch_norm': False, 'weight_decay': 0.08649062205396513}. Best is trial 0 with value: 0.55.\n",
      "[I 2024-03-16 18:46:57,974] Trial 4 finished with value: 0.1275 and parameters: {'lr': 0.00019341015540301048, 'num_layers': 6, 'hidden_size': 478, 'dropout_rate': 0.4465926092571066, 'use_batch_norm': False, 'weight_decay': 0.038583875472424624}. Best is trial 0 with value: 0.55.\n",
      "[I 2024-03-16 18:47:06,058] Trial 5 finished with value: 0.5466666666666666 and parameters: {'lr': 0.0002693470777452196, 'num_layers': 4, 'hidden_size': 80, 'dropout_rate': 0.0005012878042283675, 'use_batch_norm': True, 'weight_decay': 0.01303696781098628}. Best is trial 0 with value: 0.55.\n",
      "[I 2024-03-16 18:47:13,853] Trial 6 finished with value: 0.325 and parameters: {'lr': 0.003739791398371877, 'num_layers': 7, 'hidden_size': 300, 'dropout_rate': 0.4533282793442948, 'use_batch_norm': False, 'weight_decay': 8.072736047033896e-05}. Best is trial 0 with value: 0.55.\n",
      "[I 2024-03-16 18:47:24,634] Trial 7 finished with value: 0.36083333333333334 and parameters: {'lr': 0.0001106143795026565, 'num_layers': 6, 'hidden_size': 198, 'dropout_rate': 0.3726304746777258, 'use_batch_norm': True, 'weight_decay': 0.0006603166644783169}. Best is trial 0 with value: 0.55.\n",
      "[I 2024-03-16 18:47:29,187] Trial 8 finished with value: 0.18333333333333332 and parameters: {'lr': 0.02578946946356872, 'num_layers': 2, 'hidden_size': 522, 'dropout_rate': 0.1342647859716884, 'use_batch_norm': False, 'weight_decay': 0.0008134703658624786}. Best is trial 0 with value: 0.55.\n",
      "[I 2024-03-16 18:47:35,735] Trial 9 finished with value: 0.21416666666666667 and parameters: {'lr': 0.01980454807548413, 'num_layers': 5, 'hidden_size': 487, 'dropout_rate': 0.3080656329813646, 'use_batch_norm': False, 'weight_decay': 3.405231385861389e-05}. Best is trial 0 with value: 0.55.\n",
      "[I 2024-03-16 18:47:41,076] Trial 10 finished with value: 0.3425 and parameters: {'lr': 1.2920130275398491e-05, 'num_layers': 2, 'hidden_size': 76, 'dropout_rate': 0.1965894893477743, 'use_batch_norm': True, 'weight_decay': 0.008237826137166563}. Best is trial 0 with value: 0.55.\n",
      "[I 2024-03-16 18:47:49,641] Trial 11 finished with value: 0.5266666666666666 and parameters: {'lr': 0.0005549641917208421, 'num_layers': 4, 'hidden_size': 52, 'dropout_rate': 0.0007463940187870666, 'use_batch_norm': True, 'weight_decay': 0.010871803496965118}. Best is trial 0 with value: 0.55.\n",
      "[I 2024-03-16 18:47:56,386] Trial 12 finished with value: 0.5475 and parameters: {'lr': 0.0012583643271567783, 'num_layers': 3, 'hidden_size': 126, 'dropout_rate': 0.00929969633346521, 'use_batch_norm': True, 'weight_decay': 0.007927107023992134}. Best is trial 0 with value: 0.55.\n",
      "[I 2024-03-16 18:48:03,167] Trial 13 finished with value: 0.5516666666666666 and parameters: {'lr': 0.001826215986247886, 'num_layers': 3, 'hidden_size': 162, 'dropout_rate': 0.08797636284006696, 'use_batch_norm': True, 'weight_decay': 0.003954969487627828}. Best is trial 13 with value: 0.5516666666666666.\n",
      "[I 2024-03-16 18:48:10,242] Trial 14 finished with value: 0.5466666666666666 and parameters: {'lr': 0.0019210298552898616, 'num_layers': 3, 'hidden_size': 172, 'dropout_rate': 0.10817446341263635, 'use_batch_norm': True, 'weight_decay': 0.0032733281858400767}. Best is trial 13 with value: 0.5516666666666666.\n",
      "[I 2024-03-16 18:48:17,884] Trial 15 finished with value: 0.4375 and parameters: {'lr': 0.003978832676223875, 'num_layers': 3, 'hidden_size': 416, 'dropout_rate': 0.22471783865339362, 'use_batch_norm': True, 'weight_decay': 0.04457979584121188}. Best is trial 13 with value: 0.5516666666666666.\n",
      "[I 2024-03-16 18:48:28,029] Trial 16 finished with value: 0.5558333333333333 and parameters: {'lr': 0.0005803169353786217, 'num_layers': 5, 'hidden_size': 240, 'dropout_rate': 0.08120803544253964, 'use_batch_norm': True, 'weight_decay': 0.003062932323733358}. Best is trial 16 with value: 0.5558333333333333.\n",
      "[I 2024-03-16 18:48:42,432] Trial 17 finished with value: 0.42916666666666664 and parameters: {'lr': 7.77309969162407e-05, 'num_layers': 8, 'hidden_size': 250, 'dropout_rate': 0.18035496312741245, 'use_batch_norm': True, 'weight_decay': 0.0025410917068412826}. Best is trial 16 with value: 0.5558333333333333.\n",
      "[I 2024-03-16 18:48:52,357] Trial 18 finished with value: 0.5408333333333334 and parameters: {'lr': 0.005345438103179959, 'num_layers': 5, 'hidden_size': 368, 'dropout_rate': 0.0810620702187289, 'use_batch_norm': True, 'weight_decay': 0.00015658531435529943}. Best is trial 16 with value: 0.5558333333333333.\n",
      "[I 2024-03-16 18:49:03,719] Trial 19 finished with value: 0.5666666666666667 and parameters: {'lr': 0.000720697356126061, 'num_layers': 6, 'hidden_size': 221, 'dropout_rate': 0.2685306611336606, 'use_batch_norm': True, 'weight_decay': 0.0027021450379733246}. Best is trial 19 with value: 0.5666666666666667.\n"
     ]
    },
    {
     "name": "stdout",
     "output_type": "stream",
     "text": [
      "Best trial:\n",
      "Value: 0.5666666666666667\n",
      "Params: \n",
      "    lr: 0.000720697356126061\n",
      "    num_layers: 6\n",
      "    hidden_size: 221\n",
      "    dropout_rate: 0.2685306611336606\n",
      "    use_batch_norm: True\n",
      "    weight_decay: 0.0027021450379733246\n"
     ]
    }
   ],
   "source": [
    "study = optuna.create_study(direction='maximize', study_name=\"MLP Advanced\")\n",
    "study.optimize(advanced_objective, n_trials=20)  # Adjust n_trials based on computational resources\n",
    "\n",
    "print(\"Best trial:\")\n",
    "trial = study.best_trial\n",
    "print(f\"Value: {trial.value}\")\n",
    "print(\"Params: \")\n",
    "for key, value in trial.params.items():\n",
    "    print(f\"    {key}: {value}\")"
   ],
   "metadata": {
    "collapsed": false,
    "ExecuteTime": {
     "end_time": "2024-03-16T18:49:03.721760Z",
     "start_time": "2024-03-16T18:46:22.414812Z"
    }
   },
   "id": "dff446ce15e0eac7",
   "execution_count": 76
  },
  {
   "cell_type": "code",
   "outputs": [
    {
     "name": "stdout",
     "output_type": "stream",
     "text": [
      "Accuracy of the AdvancedCustomNN model on the train set: 0.79\n",
      "Accuracy of the AdvancedCustomNN model on the val set: 0.57\n",
      "Accuracy of the AdvancedCustomNN model on the test set: 0.57\n"
     ]
    }
   ],
   "source": [
    "# Find the best model based on validation accuracy\n",
    "best_adv_mlp_info = max(all_advanced_mlps, key=lambda x: x['val_accuracy'])\n",
    "best_adv_mlp = best_adv_mlp_info['model']\n",
    "\n",
    "evaluate_pytorch_model(best_adv_mlp, dataloaders={'train': train_loader, 'val': val_loader, 'test': test_loader}, device=device)"
   ],
   "metadata": {
    "collapsed": false,
    "ExecuteTime": {
     "end_time": "2024-03-16T18:49:13.775753Z",
     "start_time": "2024-03-16T18:49:13.461430Z"
    }
   },
   "id": "4a6972e246edeadb",
   "execution_count": 77
  },
  {
   "cell_type": "markdown",
   "source": [
    "## Manually experiment with MLP Architectures"
   ],
   "metadata": {
    "collapsed": false
   },
   "id": "a05719662f4f49b4"
  },
  {
   "cell_type": "code",
   "outputs": [],
   "source": [
    "import time\n",
    "import matplotlib.pyplot as plt\n",
    "import torch.nn.functional as F\n",
    "def train_and_validate_with_plot(model, train_loader, val_loader, device, optimizer, criterion, epochs=10):\n",
    "    # Lists to keep track of losses and timing\n",
    "    train_losses = []\n",
    "    val_losses = []\n",
    "    start_time = time.time()\n",
    "    \n",
    "    for epoch in range(epochs):\n",
    "        model.train()  # Set the model to training mode\n",
    "        running_loss = 0.0\n",
    "        for inputs, labels in train_loader:\n",
    "            inputs, labels = inputs.to(device), labels.to(device)\n",
    "            \n",
    "            optimizer.zero_grad()\n",
    "            outputs = model(inputs)\n",
    "            loss = criterion(outputs, labels)\n",
    "            loss.backward()\n",
    "            optimizer.step()\n",
    "            running_loss += loss.item()\n",
    "        # Calculate and store the average training loss\n",
    "        train_losses.append(running_loss / len(train_loader))\n",
    "        running_loss = 0.0  # Reset running loss for validation\n",
    "        \n",
    "        # Validation phase\n",
    "        model.eval()  # Set the model to evaluation mode\n",
    "        total, correct = 0, 0\n",
    "        with torch.no_grad():\n",
    "            for inputs, labels in val_loader:\n",
    "                inputs, labels = inputs.to(device), labels.to(device)\n",
    "                outputs = model(inputs)\n",
    "                loss = criterion(outputs, labels)  # Corrected to use labels\n",
    "                running_loss += loss.item()\n",
    "                _, predicted = torch.max(outputs.data, 1)\n",
    "                total += labels.size(0)\n",
    "                correct += (predicted == labels).sum().item()\n",
    "            # Calculate and store the average validation loss\n",
    "            val_losses.append(running_loss / len(val_loader))\n",
    "\n",
    "    end_time = time.time()\n",
    "    elapsed_time = (end_time - start_time) / 60  # Time in minutes\n",
    "    \n",
    "    # Plotting the training and validation loss\n",
    "    plt.figure(figsize=(10, 6))\n",
    "    plt.plot(train_losses, label='Training Loss')\n",
    "    plt.plot(val_losses, label='Validation Loss')\n",
    "    plt.title('Training and Validation Loss')\n",
    "    plt.xlabel('Epochs')\n",
    "    plt.ylabel('Loss')\n",
    "    plt.legend()\n",
    "    plt.show()\n",
    "    \n",
    "    val_accuracy = correct / total\n",
    "    print(f\"Training completed in: {elapsed_time:.2f} minutes\")\n",
    "    return val_accuracy\n"
   ],
   "metadata": {
    "collapsed": false,
    "ExecuteTime": {
     "end_time": "2024-03-16T18:50:43.229979Z",
     "start_time": "2024-03-16T18:50:43.223913Z"
    }
   },
   "id": "84dbb165002955dd",
   "execution_count": 78
  },
  {
   "cell_type": "code",
   "outputs": [],
   "source": [
    "class ManualNN(nn.Module):\n",
    "    def __init__(self, input_size=518, num_classes=8, dropout_rate=0.3, hidden_units=[256, 128, 64, 32]):\n",
    "        super(ManualNN, self).__init__()\n",
    "\n",
    "        # Define the layers\n",
    "        self.dropout = nn.Dropout(p=dropout_rate)\n",
    "        self.bn_layers = nn.ModuleList([nn.BatchNorm1d(hidden_units[i]) for i in range(len(hidden_units))])\n",
    "\n",
    "        self.input_layer = nn.Linear(input_size, hidden_units[0])\n",
    "        self.hidden_layers = nn.ModuleList([nn.Linear(hidden_units[i], hidden_units[i+1]) for i in range(len(hidden_units)-1)])\n",
    "        self.output_layer = nn.Linear(hidden_units[-1], num_classes)\n",
    "\n",
    "    def forward(self, x):\n",
    "        # Forward pass through each layer\n",
    "        x = self.bn_layers[0](self.input_layer(x))\n",
    "        x = F.relu(x)\n",
    "        for i, layer in enumerate(self.hidden_layers):\n",
    "            x = self.bn_layers[i+1](layer(x))\n",
    "            x = F.relu(x)\n",
    "            x = self.dropout(x)\n",
    "        x = self.output_layer(x)\n",
    "        return x"
   ],
   "metadata": {
    "collapsed": false,
    "ExecuteTime": {
     "end_time": "2024-03-16T18:50:49.733195Z",
     "start_time": "2024-03-16T18:50:49.729082Z"
    }
   },
   "id": "67ac3b09d411b81d",
   "execution_count": 79
  },
  {
   "cell_type": "code",
   "outputs": [],
   "source": [
    "def train_and_validate_with_plot_es(model, train_loader, val_loader, device, optimizer, criterion, epochs=10, patience=5):\n",
    "    train_losses = []\n",
    "    val_losses = []\n",
    "    best_val_loss = float('inf')\n",
    "    epochs_no_improve = 0\n",
    "\n",
    "    for epoch in range(epochs):\n",
    "        model.train()\n",
    "        running_loss = 0.0\n",
    "        for inputs, labels in train_loader:\n",
    "            inputs, labels = inputs.to(device), labels.to(device)\n",
    "            optimizer.zero_grad()\n",
    "            outputs = model(inputs)\n",
    "            loss = criterion(outputs, labels)\n",
    "            loss.backward()\n",
    "            optimizer.step()\n",
    "            running_loss += loss.item()\n",
    "        train_losses.append(running_loss / len(train_loader))\n",
    "\n",
    "        model.eval()\n",
    "        running_loss = 0.0\n",
    "        for inputs, labels in val_loader:\n",
    "            inputs, labels = inputs.to(device), labels.to(device)\n",
    "            outputs = model(inputs)\n",
    "            loss = criterion(outputs, labels)\n",
    "            running_loss += loss.item()\n",
    "        average_val_loss = running_loss / len(val_loader)\n",
    "        val_losses.append(average_val_loss)\n",
    "\n",
    "        # Early Stopping\n",
    "        if average_val_loss < best_val_loss:\n",
    "            best_val_loss = average_val_loss\n",
    "            epochs_no_improve = 0\n",
    "        else:\n",
    "            epochs_no_improve += 1\n",
    "        if epochs_no_improve == patience:\n",
    "            print('Early stopping!')\n",
    "            break\n",
    "\n",
    "    # Plot losses\n",
    "    plt.figure(figsize=(10, 6))\n",
    "    plt.plot(train_losses, label='Training Loss')\n",
    "    plt.plot(val_losses, label='Validation Loss')\n",
    "    plt.title('Training and Validation Loss')\n",
    "    plt.xlabel('Epochs')\n",
    "    plt.ylabel('Loss')\n",
    "    plt.legend()\n",
    "    plt.show()\n",
    "    \n",
    "    return model, train_losses, val_losses\n"
   ],
   "metadata": {
    "collapsed": false,
    "ExecuteTime": {
     "end_time": "2024-03-16T18:50:50.295854Z",
     "start_time": "2024-03-16T18:50:50.291367Z"
    }
   },
   "id": "fe5d140f5e99c706",
   "execution_count": 80
  },
  {
   "cell_type": "code",
   "outputs": [
    {
     "data": {
      "text/plain": "<Figure size 1000x600 with 1 Axes>",
      "image/png": "[encoded data removed]"
     },
     "metadata": {},
     "output_type": "display_data"
    },
    {
     "name": "stdout",
     "output_type": "stream",
     "text": [
      "Training completed in: 0.47 minutes\n",
      "Accuracy of the ManualNN model on the train set: 0.99\n",
      "Accuracy of the ManualNN model on the val set: 0.53\n",
      "Accuracy of the ManualNN model on the test set: 0.55\n"
     ]
    }
   ],
   "source": [
    "# Instantiate\n",
    "# NN = ManualNN(hidden_units=[2056] * 4 + [1028] * 4 + [512]*4 + [256]*4 + [128]*4 + [64]*4 + [32,16], dropout_rate=0.4).to(device)\n",
    "NN = ManualNN(dropout_rate=0.4).to(device)\n",
    "# Define optimizer and loss function\n",
    "# optimizer = torch.optim.Adam(NN.parameters(), lr=0.001)\n",
    "optimizer = torch.optim.SGD(NN.parameters(), lr=0.01, momentum=0.9)\n",
    "criterion = nn.CrossEntropyLoss()\n",
    "\n",
    "# Train and validate the model\n",
    "epochs = 50\n",
    "val_accuracy = train_and_validate_with_plot(NN, train_loader, val_loader, device, optimizer, criterion, epochs)\n",
    "evaluate_pytorch_model(NN, dataloaders={'train': train_loader, 'val': val_loader, 'test': test_loader}, device=device)"
   ],
   "metadata": {
    "collapsed": false,
    "ExecuteTime": {
     "end_time": "2024-03-16T18:52:27.444529Z",
     "start_time": "2024-03-16T18:51:58.713086Z"
    }
   },
   "id": "7260c242aedee44c",
   "execution_count": 82
  },
  {
   "cell_type": "code",
   "outputs": [
    {
     "data": {
      "text/plain": "<Figure size 1000x600 with 1 Axes>",
      "image/png": "[encoded data removed]"
     },
     "metadata": {},
     "output_type": "display_data"
    },
    {
     "name": "stdout",
     "output_type": "stream",
     "text": [
      "Training completed in: 0.95 minutes\n",
      "Accuracy of the ManualNN model on the train set: 0.76\n",
      "Accuracy of the ManualNN model on the val set: 0.46\n",
      "Accuracy of the ManualNN model on the test set: 0.47\n"
     ]
    }
   ],
   "source": [
    "# Instantiate\n",
    "NN = ManualNN(hidden_units=[2056] * 1 + [1028] * 0 + [512]*1 + [256]*4 + [128]*1 + [64]*1 + [32,16], dropout_rate=0.4).to(device)\n",
    "# NN = ManualNN(dropout_rate=0.4).to(device)\n",
    "# Define optimizer and loss function\n",
    "# optimizer = torch.optim.Adam(NN.parameters(), lr=0.001)\n",
    "optimizer = torch.optim.SGD(NN.parameters(), lr=0.01, momentum=0.9)\n",
    "criterion = nn.CrossEntropyLoss()\n",
    "\n",
    "# Train and validate the model\n",
    "epochs = 50\n",
    "val_accuracy = train_and_validate_with_plot(NN, train_loader, val_loader, device, optimizer, criterion, epochs)\n",
    "evaluate_pytorch_model(NN, dataloaders={'train': train_loader, 'val': val_loader, 'test': test_loader}, device=device)"
   ],
   "metadata": {
    "collapsed": false,
    "ExecuteTime": {
     "end_time": "2024-03-16T18:54:54.448025Z",
     "start_time": "2024-03-16T18:53:56.785367Z"
    }
   },
   "id": "aa8a635b5383127",
   "execution_count": 83
  },
  {
   "cell_type": "code",
   "outputs": [],
   "source": [
    "# Try varying batch sizes:\n",
    "bs = 64\n",
    "train_loader_vbs = DataLoader(train_dataset, batch_size=bs, shuffle=True)\n",
    "val_loader_vbs = DataLoader(val_dataset, batch_size=bs, shuffle=False)\n",
    "test_loader_vbs = DataLoader(test_dataset, batch_size=bs, shuffle=False)\n",
    "# Instantiate #10360 works fairly well\n",
    "NN = ManualNN(hidden_units=[268324] + [33540]*0 + [256]*0 + [128] + [64]*1 + [32]* 1 + [16], dropout_rate=0.5).to(device)\n",
    "# Define optimizer and loss function\n",
    "# optimizer = torch.optim.Adam(NN.parameters(), lr=0.001)\n",
    "optimizer = torch.optim.SGD(NN.parameters(), lr=0.01, momentum=0.9)\n",
    "criterion = nn.MSE()\n",
    "\n",
    "# Train and evaluate the model\n",
    "epochs = 500\n",
    "patience = 50\n",
    "val_acc = train_and_validate_with_plot_es(NN, train_loader_vbs, val_loader_vbs, device, optimizer, criterion, epochs, patience)\n",
    "evaluate_pytorch_model(NN, dataloaders={'train': train_loader, 'val': val_loader, 'test': test_loader}, device=device)"
   ],
   "metadata": {
    "collapsed": false
   },
   "id": "acb8b51cf1139fd4"
  }
 ],
 "metadata": {
  "kernelspec": {
   "display_name": "Python 3",
   "language": "python",
   "name": "python3"
  },
  "language_info": {
   "codemirror_mode": {
    "name": "ipython",
    "version": 2
   },
   "file_extension": ".py",
   "mimetype": "text/x-python",
   "name": "python",
   "nbconvert_exporter": "python",
   "pygments_lexer": "ipython2",
   "version": "2.7.6"
  }
 },
 "nbformat": 4,
 "nbformat_minor": 5
}
