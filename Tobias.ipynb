{
 "cells": [
  {
   "cell_type": "markdown",
   "source": [
    "# Housekeeping"
   ],
   "metadata": {
    "collapsed": false
   },
   "id": "dac851d56d48b45c"
  },
  {
   "cell_type": "code",
   "outputs": [
    {
     "name": "stdout",
     "output_type": "stream",
     "text": [
      "8 different classes: Electronic, Experimental, Folk, Hip-Hop, Instrumental, International, Pop or Rock.\n",
      "objective 1: construct a classifier which, based on the features of a song, predicts its genre\n",
      "objective 2: estimate its generalisation error under the 0–1 loss.\n",
      "Features are real-valued, correspond to summary statistics (mean, sd, skewness, kurtosis, median, min, max) of \n",
      "time series of various music features, such as the chromagram or the Mel-frequency cepstrum.\n",
      "Feature description: \n",
      "\n",
      "Feature description: \n",
      "chroma_cens: Chroma Energy Normalized (CENS, 12 chroma) - 84 features\n",
      "chroma_cqt: Constant-Q chromagram (12 chroma) - 84 features\n",
      "chroma_stft: Chromagram (12 chroma) - 84 features\n",
      "mfcc: Mel-frequency cepstrum (20 coefficients) - 140 features\n",
      "rmse: Root-mean-square - 7 features\n",
      "spectral_bandwidth: Spectral bandwidth - 7 features\n",
      "spectral_centroid: Spectral centroid - 7 features\n",
      "spectral_contrast: Spectral contrast (7 frequency bands) - 49 features\n",
      "spectral_rolloff: Roll-off frequency - 7 features\n",
      "tonnetz: Tonal centroid features (6 features) - 42 features\n",
      "zcr: Zero-crossing rate - 7 features\n",
      "x_train: 6000 rows on 518 columns\n",
      "Objects loaded: x_train, x_test, y_train as pd dataframes, x_train_np, x_test_np, y_train_np as NP arrays\n",
      "function generate_submission_csv(genre_predictions, filename='submission.csv') available\n"
     ]
    }
   ],
   "source": [
    "%run 'Setup.py'"
   ],
   "metadata": {
    "collapsed": false,
    "ExecuteTime": {
     "end_time": "2024-03-11T23:37:18.688004Z",
     "start_time": "2024-03-11T23:37:16.280004Z"
    }
   },
   "id": "initial_id",
   "execution_count": 1
  },
  {
   "cell_type": "markdown",
   "source": [
    "## Import and Prepare Data"
   ],
   "metadata": {
    "collapsed": false
   },
   "id": "7967f766876aa198"
  },
  {
   "cell_type": "code",
   "outputs": [],
   "source": [
    "# Prepare data\n",
    "label_encoder = LabelEncoder()\n",
    "y_train_encoded = label_encoder.fit_transform(y_train_np.ravel())\n",
    "\n",
    "X_train, X_val, Y_train, Y_val = train_test_split(x_train_np, y_train_encoded, test_size=0.2, random_state=42)\n",
    "\n",
    "scaler = StandardScaler()\n",
    "X_train_scaled = scaler.fit_transform(X_train)\n",
    "X_val_scaled = scaler.transform(X_val)\n",
    "X_test_scaled = scaler.transform(x_test_np)  # Assuming x_test_np is your test set features without labels\n",
    "\n",
    "X_train_tensor = torch.tensor(X_train_scaled, dtype=torch.float32)\n",
    "Y_train_tensor = torch.tensor(Y_train, dtype=torch.int64)\n",
    "X_val_tensor = torch.tensor(X_val_scaled, dtype=torch.float32)\n",
    "Y_val_tensor = torch.tensor(Y_val, dtype=torch.int64)\n",
    "X_test_tensor = torch.tensor(X_test_scaled, dtype=torch.float32)\n",
    "\n",
    "# Note: No Y_test_tensor since you don't have y_test labels\n",
    "\n",
    "# Creating TensorDatasets and DataLoaders for training and validation sets\n",
    "train_dataset = TensorDataset(X_train_tensor, Y_train_tensor)\n",
    "val_dataset = TensorDataset(X_val_tensor, Y_val_tensor)\n",
    "\n",
    "train_loader = DataLoader(train_dataset, batch_size=64, shuffle=True)\n",
    "val_loader = DataLoader(val_dataset, batch_size=64, shuffle=False)\n",
    "\n",
    "# Creating a DataLoader for the test set specifically for prediction purposes\n",
    "# As there are no test labels, we only pass in the features\n",
    "test_dataset = TensorDataset(X_test_tensor)  # Note: This only contains features\n",
    "test_loader = DataLoader(test_dataset, batch_size=64, shuffle=False)  # For generating predictions\n",
    "\n",
    "# Initialize device\n",
    "device = torch.device(\"mps\" if torch.backends.mps.is_available() else \"cpu\")"
   ],
   "metadata": {
    "collapsed": false,
    "ExecuteTime": {
     "end_time": "2024-03-11T23:37:22.829844Z",
     "start_time": "2024-03-11T23:37:22.748219Z"
    }
   },
   "id": "f16d37475ba7587b",
   "execution_count": 2
  },
  {
   "cell_type": "markdown",
   "source": [
    "## Evaluation Functions for sklearn and pytorch models"
   ],
   "metadata": {
    "collapsed": false
   },
   "id": "819e17c9078ebd63"
  },
  {
   "cell_type": "code",
   "outputs": [],
   "source": [
    "def evaluate_pytorch_model(model, dataloaders, device):\n",
    "    model.eval()  # Set the model to evaluation mode\n",
    "    performance = {}\n",
    "    with torch.no_grad():  # No need to track gradients\n",
    "        for phase in ['train', 'val', 'test']:  # Ensure dataloaders includes all phases you wish to evaluate\n",
    "            if phase not in dataloaders:  # Skip if DataLoader is not provided for the phase\n",
    "                continue\n",
    "            correct, total = 0, 0\n",
    "            for inputs, labels in dataloaders[phase]:\n",
    "                inputs, labels = inputs.to(device), labels.to(device)\n",
    "                outputs = model(inputs)\n",
    "                _, predicted = torch.max(outputs.data, 1)\n",
    "                total += labels.size(0)\n",
    "                correct += (predicted == labels).sum().item()\n",
    "            accuracy = correct / total\n",
    "            performance[phase + '_accuracy'] = accuracy\n",
    "            print(f'Accuracy of the {model.__class__.__name__} model on the {phase} set: {accuracy:.2f}')\n",
    "    return performance\n",
    "\n",
    "def evaluate_sklearn_model(model, X_train, Y_train, X_test, Y_test):\n",
    "    performance = {}\n",
    "    for phase, X, Y in [('train', X_train, Y_train), ('test', X_test, Y_test)]:\n",
    "        predicted = model.predict(X)\n",
    "        accuracy = np.mean(predicted == Y)\n",
    "        performance[phase + '_accuracy'] = accuracy\n",
    "        print(f'Accuracy of the {model.__class__.__name__} model on the {phase} set: {accuracy:.2f}')\n",
    "    return performance\n",
    "\n"
   ],
   "metadata": {
    "collapsed": false,
    "ExecuteTime": {
     "end_time": "2024-03-11T23:37:24.914777Z",
     "start_time": "2024-03-11T23:37:24.910467Z"
    }
   },
   "id": "e430c025177237dd",
   "execution_count": 3
  },
  {
   "cell_type": "markdown",
   "source": [
    "## Functions to generate Predictions"
   ],
   "metadata": {
    "collapsed": false
   },
   "id": "b38edbd7135993d"
  },
  {
   "cell_type": "code",
   "outputs": [],
   "source": [
    "def map_predictions_to_genres(predictions, label_encoder):\n",
    "    genre_predictions = label_encoder.inverse_transform(predictions)\n",
    "    return genre_predictions\n",
    "\n",
    "def make_predictions_pytorch(model, X_test_tensor, device):\n",
    "    model.eval()  # Set the model to evaluation mode\n",
    "    X_test_tensor = X_test_tensor.to(device)\n",
    "    with torch.no_grad():  # No need to track the gradients\n",
    "        outputs = model(X_test_tensor)\n",
    "        _, predictions = torch.max(outputs, 1)\n",
    "    # Convert predictions to CPU and numpy for easier handling\n",
    "    predictions = predictions.cpu().numpy()\n",
    "    return predictions\n",
    "\n",
    "def make_predictions_sklearn(model, X_test_scaled):\n",
    "    predictions = model.predict(X_test_scaled)\n",
    "    return predictions\n"
   ],
   "metadata": {
    "collapsed": false,
    "ExecuteTime": {
     "end_time": "2024-03-11T23:37:26.074800Z",
     "start_time": "2024-03-11T23:37:26.072239Z"
    }
   },
   "id": "1da1807c3ed12842",
   "execution_count": 4
  },
  {
   "cell_type": "markdown",
   "source": [
    "## Initialize"
   ],
   "metadata": {
    "collapsed": false
   },
   "id": "6174e2ca125292da"
  },
  {
   "cell_type": "code",
   "outputs": [],
   "source": [
    "device = torch.device(\"mps\" if torch.backends.mps.is_available() else \"cpu\")"
   ],
   "metadata": {
    "collapsed": false,
    "ExecuteTime": {
     "end_time": "2024-03-11T23:38:00.596385Z",
     "start_time": "2024-03-11T23:38:00.594060Z"
    }
   },
   "id": "ae1f184ff1cefee2",
   "execution_count": 6
  }
 ],
 "metadata": {
  "kernelspec": {
   "display_name": "Python 3",
   "language": "python",
   "name": "python3"
  },
  "language_info": {
   "codemirror_mode": {
    "name": "ipython",
    "version": 2
   },
   "file_extension": ".py",
   "mimetype": "text/x-python",
   "name": "python",
   "nbconvert_exporter": "python",
   "pygments_lexer": "ipython2",
   "version": "2.7.6"
  }
 },
 "nbformat": 4,
 "nbformat_minor": 5
}
