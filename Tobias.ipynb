{
 "cells": [
  {
   "cell_type": "markdown",
   "source": [
    "# Housekeeping"
   ],
   "metadata": {
    "collapsed": false
   },
   "id": "dac851d56d48b45c"
  },
  {
   "cell_type": "code",
   "outputs": [
    {
     "name": "stdout",
     "output_type": "stream",
     "text": [
      "8 different classes: Electronic, Experimental, Folk, Hip-Hop, Instrumental, International, Pop or Rock.\n",
      "objective 1: construct a classifier which, based on the features of a song, predicts its genre\n",
      "objective 2: estimate its generalisation error under the 0–1 loss.\n",
      "Features are real-valued, correspond to summary statistics (mean, sd, skewness, kurtosis, median, min, max) of \n",
      "time series of various music features, such as the chromagram or the Mel-frequency cepstrum.\n",
      "Feature description: \n",
      "\n",
      "Feature description: \n",
      "chroma_cens: Chroma Energy Normalized (CENS, 12 chroma) - 84 features\n",
      "chroma_cqt: Constant-Q chromagram (12 chroma) - 84 features\n",
      "chroma_stft: Chromagram (12 chroma) - 84 features\n",
      "mfcc: Mel-frequency cepstrum (20 coefficients) - 140 features\n",
      "rmse: Root-mean-square - 7 features\n",
      "spectral_bandwidth: Spectral bandwidth - 7 features\n",
      "spectral_centroid: Spectral centroid - 7 features\n",
      "spectral_contrast: Spectral contrast (7 frequency bands) - 49 features\n",
      "spectral_rolloff: Roll-off frequency - 7 features\n",
      "tonnetz: Tonal centroid features (6 features) - 42 features\n",
      "zcr: Zero-crossing rate - 7 features\n",
      "x_train: 6000 rows on 518 columns\n",
      "Objects loaded: x_train, x_test, y_train as pd dataframes, x_train_np, x_test_np, y_train_np as NP arrays\n",
      "function generate_submission_csv(genre_predictions, filename='submission.csv') available\n"
     ]
    }
   ],
   "source": [
    "%run 'Setup.py'"
   ],
   "metadata": {
    "collapsed": false,
    "ExecuteTime": {
     "end_time": "2024-03-12T15:37:16.263511Z",
     "start_time": "2024-03-12T15:37:13.780670Z"
    }
   },
   "id": "initial_id",
   "execution_count": 1
  },
  {
   "cell_type": "markdown",
   "source": [
    "## Import and Prepare Data"
   ],
   "metadata": {
    "collapsed": false
   },
   "id": "7967f766876aa198"
  },
  {
   "cell_type": "code",
   "outputs": [],
   "source": [
    "# Prepare data\n",
    "label_encoder = LabelEncoder()\n",
    "y_train_encoded = label_encoder.fit_transform(y_train_np.ravel())\n",
    "\n",
    "# Split training data into training and temporary validation sets\n",
    "X_train, X_temp, Y_train, Y_temp = train_test_split(x_train_np, y_train_encoded, test_size=0.4, random_state=42)\n",
    "\n",
    "# Split the temporary validation set into validation and test sets\n",
    "X_val, X_test, Y_val, Y_test = train_test_split(X_temp, Y_temp, test_size=0.5, random_state=42)\n",
    "\n",
    "\n",
    "scaler = StandardScaler()\n",
    "X_train_scaled = scaler.fit_transform(X_train)\n",
    "X_val_scaled = scaler.transform(X_val)\n",
    "X_test_scaled = scaler.transform(X_test)  \n",
    "X_real_test_scaled = scaler.transform(x_test_np)\n",
    "\n",
    "X_train_tensor = torch.tensor(X_train_scaled, dtype=torch.float32)\n",
    "Y_train_tensor = torch.tensor(Y_train, dtype=torch.int64)\n",
    "X_val_tensor = torch.tensor(X_val_scaled, dtype=torch.float32)\n",
    "Y_val_tensor = torch.tensor(Y_val, dtype=torch.int64)\n",
    "X_test_tensor = torch.tensor(X_test_scaled, dtype=torch.float32)\n",
    "Y_test_tensor = torch.tensor(Y_test, dtype=torch.int64)\n",
    "# Repeat for actual (no labels available) test set\n",
    "X_real_test_tensor = torch.tensor(X_real_test_scaled, dtype=torch.float32)\n",
    "\n",
    "# Create TensorDatasets and DataLoaders for training, validation, test sets\n",
    "train_dataset = TensorDataset(X_train_tensor, Y_train_tensor)\n",
    "val_dataset = TensorDataset(X_val_tensor, Y_val_tensor)\n",
    "test_dataset = TensorDataset(X_test_tensor, Y_test_tensor)\n",
    "\n",
    "train_loader = DataLoader(train_dataset, batch_size=64, shuffle=True)\n",
    "val_loader = DataLoader(val_dataset, batch_size=64, shuffle=False)\n",
    "test_loader = DataLoader(test_dataset, batch_size=64, shuffle=False)\n",
    "\n",
    "# Creating a DataLoader for the test set specifically for prediction purposes\n",
    "# As there are no test labels, we only pass in the features\n",
    "real_test_dataset = TensorDataset(X_real_test_tensor)  # Note: This only contains features\n",
    "real_test_loader = DataLoader(real_test_dataset, batch_size=64, shuffle=False)  # For generating predictions\n",
    "\n",
    "# Initialize device\n",
    "device = torch.device(\"mps\" if torch.backends.mps.is_available() else \"cpu\")"
   ],
   "metadata": {
    "collapsed": false,
    "ExecuteTime": {
     "end_time": "2024-03-12T13:46:41.432531Z",
     "start_time": "2024-03-12T13:46:41.375225Z"
    }
   },
   "id": "f16d37475ba7587b",
   "execution_count": 2
  },
  {
   "cell_type": "markdown",
   "source": [
    "## Evaluation Functions for sklearn and pytorch models"
   ],
   "metadata": {
    "collapsed": false
   },
   "id": "819e17c9078ebd63"
  },
  {
   "cell_type": "code",
   "outputs": [],
   "source": [
    "def evaluate_pytorch_model(model, dataloaders, device):\n",
    "    model.eval()  # Set the model to evaluation mode\n",
    "    performance = {}\n",
    "    with torch.no_grad():  # No need to track gradients\n",
    "        for phase in ['train', 'val', 'test']:  # Ensure dataloaders includes all phases you wish to evaluate\n",
    "            if phase not in dataloaders:  # Skip if DataLoader is not provided for the phase\n",
    "                continue\n",
    "            correct, total = 0, 0\n",
    "            for inputs, labels in dataloaders[phase]:\n",
    "                inputs, labels = inputs.to(device), labels.to(device)\n",
    "                outputs = model(inputs)\n",
    "                _, predicted = torch.max(outputs.data, 1)\n",
    "                total += labels.size(0)\n",
    "                correct += (predicted == labels).sum().item()\n",
    "            accuracy = correct / total\n",
    "            performance[phase + '_accuracy'] = accuracy\n",
    "            print(f'Accuracy of the {model.__class__.__name__} model on the {phase} set: {accuracy:.2f}')\n",
    "    # return performance\n",
    "\n",
    "def evaluate_sklearn_model(model, X_train, Y_train, X_test, Y_test):\n",
    "    performance = {}\n",
    "    for phase, X, Y in [('train', X_train, Y_train), ('test', X_test, Y_test)]:\n",
    "        predicted = model.predict(X)\n",
    "        accuracy = np.mean(predicted == Y)\n",
    "        performance[phase + '_accuracy'] = accuracy\n",
    "        print(f'Accuracy of the {model.__class__.__name__} model on the {phase} set: {accuracy:.2f}')\n",
    "    return performance\n",
    "\n"
   ],
   "metadata": {
    "collapsed": false,
    "ExecuteTime": {
     "end_time": "2024-03-12T13:46:43.190550Z",
     "start_time": "2024-03-12T13:46:43.186327Z"
    }
   },
   "id": "e430c025177237dd",
   "execution_count": 3
  },
  {
   "cell_type": "markdown",
   "source": [
    "## Functions to generate Predictions"
   ],
   "metadata": {
    "collapsed": false
   },
   "id": "b38edbd7135993d"
  },
  {
   "cell_type": "code",
   "outputs": [],
   "source": [
    "def map_predictions_to_genres(predictions, label_encoder):\n",
    "    genre_predictions = label_encoder.inverse_transform(predictions)\n",
    "    return genre_predictions\n",
    "\n",
    "def make_predictions_pytorch(model, X_test_tensor, device):\n",
    "    model.eval()  # Set the model to evaluation mode\n",
    "    X_test_tensor = X_test_tensor.to(device)\n",
    "    with torch.no_grad():  # No need to track the gradients\n",
    "        outputs = model(X_test_tensor)\n",
    "        _, predictions = torch.max(outputs, 1)\n",
    "    # Convert predictions to CPU and numpy for easier handling\n",
    "    predictions = predictions.cpu().numpy()\n",
    "    return predictions\n",
    "\n",
    "def make_predictions_sklearn(model, X_test_scaled):\n",
    "    predictions = model.predict(X_test_scaled)\n",
    "    return predictions\n"
   ],
   "metadata": {
    "collapsed": false,
    "ExecuteTime": {
     "end_time": "2024-03-12T13:46:44.606339Z",
     "start_time": "2024-03-12T13:46:44.603799Z"
    }
   },
   "id": "1da1807c3ed12842",
   "execution_count": 4
  },
  {
   "cell_type": "markdown",
   "source": [
    "## Initialize"
   ],
   "metadata": {
    "collapsed": false
   },
   "id": "6174e2ca125292da"
  },
  {
   "cell_type": "code",
   "outputs": [],
   "source": [
    "device = torch.device(\"mps\" if torch.backends.mps.is_available() else \"cpu\")"
   ],
   "metadata": {
    "collapsed": false,
    "ExecuteTime": {
     "end_time": "2024-03-12T13:46:46.450640Z",
     "start_time": "2024-03-12T13:46:46.448683Z"
    }
   },
   "id": "ae1f184ff1cefee2",
   "execution_count": 5
  },
  {
   "cell_type": "markdown",
   "source": [
    "## Try MLPs"
   ],
   "metadata": {
    "collapsed": false
   },
   "id": "b841a71a19be2832"
  },
  {
   "cell_type": "code",
   "outputs": [],
   "source": [
    "class CustomNN(nn.Module):\n",
    "    def __init__(self, input_size, num_classes, num_layers=2, hidden_size=100):\n",
    "        super(CustomNN, self).__init__()\n",
    "        self.layers = nn.ModuleList()\n",
    "        \n",
    "        for i in range(num_layers):\n",
    "            if i == 0:\n",
    "                self.layers.append(nn.Linear(input_size, hidden_size))\n",
    "            else:\n",
    "                self.layers.append(nn.Linear(hidden_size, hidden_size))\n",
    "            self.layers.append(nn.ReLU())\n",
    "\n",
    "        self.output_layer = nn.Linear(hidden_size, num_classes)\n",
    "        \n",
    "    def forward(self, x):\n",
    "        for layer in self.layers:\n",
    "            x = layer(x)\n",
    "        x = self.output_layer(x)\n",
    "        return x\n"
   ],
   "metadata": {
    "collapsed": false,
    "ExecuteTime": {
     "end_time": "2024-03-12T13:46:48.771160Z",
     "start_time": "2024-03-12T13:46:48.768435Z"
    }
   },
   "id": "6efcf1c14a690d6b",
   "execution_count": 6
  },
  {
   "cell_type": "code",
   "outputs": [],
   "source": [
    "def train_and_validate(model, train_loader, val_loader, device, optimizer, criterion, epochs=10):\n",
    "    model.train()  # Set the model to training mode\n",
    "    for epoch in range(epochs):\n",
    "        for inputs, labels in train_loader:\n",
    "            inputs, labels = inputs.to(device), labels.to(device)\n",
    "            \n",
    "            optimizer.zero_grad()\n",
    "            outputs = model(inputs)\n",
    "            loss = criterion(outputs, labels)\n",
    "            loss.backward()\n",
    "            optimizer.step()\n",
    "    \n",
    "    # Validation phase\n",
    "    model.eval()  # Set the model to evaluation mode\n",
    "    total, correct = 0, 0\n",
    "    with torch.no_grad():\n",
    "        for inputs, labels in val_loader:\n",
    "            inputs, labels = inputs.to(device), labels.to(device)\n",
    "            outputs = model(inputs)\n",
    "            _, predicted = torch.max(outputs.data, 1)\n",
    "            total += labels.size(0)\n",
    "            correct += (predicted == labels).sum().item()\n",
    "    \n",
    "    val_accuracy = correct / total\n",
    "    return val_accuracy\n"
   ],
   "metadata": {
    "collapsed": false,
    "ExecuteTime": {
     "end_time": "2024-03-12T13:46:51.491694Z",
     "start_time": "2024-03-12T13:46:51.487254Z"
    }
   },
   "id": "dcc0f17a0420bd9c",
   "execution_count": 7
  },
  {
   "cell_type": "code",
   "outputs": [],
   "source": [
    "import optuna\n",
    "all_models = []\n",
    "def objective(trial):\n",
    "    # Hyperparameters to tune\n",
    "    lr = trial.suggest_loguniform('lr', 1e-5, 1e-1)\n",
    "    num_layers = trial.suggest_int('num_layers', 1, 3)\n",
    "    hidden_size = trial.suggest_int('hidden_size', 50, 500)\n",
    "    \n",
    "    # Model initialization\n",
    "    model = CustomNN(input_size=X_train.shape[1], num_classes=len(np.unique(Y_train)),\n",
    "                     num_layers=num_layers, hidden_size=hidden_size).to(device)\n",
    "    \n",
    "    optimizer = torch.optim.Adam(model.parameters(), lr=lr)\n",
    "    criterion = nn.CrossEntropyLoss()\n",
    "\n",
    "    # Train and validate\n",
    "    val_accuracy = train_and_validate(model, train_loader, val_loader, device, optimizer, criterion, epochs=10)\n",
    "    \n",
    "    # Save the model and trial information\n",
    "    all_models.append({'trial_id': trial.number, 'model': model, 'val_accuracy': val_accuracy})\n",
    "    \n",
    "    return val_accuracy\n"
   ],
   "metadata": {
    "collapsed": false,
    "ExecuteTime": {
     "end_time": "2024-03-12T10:21:37.862370Z",
     "start_time": "2024-03-12T10:21:37.693008Z"
    }
   },
   "id": "29776cef877f8b3a",
   "execution_count": 11
  },
  {
   "cell_type": "code",
   "outputs": [
    {
     "name": "stderr",
     "output_type": "stream",
     "text": [
      "[I 2024-03-12 10:21:39,537] A new study created in memory with name: MLP\n",
      "/var/folders/lq/x2t80c813gsbg58jgjy302hc0000gn/T/ipykernel_20829/1964658944.py:5: FutureWarning: suggest_loguniform has been deprecated in v3.0.0. This feature will be removed in v6.0.0. See https://github.com/optuna/optuna/releases/tag/v3.0.0. Use suggest_float(..., log=True) instead.\n",
      "  lr = trial.suggest_loguniform('lr', 1e-5, 1e-1)\n",
      "[I 2024-03-12 10:21:43,334] Trial 0 finished with value: 0.13 and parameters: {'lr': 0.04943102532296655, 'num_layers': 2, 'hidden_size': 447}. Best is trial 0 with value: 0.13.\n",
      "/var/folders/lq/x2t80c813gsbg58jgjy302hc0000gn/T/ipykernel_20829/1964658944.py:5: FutureWarning: suggest_loguniform has been deprecated in v3.0.0. This feature will be removed in v6.0.0. See https://github.com/optuna/optuna/releases/tag/v3.0.0. Use suggest_float(..., log=True) instead.\n",
      "  lr = trial.suggest_loguniform('lr', 1e-5, 1e-1)\n",
      "[I 2024-03-12 10:21:46,929] Trial 1 finished with value: 0.1175 and parameters: {'lr': 0.043055327096516535, 'num_layers': 3, 'hidden_size': 420}. Best is trial 0 with value: 0.13.\n",
      "[I 2024-03-12 10:21:49,010] Trial 2 finished with value: 0.5233333333333333 and parameters: {'lr': 6.0149477069932315e-05, 'num_layers': 1, 'hidden_size': 410}. Best is trial 2 with value: 0.5233333333333333.\n",
      "[I 2024-03-12 10:21:52,596] Trial 3 finished with value: 0.5675 and parameters: {'lr': 0.00037452300636034116, 'num_layers': 3, 'hidden_size': 334}. Best is trial 3 with value: 0.5675.\n",
      "[I 2024-03-12 10:21:56,160] Trial 4 finished with value: 0.5616666666666666 and parameters: {'lr': 0.0002254824111020507, 'num_layers': 3, 'hidden_size': 405}. Best is trial 3 with value: 0.5675.\n",
      "[I 2024-03-12 10:21:58,279] Trial 5 finished with value: 0.4216666666666667 and parameters: {'lr': 1.3713783488834815e-05, 'num_layers': 1, 'hidden_size': 211}. Best is trial 3 with value: 0.5675.\n",
      "[I 2024-03-12 10:22:00,411] Trial 6 finished with value: 0.49916666666666665 and parameters: {'lr': 0.015470250422550085, 'num_layers': 1, 'hidden_size': 268}. Best is trial 3 with value: 0.5675.\n",
      "[I 2024-03-12 10:22:02,585] Trial 7 finished with value: 0.49083333333333334 and parameters: {'lr': 2.9334326140609332e-05, 'num_layers': 1, 'hidden_size': 402}. Best is trial 3 with value: 0.5675.\n",
      "[I 2024-03-12 10:22:05,448] Trial 8 finished with value: 0.445 and parameters: {'lr': 2.367212081473773e-05, 'num_layers': 2, 'hidden_size': 226}. Best is trial 3 with value: 0.5675.\n",
      "[I 2024-03-12 10:22:08,761] Trial 9 finished with value: 0.5133333333333333 and parameters: {'lr': 7.99164733754532e-05, 'num_layers': 3, 'hidden_size': 88}. Best is trial 3 with value: 0.5675.\n",
      "[I 2024-03-12 10:22:12,248] Trial 10 finished with value: 0.5491666666666667 and parameters: {'lr': 0.0026824469659427388, 'num_layers': 3, 'hidden_size': 132}. Best is trial 3 with value: 0.5675.\n",
      "[I 2024-03-12 10:22:15,803] Trial 11 finished with value: 0.5658333333333333 and parameters: {'lr': 0.0004276683431765107, 'num_layers': 3, 'hidden_size': 340}. Best is trial 3 with value: 0.5675.\n",
      "[I 2024-03-12 10:22:18,795] Trial 12 finished with value: 0.57 and parameters: {'lr': 0.000747190535168136, 'num_layers': 2, 'hidden_size': 335}. Best is trial 12 with value: 0.57.\n",
      "[I 2024-03-12 10:22:21,689] Trial 13 finished with value: 0.5358333333333334 and parameters: {'lr': 0.0020301500685721953, 'num_layers': 2, 'hidden_size': 341}. Best is trial 12 with value: 0.57.\n",
      "[I 2024-03-12 10:22:24,796] Trial 14 finished with value: 0.5525 and parameters: {'lr': 0.0007950385160827659, 'num_layers': 2, 'hidden_size': 497}. Best is trial 12 with value: 0.57.\n",
      "[I 2024-03-12 10:22:28,003] Trial 15 finished with value: 0.5375 and parameters: {'lr': 0.004627348393493273, 'num_layers': 2, 'hidden_size': 325}. Best is trial 12 with value: 0.57.\n",
      "[I 2024-03-12 10:22:31,058] Trial 16 finished with value: 0.5708333333333333 and parameters: {'lr': 0.00019828636795489923, 'num_layers': 2, 'hidden_size': 291}. Best is trial 16 with value: 0.5708333333333333.\n",
      "[I 2024-03-12 10:22:34,342] Trial 17 finished with value: 0.54 and parameters: {'lr': 8.471109710879808e-05, 'num_layers': 2, 'hidden_size': 190}. Best is trial 16 with value: 0.5708333333333333.\n",
      "[I 2024-03-12 10:22:37,340] Trial 18 finished with value: 0.5291666666666667 and parameters: {'lr': 0.007295132619053806, 'num_layers': 2, 'hidden_size': 262}. Best is trial 16 with value: 0.5708333333333333.\n",
      "[I 2024-03-12 10:22:39,548] Trial 19 finished with value: 0.5591666666666667 and parameters: {'lr': 0.00016736264519795802, 'num_layers': 1, 'hidden_size': 156}. Best is trial 16 with value: 0.5708333333333333.\n",
      "[I 2024-03-12 10:22:42,583] Trial 20 finished with value: 0.5458333333333333 and parameters: {'lr': 0.001140183755523047, 'num_layers': 2, 'hidden_size': 299}. Best is trial 16 with value: 0.5708333333333333.\n",
      "[I 2024-03-12 10:22:45,706] Trial 21 finished with value: 0.5691666666666667 and parameters: {'lr': 0.0003784235162920277, 'num_layers': 2, 'hidden_size': 367}. Best is trial 16 with value: 0.5708333333333333.\n",
      "[I 2024-03-12 10:22:48,778] Trial 22 finished with value: 0.5566666666666666 and parameters: {'lr': 0.000875340429585778, 'num_layers': 2, 'hidden_size': 359}. Best is trial 16 with value: 0.5708333333333333.\n",
      "[I 2024-03-12 10:22:51,724] Trial 23 finished with value: 0.59 and parameters: {'lr': 0.0001961798678272242, 'num_layers': 2, 'hidden_size': 287}. Best is trial 23 with value: 0.59.\n",
      "[I 2024-03-12 10:22:54,808] Trial 24 finished with value: 0.5708333333333333 and parameters: {'lr': 0.00017775884358465363, 'num_layers': 2, 'hidden_size': 289}. Best is trial 23 with value: 0.59.\n",
      "[I 2024-03-12 10:22:57,857] Trial 25 finished with value: 0.5658333333333333 and parameters: {'lr': 0.0001312634934268416, 'num_layers': 2, 'hidden_size': 245}. Best is trial 23 with value: 0.59.\n",
      "[I 2024-03-12 10:23:00,839] Trial 26 finished with value: 0.5766666666666667 and parameters: {'lr': 0.00018910988972413665, 'num_layers': 2, 'hidden_size': 288}. Best is trial 23 with value: 0.59.\n",
      "[I 2024-03-12 10:23:03,114] Trial 27 finished with value: 0.4725 and parameters: {'lr': 2.2303047418205094e-05, 'num_layers': 1, 'hidden_size': 298}. Best is trial 23 with value: 0.59.\n",
      "[I 2024-03-12 10:23:06,028] Trial 28 finished with value: 0.5 and parameters: {'lr': 4.605578500244601e-05, 'num_layers': 2, 'hidden_size': 187}. Best is trial 23 with value: 0.59.\n",
      "[I 2024-03-12 10:23:08,198] Trial 29 finished with value: 0.5725 and parameters: {'lr': 0.00031117786647164014, 'num_layers': 1, 'hidden_size': 242}. Best is trial 23 with value: 0.59.\n",
      "[I 2024-03-12 10:23:10,482] Trial 30 finished with value: 0.5733333333333334 and parameters: {'lr': 0.0018343235909434364, 'num_layers': 1, 'hidden_size': 239}. Best is trial 23 with value: 0.59.\n",
      "[I 2024-03-12 10:23:12,740] Trial 31 finished with value: 0.5725 and parameters: {'lr': 0.0014740522282362968, 'num_layers': 1, 'hidden_size': 235}. Best is trial 23 with value: 0.59.\n",
      "[I 2024-03-12 10:23:15,007] Trial 32 finished with value: 0.58 and parameters: {'lr': 0.0005283906871798994, 'num_layers': 1, 'hidden_size': 196}. Best is trial 23 with value: 0.59.\n",
      "[I 2024-03-12 10:23:17,269] Trial 33 finished with value: 0.3975 and parameters: {'lr': 0.06079144018374047, 'num_layers': 1, 'hidden_size': 147}. Best is trial 23 with value: 0.59.\n",
      "[I 2024-03-12 10:23:19,901] Trial 34 finished with value: 0.565 and parameters: {'lr': 0.004441113934451311, 'num_layers': 1, 'hidden_size': 185}. Best is trial 23 with value: 0.59.\n",
      "[I 2024-03-12 10:23:22,444] Trial 35 finished with value: 0.5825 and parameters: {'lr': 0.0005028358023693463, 'num_layers': 1, 'hidden_size': 106}. Best is trial 23 with value: 0.59.\n",
      "[I 2024-03-12 10:23:24,984] Trial 36 finished with value: 0.5075 and parameters: {'lr': 0.000108767714176608, 'num_layers': 1, 'hidden_size': 59}. Best is trial 23 with value: 0.59.\n",
      "[I 2024-03-12 10:23:28,761] Trial 37 finished with value: 0.57 and parameters: {'lr': 0.0005061946043045686, 'num_layers': 3, 'hidden_size': 93}. Best is trial 23 with value: 0.59.\n",
      "[I 2024-03-12 10:23:30,952] Trial 38 finished with value: 0.49 and parameters: {'lr': 4.547714253979183e-05, 'num_layers': 1, 'hidden_size': 132}. Best is trial 23 with value: 0.59.\n",
      "[I 2024-03-12 10:23:33,235] Trial 39 finished with value: 0.5641666666666667 and parameters: {'lr': 0.0002756411062082818, 'num_layers': 1, 'hidden_size': 98}. Best is trial 23 with value: 0.59.\n",
      "[I 2024-03-12 10:23:37,173] Trial 40 finished with value: 0.5766666666666667 and parameters: {'lr': 0.0006080267647267641, 'num_layers': 3, 'hidden_size': 66}. Best is trial 23 with value: 0.59.\n",
      "[I 2024-03-12 10:23:41,015] Trial 41 finished with value: 0.565 and parameters: {'lr': 0.0004929159566277881, 'num_layers': 3, 'hidden_size': 64}. Best is trial 23 with value: 0.59.\n",
      "[I 2024-03-12 10:23:45,039] Trial 42 finished with value: 0.5741666666666667 and parameters: {'lr': 0.0005225654182025737, 'num_layers': 3, 'hidden_size': 119}. Best is trial 23 with value: 0.59.\n",
      "[I 2024-03-12 10:23:48,518] Trial 43 finished with value: 0.5591666666666667 and parameters: {'lr': 0.00022784502091403516, 'num_layers': 3, 'hidden_size': 71}. Best is trial 23 with value: 0.59.\n",
      "[I 2024-03-12 10:23:51,980] Trial 44 finished with value: 0.5616666666666666 and parameters: {'lr': 0.0006086068331151306, 'num_layers': 3, 'hidden_size': 50}. Best is trial 23 with value: 0.59.\n",
      "[I 2024-03-12 10:23:55,173] Trial 45 finished with value: 0.56 and parameters: {'lr': 0.0012781713226587325, 'num_layers': 2, 'hidden_size': 208}. Best is trial 23 with value: 0.59.\n",
      "[I 2024-03-12 10:23:57,637] Trial 46 finished with value: 0.5466666666666666 and parameters: {'lr': 0.00012076944300014565, 'num_layers': 1, 'hidden_size': 162}. Best is trial 23 with value: 0.59.\n",
      "[I 2024-03-12 10:24:01,542] Trial 47 finished with value: 0.5533333333333333 and parameters: {'lr': 8.022717773038826e-05, 'num_layers': 3, 'hidden_size': 265}. Best is trial 23 with value: 0.59.\n",
      "[I 2024-03-12 10:24:04,696] Trial 48 finished with value: 0.5708333333333333 and parameters: {'lr': 0.00027469765076143206, 'num_layers': 2, 'hidden_size': 107}. Best is trial 23 with value: 0.59.\n",
      "[I 2024-03-12 10:24:06,940] Trial 49 finished with value: 0.35583333333333333 and parameters: {'lr': 1.0269795073099964e-05, 'num_layers': 1, 'hidden_size': 77}. Best is trial 23 with value: 0.59.\n"
     ]
    },
    {
     "name": "stdout",
     "output_type": "stream",
     "text": [
      "Best trial:\n",
      "Value: 0.59\n",
      "Params: \n",
      "    lr: 0.0001961798678272242\n",
      "    num_layers: 2\n",
      "    hidden_size: 287\n"
     ]
    }
   ],
   "source": [
    "study = optuna.create_study(direction='maximize', study_name='MLP')\n",
    "study.optimize(objective, n_trials=50)  # Adjust the number of trials as needed\n",
    "\n",
    "print(\"Best trial:\")\n",
    "trial = study.best_trial\n",
    "\n",
    "print(f\"Value: {trial.value}\")\n",
    "print(\"Params: \")\n",
    "for key, value in trial.params.items():\n",
    "    print(f\"    {key}: {value}\")\n"
   ],
   "metadata": {
    "collapsed": false,
    "ExecuteTime": {
     "end_time": "2024-03-12T10:24:06.942620Z",
     "start_time": "2024-03-12T10:21:39.534871Z"
    }
   },
   "id": "43a02827e286fa67",
   "execution_count": 12
  },
  {
   "cell_type": "code",
   "outputs": [
    {
     "name": "stdout",
     "output_type": "stream",
     "text": [
      "Accuracy of the CustomNN model on the test set: 0.57\n",
      "Test accuracy of the best model: 0.57\n"
     ]
    }
   ],
   "source": [
    "# Find the best model based on validation accuracy\n",
    "best_model_info = max(all_models, key=lambda x: x['val_accuracy'])\n",
    "best_model = best_model_info['model']\n",
    "\n",
    "# Test the best model\n",
    "evaluate_pytorch_model(best_model, dataloaders={'train': train_loader, 'val': val_loader, 'test': test_loader}, device=device)"
   ],
   "metadata": {
    "collapsed": false,
    "ExecuteTime": {
     "end_time": "2024-03-12T10:24:13.493519Z",
     "start_time": "2024-03-12T10:24:13.423955Z"
    }
   },
   "id": "b49b5f66333af48f",
   "execution_count": 13
  },
  {
   "cell_type": "markdown",
   "source": [
    "## Try more complex type of MLP that includes batch norm and dropout layers, weight decay"
   ],
   "metadata": {
    "collapsed": false
   },
   "id": "4067b0d6e4dc804e"
  },
  {
   "cell_type": "code",
   "outputs": [],
   "source": [
    "class AdvancedCustomNN(nn.Module):\n",
    "    def __init__(self, input_size, num_classes, num_layers=2, hidden_size=100, dropout_rate=0.0, use_batch_norm=False):\n",
    "        super(AdvancedCustomNN, self).__init__()\n",
    "        layers = []\n",
    "        \n",
    "        for i in range(num_layers):\n",
    "            if i == 0:\n",
    "                layers.append(nn.Linear(input_size, hidden_size))\n",
    "            else:\n",
    "                layers.append(nn.Linear(hidden_size, hidden_size))\n",
    "            if use_batch_norm:\n",
    "                layers.append(nn.BatchNorm1d(hidden_size))\n",
    "            layers.append(nn.ReLU())\n",
    "            if dropout_rate > 0:\n",
    "                layers.append(nn.Dropout(dropout_rate))\n",
    "                \n",
    "        layers.append(nn.Linear(hidden_size, num_classes))\n",
    "        self.layers = nn.Sequential(*layers)\n",
    "        \n",
    "    def forward(self, x):\n",
    "        return self.layers(x)\n"
   ],
   "metadata": {
    "collapsed": false,
    "ExecuteTime": {
     "end_time": "2024-03-12T10:46:43.464723Z",
     "start_time": "2024-03-12T10:46:43.459925Z"
    }
   },
   "id": "57d271e19b1ce7bf",
   "execution_count": 22
  },
  {
   "cell_type": "code",
   "outputs": [],
   "source": [
    "all_advanced_mlps = []\n",
    "def advanced_objective(trial):\n",
    "    lr = trial.suggest_float('lr', 1e-5, 1e-1, log=True)\n",
    "    num_layers = trial.suggest_int('num_layers', 2, 8)\n",
    "    hidden_size = trial.suggest_int('hidden_size', 50, 600)\n",
    "    dropout_rate = trial.suggest_float('dropout_rate', 0.0, 0.5)\n",
    "    use_batch_norm = trial.suggest_categorical('use_batch_norm', [True, False])\n",
    "    weight_decay = trial.suggest_float('weight_decay', 1e-5, 1e-1, log=True)\n",
    "    \n",
    "    model = AdvancedCustomNN(input_size=X_train.shape[1], num_classes=len(np.unique(Y_train)),\n",
    "                             num_layers=num_layers, hidden_size=hidden_size,\n",
    "                             dropout_rate=dropout_rate, use_batch_norm=use_batch_norm).to(device)\n",
    "    \n",
    "    optimizer = torch.optim.Adam(model.parameters(), lr=lr, weight_decay=weight_decay)\n",
    "    criterion = nn.CrossEntropyLoss()\n",
    "\n",
    "    val_accuracy = train_and_validate(model, train_loader, val_loader, device, optimizer, criterion, epochs=10)\n",
    "    # Save the model and trial information\n",
    "    all_advanced_mlps.append({'trial_id': trial.number, 'model': model, 'val_accuracy': val_accuracy})\n",
    "    \n",
    "    return val_accuracy\n"
   ],
   "metadata": {
    "collapsed": false,
    "ExecuteTime": {
     "end_time": "2024-03-12T10:46:44.276722Z",
     "start_time": "2024-03-12T10:46:44.272521Z"
    }
   },
   "id": "e77a66491f67b20d",
   "execution_count": 23
  },
  {
   "cell_type": "code",
   "outputs": [
    {
     "name": "stderr",
     "output_type": "stream",
     "text": [
      "[I 2024-03-12 10:46:50,490] A new study created in memory with name: MLP Advanced\n",
      "[I 2024-03-12 10:46:54,739] Trial 0 finished with value: 0.215 and parameters: {'lr': 0.029693039179081178, 'num_layers': 2, 'hidden_size': 298, 'dropout_rate': 0.0549761785428165, 'use_batch_norm': False, 'weight_decay': 0.0001255774217419407}. Best is trial 0 with value: 0.215.\n",
      "[I 2024-03-12 10:47:01,761] Trial 1 finished with value: 0.5375 and parameters: {'lr': 0.0007653691103371721, 'num_layers': 4, 'hidden_size': 350, 'dropout_rate': 0.42754094470463205, 'use_batch_norm': False, 'weight_decay': 0.007886953688015768}. Best is trial 1 with value: 0.5375.\n",
      "[I 2024-03-12 10:47:13,870] Trial 2 finished with value: 0.30583333333333335 and parameters: {'lr': 1.761149645792615e-05, 'num_layers': 6, 'hidden_size': 511, 'dropout_rate': 0.28951318340722837, 'use_batch_norm': True, 'weight_decay': 0.00030901218031428266}. Best is trial 1 with value: 0.5375.\n",
      "[I 2024-03-12 10:47:25,464] Trial 3 finished with value: 0.31333333333333335 and parameters: {'lr': 0.03577509733850412, 'num_layers': 6, 'hidden_size': 123, 'dropout_rate': 0.26596530067572705, 'use_batch_norm': True, 'weight_decay': 0.00536698854055785}. Best is trial 1 with value: 0.5375.\n",
      "[I 2024-03-12 10:47:32,216] Trial 4 finished with value: 0.12333333333333334 and parameters: {'lr': 0.05733892427801131, 'num_layers': 6, 'hidden_size': 569, 'dropout_rate': 0.4019567331211231, 'use_batch_norm': False, 'weight_decay': 0.006109723945783387}. Best is trial 1 with value: 0.5375.\n",
      "[I 2024-03-12 10:47:40,221] Trial 5 finished with value: 0.4891666666666667 and parameters: {'lr': 1.77579997802124e-05, 'num_layers': 3, 'hidden_size': 474, 'dropout_rate': 0.11426357544062993, 'use_batch_norm': True, 'weight_decay': 0.00015507921535073564}. Best is trial 1 with value: 0.5375.\n",
      "[I 2024-03-12 10:47:53,632] Trial 6 finished with value: 0.43083333333333335 and parameters: {'lr': 3.842430190888305e-05, 'num_layers': 6, 'hidden_size': 159, 'dropout_rate': 0.09315004147777584, 'use_batch_norm': True, 'weight_decay': 0.010713178757052987}. Best is trial 1 with value: 0.5375.\n",
      "[I 2024-03-12 10:48:01,993] Trial 7 finished with value: 0.1175 and parameters: {'lr': 0.00022385263765724281, 'num_layers': 6, 'hidden_size': 518, 'dropout_rate': 0.025950367941297514, 'use_batch_norm': False, 'weight_decay': 0.05571004536551432}. Best is trial 1 with value: 0.5375.\n",
      "[I 2024-03-12 10:48:10,252] Trial 8 finished with value: 0.12666666666666668 and parameters: {'lr': 1.7674525503595917e-05, 'num_layers': 6, 'hidden_size': 522, 'dropout_rate': 0.08857627347250657, 'use_batch_norm': False, 'weight_decay': 0.09131821569758715}. Best is trial 1 with value: 0.5375.\n",
      "[I 2024-03-12 10:48:22,631] Trial 9 finished with value: 0.48833333333333334 and parameters: {'lr': 0.0025436777187307536, 'num_layers': 7, 'hidden_size': 64, 'dropout_rate': 0.07343323900408882, 'use_batch_norm': True, 'weight_decay': 0.0348633100693845}. Best is trial 1 with value: 0.5375.\n",
      "[I 2024-03-12 10:48:29,472] Trial 10 finished with value: 0.5583333333333333 and parameters: {'lr': 0.0006797208077525315, 'num_layers': 4, 'hidden_size': 371, 'dropout_rate': 0.48691454158688485, 'use_batch_norm': False, 'weight_decay': 0.0012312489028368033}. Best is trial 10 with value: 0.5583333333333333.\n",
      "[I 2024-03-12 10:48:35,169] Trial 11 finished with value: 0.5716666666666667 and parameters: {'lr': 0.0017366955492587343, 'num_layers': 4, 'hidden_size': 354, 'dropout_rate': 0.4877479780277227, 'use_batch_norm': False, 'weight_decay': 1.66250372328171e-05}. Best is trial 11 with value: 0.5716666666666667.\n",
      "[I 2024-03-12 10:48:41,774] Trial 12 finished with value: 0.49916666666666665 and parameters: {'lr': 0.003463672236093213, 'num_layers': 4, 'hidden_size': 331, 'dropout_rate': 0.4984361728330021, 'use_batch_norm': False, 'weight_decay': 1.2197180717958598e-05}. Best is trial 11 with value: 0.5716666666666667.\n",
      "[I 2024-03-12 10:48:47,192] Trial 13 finished with value: 0.5366666666666666 and parameters: {'lr': 0.0001773204915886508, 'num_layers': 4, 'hidden_size': 405, 'dropout_rate': 0.49097860581900804, 'use_batch_norm': False, 'weight_decay': 1.2155935475082371e-05}. Best is trial 11 with value: 0.5716666666666667.\n",
      "[I 2024-03-12 10:48:52,003] Trial 14 finished with value: 0.5166666666666667 and parameters: {'lr': 0.006541563030641918, 'num_layers': 2, 'hidden_size': 252, 'dropout_rate': 0.35383548041534973, 'use_batch_norm': False, 'weight_decay': 0.0010408792796469902}. Best is trial 11 with value: 0.5716666666666667.\n",
      "[I 2024-03-12 10:49:00,598] Trial 15 finished with value: 0.1175 and parameters: {'lr': 0.0006203495586564563, 'num_layers': 8, 'hidden_size': 415, 'dropout_rate': 0.17710212499891265, 'use_batch_norm': False, 'weight_decay': 0.0011942035119436051}. Best is trial 11 with value: 0.5716666666666667.\n",
      "[I 2024-03-12 10:49:06,298] Trial 16 finished with value: 0.4975 and parameters: {'lr': 0.008023779692824593, 'num_layers': 3, 'hidden_size': 241, 'dropout_rate': 0.33874160252005914, 'use_batch_norm': False, 'weight_decay': 7.45532438357603e-05}. Best is trial 11 with value: 0.5716666666666667.\n",
      "[I 2024-03-12 10:49:13,795] Trial 17 finished with value: 0.5175 and parameters: {'lr': 0.00018651421130187087, 'num_layers': 5, 'hidden_size': 396, 'dropout_rate': 0.4267340951204175, 'use_batch_norm': False, 'weight_decay': 3.94660594631006e-05}. Best is trial 11 with value: 0.5716666666666667.\n",
      "[I 2024-03-12 10:49:18,618] Trial 18 finished with value: 0.5491666666666667 and parameters: {'lr': 0.0019425536397645376, 'num_layers': 3, 'hidden_size': 235, 'dropout_rate': 0.20284643200277588, 'use_batch_norm': False, 'weight_decay': 0.00040316161539958066}. Best is trial 11 with value: 0.5716666666666667.\n",
      "[I 2024-03-12 10:49:26,141] Trial 19 finished with value: 0.43916666666666665 and parameters: {'lr': 7.526785636063306e-05, 'num_layers': 5, 'hidden_size': 436, 'dropout_rate': 0.46242652062497647, 'use_batch_norm': False, 'weight_decay': 0.002780268413176393}. Best is trial 11 with value: 0.5716666666666667.\n",
      "[I 2024-03-12 10:49:32,497] Trial 20 finished with value: 0.2175 and parameters: {'lr': 0.010877054062059566, 'num_layers': 5, 'hidden_size': 598, 'dropout_rate': 0.35847180866546, 'use_batch_norm': False, 'weight_decay': 3.758770444324913e-05}. Best is trial 11 with value: 0.5716666666666667.\n",
      "[I 2024-03-12 10:49:38,244] Trial 21 finished with value: 0.57 and parameters: {'lr': 0.0015853084032200419, 'num_layers': 3, 'hidden_size': 238, 'dropout_rate': 0.19182389911567999, 'use_batch_norm': False, 'weight_decay': 0.0004008814150140729}. Best is trial 11 with value: 0.5716666666666667.\n",
      "[I 2024-03-12 10:49:42,685] Trial 22 finished with value: 0.57 and parameters: {'lr': 0.001291859954298832, 'num_layers': 3, 'hidden_size': 287, 'dropout_rate': 0.18748228413197746, 'use_batch_norm': False, 'weight_decay': 0.0005310624627324258}. Best is trial 11 with value: 0.5716666666666667.\n",
      "[I 2024-03-12 10:49:47,011] Trial 23 finished with value: 0.5708333333333333 and parameters: {'lr': 0.0015197762304130413, 'num_layers': 3, 'hidden_size': 287, 'dropout_rate': 0.16444662082517497, 'use_batch_norm': False, 'weight_decay': 0.00045428258927451766}. Best is trial 11 with value: 0.5716666666666667.\n",
      "[I 2024-03-12 10:49:52,006] Trial 24 finished with value: 0.5758333333333333 and parameters: {'lr': 0.00040400056428115127, 'num_layers': 2, 'hidden_size': 169, 'dropout_rate': 0.21798274786704439, 'use_batch_norm': False, 'weight_decay': 0.00020346114671463108}. Best is trial 24 with value: 0.5758333333333333.\n",
      "[I 2024-03-12 10:49:57,322] Trial 25 finished with value: 0.5741666666666667 and parameters: {'lr': 0.0003702598297461771, 'num_layers': 2, 'hidden_size': 173, 'dropout_rate': 0.14784732966566877, 'use_batch_norm': False, 'weight_decay': 2.774117747039144e-05}. Best is trial 24 with value: 0.5758333333333333.\n",
      "[I 2024-03-12 10:50:03,602] Trial 26 finished with value: 0.5875 and parameters: {'lr': 0.0002461861331509077, 'num_layers': 2, 'hidden_size': 166, 'dropout_rate': 0.23400200082874767, 'use_batch_norm': True, 'weight_decay': 2.746795193326586e-05}. Best is trial 26 with value: 0.5875.\n",
      "[I 2024-03-12 10:50:10,304] Trial 27 finished with value: 0.5841666666666666 and parameters: {'lr': 0.00030977881723848774, 'num_layers': 2, 'hidden_size': 176, 'dropout_rate': 0.24086401883440217, 'use_batch_norm': True, 'weight_decay': 3.745881559128328e-05}. Best is trial 26 with value: 0.5875.\n",
      "[I 2024-03-12 10:50:16,715] Trial 28 finished with value: 0.5533333333333333 and parameters: {'lr': 0.0002933632155684348, 'num_layers': 2, 'hidden_size': 67, 'dropout_rate': 0.24268202265939015, 'use_batch_norm': True, 'weight_decay': 7.144156820971281e-05}. Best is trial 26 with value: 0.5875.\n",
      "[I 2024-03-12 10:50:21,748] Trial 29 finished with value: 0.5291666666666667 and parameters: {'lr': 8.259824536119273e-05, 'num_layers': 2, 'hidden_size': 180, 'dropout_rate': 0.2395580033011228, 'use_batch_norm': True, 'weight_decay': 0.00016167379699657888}. Best is trial 26 with value: 0.5875.\n",
      "[I 2024-03-12 10:50:28,922] Trial 30 finished with value: 0.5166666666666667 and parameters: {'lr': 9.963198798498531e-05, 'num_layers': 2, 'hidden_size': 121, 'dropout_rate': 0.3042235810722386, 'use_batch_norm': True, 'weight_decay': 7.548038565188039e-05}. Best is trial 26 with value: 0.5875.\n",
      "[I 2024-03-12 10:50:34,057] Trial 31 finished with value: 0.5716666666666667 and parameters: {'lr': 0.00037649281078003206, 'num_layers': 2, 'hidden_size': 187, 'dropout_rate': 0.13162123921610847, 'use_batch_norm': True, 'weight_decay': 2.2776681915189697e-05}. Best is trial 26 with value: 0.5875.\n",
      "[I 2024-03-12 10:50:40,438] Trial 32 finished with value: 0.5716666666666667 and parameters: {'lr': 0.00047289879712307726, 'num_layers': 2, 'hidden_size': 116, 'dropout_rate': 0.14615319954959524, 'use_batch_norm': True, 'weight_decay': 2.8876718406696026e-05}. Best is trial 26 with value: 0.5875.\n",
      "[I 2024-03-12 10:50:47,080] Trial 33 finished with value: 0.49666666666666665 and parameters: {'lr': 4.235790201017417e-05, 'num_layers': 2, 'hidden_size': 205, 'dropout_rate': 0.21493289457124407, 'use_batch_norm': True, 'weight_decay': 4.746306833228087e-05}. Best is trial 26 with value: 0.5875.\n",
      "[I 2024-03-12 10:50:53,352] Trial 34 finished with value: 0.5216666666666666 and parameters: {'lr': 0.00012676808796903123, 'num_layers': 2, 'hidden_size': 138, 'dropout_rate': 0.27385933071300406, 'use_batch_norm': True, 'weight_decay': 0.00017726480021618547}. Best is trial 26 with value: 0.5875.\n",
      "[I 2024-03-12 10:51:01,300] Trial 35 finished with value: 0.5783333333333334 and parameters: {'lr': 0.0008151437004510088, 'num_layers': 3, 'hidden_size': 99, 'dropout_rate': 0.22003155118895532, 'use_batch_norm': True, 'weight_decay': 9.297918391029329e-05}. Best is trial 26 with value: 0.5875.\n",
      "[I 2024-03-12 10:51:09,284] Trial 36 finished with value: 0.5791666666666667 and parameters: {'lr': 0.0009016537699417781, 'num_layers': 3, 'hidden_size': 102, 'dropout_rate': 0.3034267305638352, 'use_batch_norm': True, 'weight_decay': 0.00024001896666345533}. Best is trial 26 with value: 0.5875.\n",
      "[I 2024-03-12 10:51:17,051] Trial 37 finished with value: 0.5741666666666667 and parameters: {'lr': 0.0008956541498310746, 'num_layers': 3, 'hidden_size': 86, 'dropout_rate': 0.2999811978112782, 'use_batch_norm': True, 'weight_decay': 0.00011699292196579869}. Best is trial 26 with value: 0.5875.\n",
      "[I 2024-03-12 10:51:24,529] Trial 38 finished with value: 0.5583333333333333 and parameters: {'lr': 0.004718552948963764, 'num_layers': 4, 'hidden_size': 86, 'dropout_rate': 0.2607165900305791, 'use_batch_norm': True, 'weight_decay': 9.718441092283087e-05}. Best is trial 26 with value: 0.5875.\n",
      "[I 2024-03-12 10:51:32,303] Trial 39 finished with value: 0.4033333333333333 and parameters: {'lr': 4.720009190965308e-05, 'num_layers': 3, 'hidden_size': 101, 'dropout_rate': 0.3220475114413069, 'use_batch_norm': True, 'weight_decay': 0.0002768182469406095}. Best is trial 26 with value: 0.5875.\n",
      "[I 2024-03-12 10:51:40,248] Trial 40 finished with value: 0.5316666666666666 and parameters: {'lr': 0.0009597715941489481, 'num_layers': 3, 'hidden_size': 51, 'dropout_rate': 0.38633683756580306, 'use_batch_norm': True, 'weight_decay': 5.1266721072094876e-05}. Best is trial 26 with value: 0.5875.\n",
      "[I 2024-03-12 10:51:45,756] Trial 41 finished with value: 0.56 and parameters: {'lr': 0.00025969488166562786, 'num_layers': 2, 'hidden_size': 156, 'dropout_rate': 0.2200469852346148, 'use_batch_norm': True, 'weight_decay': 0.0002303032080623833}. Best is trial 26 with value: 0.5875.\n",
      "[I 2024-03-12 10:51:52,049] Trial 42 finished with value: 0.59 and parameters: {'lr': 0.0006497986057944154, 'num_layers': 2, 'hidden_size': 150, 'dropout_rate': 0.28235237174512534, 'use_batch_norm': True, 'weight_decay': 1.9708522069879208e-05}. Best is trial 42 with value: 0.59.\n",
      "[I 2024-03-12 10:52:00,127] Trial 43 finished with value: 0.5733333333333334 and parameters: {'lr': 0.0006608938446011696, 'num_layers': 3, 'hidden_size': 216, 'dropout_rate': 0.2786350431204436, 'use_batch_norm': True, 'weight_decay': 1.9562879463940323e-05}. Best is trial 42 with value: 0.59.\n",
      "[I 2024-03-12 10:52:07,966] Trial 44 finished with value: 0.5341666666666667 and parameters: {'lr': 0.00014858153482463679, 'num_layers': 3, 'hidden_size': 142, 'dropout_rate': 0.2456090685466327, 'use_batch_norm': True, 'weight_decay': 1.1657001297541854e-05}. Best is trial 42 with value: 0.59.\n",
      "[I 2024-03-12 10:52:15,911] Trial 45 finished with value: 0.5341666666666667 and parameters: {'lr': 0.02119633933398444, 'num_layers': 4, 'hidden_size': 99, 'dropout_rate': 0.320037836546916, 'use_batch_norm': True, 'weight_decay': 5.3768553035637824e-05}. Best is trial 42 with value: 0.59.\n",
      "[I 2024-03-12 10:52:22,567] Trial 46 finished with value: 0.6108333333333333 and parameters: {'lr': 0.002510743937214214, 'num_layers': 2, 'hidden_size': 203, 'dropout_rate': 0.29155280806806994, 'use_batch_norm': True, 'weight_decay': 1.8025253411305663e-05}. Best is trial 46 with value: 0.6108333333333333.\n",
      "[I 2024-03-12 10:52:29,316] Trial 47 finished with value: 0.5908333333333333 and parameters: {'lr': 0.0034124562125489926, 'num_layers': 2, 'hidden_size': 266, 'dropout_rate': 0.28659579958196113, 'use_batch_norm': True, 'weight_decay': 1.716103691040237e-05}. Best is trial 46 with value: 0.6108333333333333.\n",
      "[I 2024-03-12 10:52:34,759] Trial 48 finished with value: 0.5875 and parameters: {'lr': 0.0026431190502060843, 'num_layers': 2, 'hidden_size': 262, 'dropout_rate': 0.277786254595926, 'use_batch_norm': True, 'weight_decay': 1.7744713927091166e-05}. Best is trial 46 with value: 0.6108333333333333.\n",
      "[I 2024-03-12 10:52:41,373] Trial 49 finished with value: 0.575 and parameters: {'lr': 0.003884870330670172, 'num_layers': 2, 'hidden_size': 269, 'dropout_rate': 0.38278377933398, 'use_batch_norm': True, 'weight_decay': 1.606140192854268e-05}. Best is trial 46 with value: 0.6108333333333333.\n",
      "[I 2024-03-12 10:52:46,764] Trial 50 finished with value: 0.575 and parameters: {'lr': 0.002571637051330304, 'num_layers': 2, 'hidden_size': 318, 'dropout_rate': 0.33517873747273175, 'use_batch_norm': True, 'weight_decay': 1.1051908526329555e-05}. Best is trial 46 with value: 0.6108333333333333.\n",
      "[I 2024-03-12 10:52:53,569] Trial 51 finished with value: 0.5783333333333334 and parameters: {'lr': 0.002875655479442739, 'num_layers': 2, 'hidden_size': 207, 'dropout_rate': 0.2661671130868283, 'use_batch_norm': True, 'weight_decay': 1.7138343714473246e-05}. Best is trial 46 with value: 0.6108333333333333.\n",
      "[I 2024-03-12 10:53:00,311] Trial 52 finished with value: 0.5141666666666667 and parameters: {'lr': 0.09397971914590209, 'num_layers': 2, 'hidden_size': 220, 'dropout_rate': 0.2868492033033012, 'use_batch_norm': True, 'weight_decay': 3.4574489145266505e-05}. Best is trial 46 with value: 0.6108333333333333.\n",
      "[I 2024-03-12 10:53:15,944] Trial 53 finished with value: 0.5483333333333333 and parameters: {'lr': 0.012133780422761878, 'num_layers': 8, 'hidden_size': 261, 'dropout_rate': 0.2497708464142417, 'use_batch_norm': True, 'weight_decay': 2.6899078582302555e-05}. Best is trial 46 with value: 0.6108333333333333.\n",
      "[I 2024-03-12 10:53:29,939] Trial 54 finished with value: 0.5133333333333333 and parameters: {'lr': 0.005328264163250418, 'num_layers': 7, 'hidden_size': 195, 'dropout_rate': 0.00730568709438445, 'use_batch_norm': True, 'weight_decay': 1.593100981754982e-05}. Best is trial 46 with value: 0.6108333333333333.\n",
      "[I 2024-03-12 10:53:36,691] Trial 55 finished with value: 0.5783333333333334 and parameters: {'lr': 0.0012319210870012647, 'num_layers': 2, 'hidden_size': 313, 'dropout_rate': 0.36103303944139775, 'use_batch_norm': True, 'weight_decay': 2.1991985154163718e-05}. Best is trial 46 with value: 0.6108333333333333.\n",
      "[I 2024-03-12 10:53:43,277] Trial 56 finished with value: 0.3425 and parameters: {'lr': 1.0966952979955716e-05, 'num_layers': 2, 'hidden_size': 145, 'dropout_rate': 0.2863880585795576, 'use_batch_norm': True, 'weight_decay': 0.0028457462392732116}. Best is trial 46 with value: 0.6108333333333333.\n",
      "[I 2024-03-12 10:53:50,248] Trial 57 finished with value: 0.5358333333333334 and parameters: {'lr': 0.002334771503086515, 'num_layers': 2, 'hidden_size': 272, 'dropout_rate': 0.23292794293348468, 'use_batch_norm': True, 'weight_decay': 0.014204898785000397}. Best is trial 46 with value: 0.6108333333333333.\n",
      "[I 2024-03-12 10:53:57,091] Trial 58 finished with value: 0.5866666666666667 and parameters: {'lr': 0.01088868009884543, 'num_layers': 2, 'hidden_size': 225, 'dropout_rate': 0.31640598336943526, 'use_batch_norm': True, 'weight_decay': 1.1099305190892652e-05}. Best is trial 46 with value: 0.6108333333333333.\n",
      "[I 2024-03-12 10:54:03,707] Trial 59 finished with value: 0.58 and parameters: {'lr': 0.009704039392724871, 'num_layers': 3, 'hidden_size': 350, 'dropout_rate': 0.3204196386178395, 'use_batch_norm': True, 'weight_decay': 1.1521903498883656e-05}. Best is trial 46 with value: 0.6108333333333333.\n",
      "[I 2024-03-12 10:54:18,059] Trial 60 finished with value: 0.5508333333333333 and parameters: {'lr': 0.017152783704521782, 'num_layers': 7, 'hidden_size': 236, 'dropout_rate': 0.2609025628451088, 'use_batch_norm': True, 'weight_decay': 1.502312468362468e-05}. Best is trial 46 with value: 0.6108333333333333.\n",
      "[I 2024-03-12 10:54:25,357] Trial 61 finished with value: 0.545 and parameters: {'lr': 0.040779001200925306, 'num_layers': 2, 'hidden_size': 224, 'dropout_rate': 0.34498086701613134, 'use_batch_norm': True, 'weight_decay': 3.519252995099601e-05}. Best is trial 46 with value: 0.6108333333333333.\n",
      "[I 2024-03-12 10:54:32,141] Trial 62 finished with value: 0.58 and parameters: {'lr': 0.006166033837510928, 'num_layers': 2, 'hidden_size': 254, 'dropout_rate': 0.29980696075332514, 'use_batch_norm': True, 'weight_decay': 2.2744213649866863e-05}. Best is trial 46 with value: 0.6108333333333333.\n",
      "[I 2024-03-12 10:54:38,356] Trial 63 finished with value: 0.5983333333333334 and parameters: {'lr': 0.0005062492409745966, 'num_layers': 2, 'hidden_size': 292, 'dropout_rate': 0.26367751368315057, 'use_batch_norm': True, 'weight_decay': 4.936066413601639e-05}. Best is trial 46 with value: 0.6108333333333333.\n",
      "[I 2024-03-12 10:54:44,891] Trial 64 finished with value: 0.5583333333333333 and parameters: {'lr': 0.001964454223245628, 'num_layers': 2, 'hidden_size': 304, 'dropout_rate': 0.317964479647076, 'use_batch_norm': True, 'weight_decay': 1.0167572030904723e-05}. Best is trial 46 with value: 0.6108333333333333.\n",
      "[I 2024-03-12 10:54:50,945] Trial 65 finished with value: 0.5833333333333334 and parameters: {'lr': 0.00054031786321574, 'num_layers': 3, 'hidden_size': 281, 'dropout_rate': 0.2700300836147572, 'use_batch_norm': True, 'weight_decay': 5.2353199010811586e-05}. Best is trial 46 with value: 0.6108333333333333.\n",
      "[I 2024-03-12 10:54:56,140] Trial 66 finished with value: 0.5658333333333333 and parameters: {'lr': 0.003985698227832264, 'num_layers': 2, 'hidden_size': 346, 'dropout_rate': 0.3718119499790329, 'use_batch_norm': True, 'weight_decay': 1.4629179386386272e-05}. Best is trial 46 with value: 0.6108333333333333.\n",
      "[I 2024-03-12 10:55:02,552] Trial 67 finished with value: 0.575 and parameters: {'lr': 0.008088026943614948, 'num_layers': 2, 'hidden_size': 250, 'dropout_rate': 0.2936589649460047, 'use_batch_norm': True, 'weight_decay': 2.848805409005771e-05}. Best is trial 46 with value: 0.6108333333333333.\n",
      "[I 2024-03-12 10:55:13,046] Trial 68 finished with value: 0.5716666666666667 and parameters: {'lr': 0.0011849905649777188, 'num_layers': 5, 'hidden_size': 379, 'dropout_rate': 0.41258021780316256, 'use_batch_norm': True, 'weight_decay': 2.0872921161883282e-05}. Best is trial 46 with value: 0.6108333333333333.\n",
      "[I 2024-03-12 10:55:20,798] Trial 69 finished with value: 0.5608333333333333 and parameters: {'lr': 0.00314131471541867, 'num_layers': 3, 'hidden_size': 332, 'dropout_rate': 0.1986680935588564, 'use_batch_norm': True, 'weight_decay': 4.321504770221124e-05}. Best is trial 46 with value: 0.6108333333333333.\n",
      "[I 2024-03-12 10:55:25,348] Trial 70 finished with value: 0.5866666666666667 and parameters: {'lr': 0.00020826370546887723, 'num_layers': 2, 'hidden_size': 290, 'dropout_rate': 0.2290208484272304, 'use_batch_norm': True, 'weight_decay': 0.0006301582722834127}. Best is trial 46 with value: 0.6108333333333333.\n",
      "[I 2024-03-12 10:55:30,256] Trial 71 finished with value: 0.5833333333333334 and parameters: {'lr': 0.00023464227502606824, 'num_layers': 2, 'hidden_size': 291, 'dropout_rate': 0.23135806790055408, 'use_batch_norm': True, 'weight_decay': 6.434706403814788e-05}. Best is trial 46 with value: 0.6108333333333333.\n",
      "[I 2024-03-12 10:55:36,615] Trial 72 finished with value: 0.57 and parameters: {'lr': 0.0004989539697992179, 'num_layers': 2, 'hidden_size': 199, 'dropout_rate': 0.17721689064719048, 'use_batch_norm': True, 'weight_decay': 0.0037675743400377563}. Best is trial 46 with value: 0.6108333333333333.\n",
      "[I 2024-03-12 10:55:42,983] Trial 73 finished with value: 0.57 and parameters: {'lr': 0.00019350225821745614, 'num_layers': 2, 'hidden_size': 300, 'dropout_rate': 0.2081311253563038, 'use_batch_norm': True, 'weight_decay': 0.0007059358586104987}. Best is trial 46 with value: 0.6108333333333333.\n",
      "[I 2024-03-12 10:55:49,155] Trial 74 finished with value: 0.58 and parameters: {'lr': 0.0003244889921466038, 'num_layers': 2, 'hidden_size': 161, 'dropout_rate': 0.2565243391060797, 'use_batch_norm': True, 'weight_decay': 0.016843120435394265}. Best is trial 46 with value: 0.6108333333333333.\n",
      "[I 2024-03-12 10:55:55,624] Trial 75 finished with value: 0.5833333333333334 and parameters: {'lr': 0.0017133985249961634, 'num_layers': 2, 'hidden_size': 230, 'dropout_rate': 0.28278364868157324, 'use_batch_norm': True, 'weight_decay': 0.001978419635651839}. Best is trial 46 with value: 0.6108333333333333.\n",
      "[I 2024-03-12 10:56:00,865] Trial 76 finished with value: 0.5425 and parameters: {'lr': 0.0001138797144693705, 'num_layers': 2, 'hidden_size': 185, 'dropout_rate': 0.3114433788520471, 'use_batch_norm': True, 'weight_decay': 2.817164106203087e-05}. Best is trial 46 with value: 0.6108333333333333.\n",
      "[I 2024-03-12 10:56:08,596] Trial 77 finished with value: 0.5616666666666666 and parameters: {'lr': 0.014351808560753632, 'num_layers': 3, 'hidden_size': 330, 'dropout_rate': 0.3352369422774549, 'use_batch_norm': True, 'weight_decay': 1.8496649812190056e-05}. Best is trial 46 with value: 0.6108333333333333.\n",
      "[I 2024-03-12 10:56:16,369] Trial 78 finished with value: 0.5766666666666667 and parameters: {'lr': 0.00015542338648612052, 'num_layers': 3, 'hidden_size': 275, 'dropout_rate': 0.22801272004715584, 'use_batch_norm': True, 'weight_decay': 1.3738774280566362e-05}. Best is trial 46 with value: 0.6108333333333333.\n",
      "[I 2024-03-12 10:56:22,722] Trial 79 finished with value: 0.58 and parameters: {'lr': 0.0006492426764210171, 'num_layers': 2, 'hidden_size': 494, 'dropout_rate': 0.27445811265523007, 'use_batch_norm': True, 'weight_decay': 0.00012018034874318299}. Best is trial 46 with value: 0.6108333333333333.\n",
      "[I 2024-03-12 10:56:29,213] Trial 80 finished with value: 0.5808333333333333 and parameters: {'lr': 0.00041340259609628106, 'num_layers': 2, 'hidden_size': 244, 'dropout_rate': 0.25011906443347826, 'use_batch_norm': True, 'weight_decay': 2.634282099904855e-05}. Best is trial 46 with value: 0.6108333333333333.\n",
      "[I 2024-03-12 10:56:35,472] Trial 81 finished with value: 0.5791666666666667 and parameters: {'lr': 0.00029034176549520683, 'num_layers': 2, 'hidden_size': 178, 'dropout_rate': 0.24340291917741425, 'use_batch_norm': True, 'weight_decay': 3.435660665054013e-05}. Best is trial 46 with value: 0.6108333333333333.\n",
      "[I 2024-03-12 10:56:40,925] Trial 82 finished with value: 0.5841666666666666 and parameters: {'lr': 0.0007668011223499213, 'num_layers': 2, 'hidden_size': 211, 'dropout_rate': 0.29329045962757, 'use_batch_norm': True, 'weight_decay': 1.9693422241195725e-05}. Best is trial 46 with value: 0.6108333333333333.\n",
      "[I 2024-03-12 10:56:46,191] Trial 83 finished with value: 0.5075 and parameters: {'lr': 6.436739181746898e-05, 'num_layers': 2, 'hidden_size': 162, 'dropout_rate': 0.1852200419424706, 'use_batch_norm': True, 'weight_decay': 3.749355569609656e-05}. Best is trial 46 with value: 0.6108333333333333.\n",
      "[I 2024-03-12 10:56:51,148] Trial 84 finished with value: 0.5641666666666667 and parameters: {'lr': 0.00019650394438535255, 'num_layers': 2, 'hidden_size': 132, 'dropout_rate': 0.2583241997053362, 'use_batch_norm': True, 'weight_decay': 6.73725496759931e-05}. Best is trial 46 with value: 0.6108333333333333.\n",
      "[I 2024-03-12 10:56:57,538] Trial 85 finished with value: 0.5725 and parameters: {'lr': 0.0010906439068084123, 'num_layers': 3, 'hidden_size': 261, 'dropout_rate': 0.27248050569571847, 'use_batch_norm': True, 'weight_decay': 1.4317864150373038e-05}. Best is trial 46 with value: 0.6108333333333333.\n",
      "[I 2024-03-12 10:57:04,503] Trial 86 finished with value: 0.5483333333333333 and parameters: {'lr': 0.025723204879396958, 'num_layers': 2, 'hidden_size': 197, 'dropout_rate': 0.20993744326015681, 'use_batch_norm': True, 'weight_decay': 4.477839694658774e-05}. Best is trial 46 with value: 0.6108333333333333.\n",
      "[I 2024-03-12 10:57:17,102] Trial 87 finished with value: 0.555 and parameters: {'lr': 0.0020291814316496025, 'num_layers': 6, 'hidden_size': 154, 'dropout_rate': 0.3069574104935455, 'use_batch_norm': True, 'weight_decay': 0.007071507818424301}. Best is trial 46 with value: 0.6108333333333333.\n",
      "[I 2024-03-12 10:57:22,135] Trial 88 finished with value: 0.5875 and parameters: {'lr': 0.0003854617591960843, 'num_layers': 2, 'hidden_size': 176, 'dropout_rate': 0.330353868474372, 'use_batch_norm': True, 'weight_decay': 1.058763096574703e-05}. Best is trial 46 with value: 0.6108333333333333.\n",
      "[I 2024-03-12 10:57:30,529] Trial 89 finished with value: 0.5591666666666667 and parameters: {'lr': 0.0004471010911685854, 'num_layers': 3, 'hidden_size': 120, 'dropout_rate': 0.33255622786770533, 'use_batch_norm': True, 'weight_decay': 1.0023978216520773e-05}. Best is trial 46 with value: 0.6108333333333333.\n",
      "[I 2024-03-12 10:57:34,062] Trial 90 finished with value: 0.5708333333333333 and parameters: {'lr': 0.001510951026504448, 'num_layers': 2, 'hidden_size': 224, 'dropout_rate': 0.3511028247604387, 'use_batch_norm': False, 'weight_decay': 1.2526952488727264e-05}. Best is trial 46 with value: 0.6108333333333333.\n",
      "[I 2024-03-12 10:57:38,890] Trial 91 finished with value: 0.5783333333333334 and parameters: {'lr': 0.0003500797585200537, 'num_layers': 2, 'hidden_size': 173, 'dropout_rate': 0.28375079888008053, 'use_batch_norm': True, 'weight_decay': 1.9361699061573307e-05}. Best is trial 46 with value: 0.6108333333333333.\n",
      "[I 2024-03-12 10:57:43,769] Trial 92 finished with value: 0.5758333333333333 and parameters: {'lr': 0.0002391057041541788, 'num_layers': 2, 'hidden_size': 185, 'dropout_rate': 0.3115501747698537, 'use_batch_norm': True, 'weight_decay': 2.4523868683263996e-05}. Best is trial 46 with value: 0.6108333333333333.\n",
      "[I 2024-03-12 10:57:50,912] Trial 93 finished with value: 0.5783333333333334 and parameters: {'lr': 0.0005668607617909899, 'num_layers': 2, 'hidden_size': 148, 'dropout_rate': 0.23580050155025545, 'use_batch_norm': True, 'weight_decay': 8.763478833032769e-05}. Best is trial 46 with value: 0.6108333333333333.\n",
      "[I 2024-03-12 10:57:55,938] Trial 94 finished with value: 0.5475 and parameters: {'lr': 0.00015328342426586573, 'num_layers': 2, 'hidden_size': 132, 'dropout_rate': 0.3270076590473604, 'use_batch_norm': True, 'weight_decay': 1.7722478485395512e-05}. Best is trial 46 with value: 0.6108333333333333.\n",
      "[I 2024-03-12 10:58:01,046] Trial 95 finished with value: 0.575 and parameters: {'lr': 0.004602341462881337, 'num_layers': 2, 'hidden_size': 261, 'dropout_rate': 0.2220713693625813, 'use_batch_norm': True, 'weight_decay': 3.0864856854368086e-05}. Best is trial 46 with value: 0.6108333333333333.\n",
      "[I 2024-03-12 10:58:08,256] Trial 96 finished with value: 0.5841666666666666 and parameters: {'lr': 0.00028590523988782915, 'num_layers': 2, 'hidden_size': 308, 'dropout_rate': 0.253100427670984, 'use_batch_norm': True, 'weight_decay': 1.278529501783294e-05}. Best is trial 46 with value: 0.6108333333333333.\n",
      "[I 2024-03-12 10:58:17,038] Trial 97 finished with value: 0.5675 and parameters: {'lr': 0.0006782090606412928, 'num_layers': 3, 'hidden_size': 240, 'dropout_rate': 0.2943751225415025, 'use_batch_norm': True, 'weight_decay': 2.3833128426388516e-05}. Best is trial 46 with value: 0.6108333333333333.\n",
      "[I 2024-03-12 10:58:22,639] Trial 98 finished with value: 0.5683333333333334 and parameters: {'lr': 0.0009869663658979145, 'num_layers': 2, 'hidden_size': 289, 'dropout_rate': 0.16199569359372934, 'use_batch_norm': True, 'weight_decay': 5.5863574728066005e-05}. Best is trial 46 with value: 0.6108333333333333.\n",
      "[I 2024-03-12 10:58:29,625] Trial 99 finished with value: 0.5741666666666667 and parameters: {'lr': 0.006516657256918245, 'num_layers': 2, 'hidden_size': 206, 'dropout_rate': 0.278027527966384, 'use_batch_norm': True, 'weight_decay': 4.0640888025587516e-05}. Best is trial 46 with value: 0.6108333333333333.\n"
     ]
    },
    {
     "name": "stdout",
     "output_type": "stream",
     "text": [
      "Best trial:\n",
      "Value: 0.6108333333333333\n",
      "Params: \n",
      "    lr: 0.002510743937214214\n",
      "    num_layers: 2\n",
      "    hidden_size: 203\n",
      "    dropout_rate: 0.29155280806806994\n",
      "    use_batch_norm: True\n",
      "    weight_decay: 1.8025253411305663e-05\n"
     ]
    }
   ],
   "source": [
    "study = optuna.create_study(direction='maximize', study_name=\"MLP Advanced\")\n",
    "study.optimize(advanced_objective, n_trials=100)  # Adjust n_trials based on computational resources\n",
    "\n",
    "print(\"Best trial:\")\n",
    "trial = study.best_trial\n",
    "print(f\"Value: {trial.value}\")\n",
    "print(\"Params: \")\n",
    "for key, value in trial.params.items():\n",
    "    print(f\"    {key}: {value}\")"
   ],
   "metadata": {
    "collapsed": false,
    "ExecuteTime": {
     "end_time": "2024-03-12T10:58:29.627913Z",
     "start_time": "2024-03-12T10:46:50.488113Z"
    }
   },
   "id": "bb7927158957757c",
   "execution_count": 24
  },
  {
   "cell_type": "code",
   "outputs": [
    {
     "name": "stdout",
     "output_type": "stream",
     "text": [
      "Accuracy of the AdvancedCustomNN model on the train set: 0.89\n",
      "Accuracy of the AdvancedCustomNN model on the val set: 0.61\n",
      "Accuracy of the AdvancedCustomNN model on the test set: 0.59\n"
     ]
    }
   ],
   "source": [
    "# Find the best model based on validation accuracy\n",
    "best_adv_mlp_info = max(all_advanced_mlps, key=lambda x: x['val_accuracy'])\n",
    "best_adv_mlp = best_adv_mlp_info['model']\n",
    "\n",
    "evaluate_pytorch_model(best_adv_mlp, dataloaders={'train': train_loader, 'val': val_loader, 'test': test_loader}, device=device)"
   ],
   "metadata": {
    "collapsed": false,
    "ExecuteTime": {
     "end_time": "2024-03-12T10:59:20.975092Z",
     "start_time": "2024-03-12T10:59:20.652660Z"
    }
   },
   "id": "9d41543c88a0209f",
   "execution_count": 25
  },
  {
   "cell_type": "markdown",
   "source": [
    "## Manually experiment with MLP Architectures"
   ],
   "metadata": {
    "collapsed": false
   },
   "id": "5843c451b315299c"
  },
  {
   "cell_type": "code",
   "outputs": [],
   "source": [
    "import time\n",
    "import matplotlib.pyplot as plt\n",
    "import torch\n",
    "\n",
    "def train_and_validate_with_plot(model, train_loader, val_loader, device, optimizer, criterion, epochs=10):\n",
    "    # Lists to keep track of losses and timing\n",
    "    train_losses = []\n",
    "    val_losses = []\n",
    "    start_time = time.time()\n",
    "    \n",
    "    for epoch in range(epochs):\n",
    "        model.train()  # Set the model to training mode\n",
    "        running_loss = 0.0\n",
    "        for inputs, labels in train_loader:\n",
    "            inputs, labels = inputs.to(device), labels.to(device)\n",
    "            \n",
    "            optimizer.zero_grad()\n",
    "            outputs = model(inputs)\n",
    "            loss = criterion(outputs, labels)\n",
    "            loss.backward()\n",
    "            optimizer.step()\n",
    "            running_loss += loss.item()\n",
    "        # Calculate and store the average training loss\n",
    "        train_losses.append(running_loss / len(train_loader))\n",
    "        running_loss = 0.0  # Reset running loss for validation\n",
    "        \n",
    "        # Validation phase\n",
    "        model.eval()  # Set the model to evaluation mode\n",
    "        total, correct = 0, 0\n",
    "        with torch.no_grad():\n",
    "            for inputs, labels in val_loader:\n",
    "                inputs, labels = inputs.to(device), labels.to(device)\n",
    "                outputs = model(inputs)\n",
    "                loss = criterion(outputs, labels)  # Corrected to use labels\n",
    "                running_loss += loss.item()\n",
    "                _, predicted = torch.max(outputs.data, 1)\n",
    "                total += labels.size(0)\n",
    "                correct += (predicted == labels).sum().item()\n",
    "            # Calculate and store the average validation loss\n",
    "            val_losses.append(running_loss / len(val_loader))\n",
    "\n",
    "    end_time = time.time()\n",
    "    elapsed_time = (end_time - start_time) / 60  # Time in minutes\n",
    "    \n",
    "    # Plotting the training and validation loss\n",
    "    plt.figure(figsize=(10, 6))\n",
    "    plt.plot(train_losses, label='Training Loss')\n",
    "    plt.plot(val_losses, label='Validation Loss')\n",
    "    plt.title('Training and Validation Loss')\n",
    "    plt.xlabel('Epochs')\n",
    "    plt.ylabel('Loss')\n",
    "    plt.legend()\n",
    "    plt.show()\n",
    "    \n",
    "    val_accuracy = correct / total\n",
    "    print(f\"Training completed in: {elapsed_time:.2f} minutes\")\n",
    "    return val_accuracy\n"
   ],
   "metadata": {
    "collapsed": false,
    "ExecuteTime": {
     "end_time": "2024-03-12T15:17:23.220332Z",
     "start_time": "2024-03-12T15:17:23.213882Z"
    }
   },
   "id": "718bf6d99d94874c",
   "execution_count": 41
  },
  {
   "cell_type": "code",
   "outputs": [],
   "source": [
    "# class ManualNN(nn.Module):\n",
    "#     def __init__(self, input_size=518, num_classes=8, dropout_rate=0.3, hidden_units=[256, 128, 64, 32]):\n",
    "#         super(ManualNN, self).__init__()\n",
    "# \n",
    "#         # Define the layers\n",
    "#         self.dropout = nn.Dropout(p=dropout_rate)\n",
    "#         self.bn = nn.ModuleList([nn.BatchNorm1d(hidden_units[i+1]) for i in range(len(hidden_units)-1)])  # Remove the last layer\n",
    "# \n",
    "#         self.input_layer = nn.Linear(input_size, hidden_units[0])\n",
    "#         self.hidden_layers = nn.ModuleList([nn.Linear(hidden_units[i], hidden_units[i+1]) for i in range(len(hidden_units)-1)])  # Remove the last layer\n",
    "#         self.output_layer = nn.Linear(hidden_units[-1], num_classes)\n",
    "# \n",
    "#     def forward(self, x):\n",
    "#         # Forward pass through each layer\n",
    "#         x = F.relu(self.input_layer(x))\n",
    "#         for i, layer in enumerate(self.hidden_layers):\n",
    "#             x = F.relu(layer(x))\n",
    "#             x = self.bn[i](x)\n",
    "#             # x = F.relu(layer(x))\n",
    "#             x = self.dropout(x)\n",
    "#         x = self.output_layer(x)\n",
    "#         return x\n",
    "class ManualNN(nn.Module):\n",
    "    def __init__(self, input_size=518, num_classes=8, dropout_rate=0.3, hidden_units=[256, 128, 64, 32]):\n",
    "        super(ManualNN, self).__init__()\n",
    "\n",
    "        # Define the layers\n",
    "        self.dropout = nn.Dropout(p=dropout_rate)\n",
    "        self.bn_layers = nn.ModuleList([nn.BatchNorm1d(hidden_units[i]) for i in range(len(hidden_units))])\n",
    "\n",
    "        self.input_layer = nn.Linear(input_size, hidden_units[0])\n",
    "        self.hidden_layers = nn.ModuleList([nn.Linear(hidden_units[i], hidden_units[i+1]) for i in range(len(hidden_units)-1)])\n",
    "        self.output_layer = nn.Linear(hidden_units[-1], num_classes)\n",
    "\n",
    "    def forward(self, x):\n",
    "        # Forward pass through each layer\n",
    "        x = self.bn_layers[0](self.input_layer(x))\n",
    "        x = F.relu(x)\n",
    "        for i, layer in enumerate(self.hidden_layers):\n",
    "            x = self.bn_layers[i+1](layer(x))\n",
    "            x = F.relu(x)\n",
    "            x = self.dropout(x)\n",
    "        x = self.output_layer(x)\n",
    "        return x"
   ],
   "metadata": {
    "collapsed": false,
    "ExecuteTime": {
     "end_time": "2024-03-12T15:32:16.582399Z",
     "start_time": "2024-03-12T15:32:16.575675Z"
    }
   },
   "id": "1f44e9b5d862d26f",
   "execution_count": 44
  },
  {
   "cell_type": "code",
   "outputs": [],
   "source": [
    "# Instantiate\n",
    "NN = ManualNN(hidden_units=[2056] * 4 + [1028] * 4 + [512]*4 + [256]*4 + [128]*4 + [64]*4 + [32,16], dropout_rate=0.4).to(device)\n",
    "# Define optimizer and loss function\n",
    "# optimizer = torch.optim.Adam(NN.parameters(), lr=0.001)\n",
    "optimizer = torch.optim.SGD(NN.parameters(), lr=0.01, momentum=0.9)\n",
    "criterion = nn.CrossEntropyLoss()\n",
    "\n",
    "# Train and validate the model\n",
    "epochs = 400\n",
    "val_accuracy = train_and_validate_with_plot(NN, train_loader, val_loader, device, optimizer, criterion, epochs)\n",
    "evaluate_pytorch_model(NN, dataloaders={'train': train_loader, 'val': val_loader, 'test': test_loader}, device=device)"
   ],
   "metadata": {
    "collapsed": false,
    "ExecuteTime": {
     "start_time": "2024-03-12T15:32:19.079500Z"
    }
   },
   "id": "9705ac721ff36b84",
   "execution_count": null
  },
  {
   "cell_type": "markdown",
   "source": [],
   "metadata": {
    "collapsed": false
   },
   "id": "bc2088ff74ca5309"
  },
  {
   "cell_type": "markdown",
   "source": [],
   "metadata": {
    "collapsed": false
   },
   "id": "d1d39644755278c9"
  }
 ],
 "metadata": {
  "kernelspec": {
   "display_name": "Python 3",
   "language": "python",
   "name": "python3"
  },
  "language_info": {
   "codemirror_mode": {
    "name": "ipython",
    "version": 2
   },
   "file_extension": ".py",
   "mimetype": "text/x-python",
   "name": "python",
   "nbconvert_exporter": "python",
   "pygments_lexer": "ipython2",
   "version": "2.7.6"
  }
 },
 "nbformat": 4,
 "nbformat_minor": 5
}
