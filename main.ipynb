{
 "cells": [
  {
   "cell_type": "code",
   "execution_count": 1,
   "id": "1fd86b59",
   "metadata": {
    "_cell_guid": "b1076dfc-b9ad-4769-8c92-a6c4dae69d19",
    "_uuid": "8f2839f25d086af736a60e9eeb907d3b93b6e0e5",
    "execution": {
     "iopub.execute_input": "2024-03-06T14:52:52.245961Z",
     "iopub.status.busy": "2024-03-06T14:52:52.245082Z",
     "iopub.status.idle": "2024-03-06T14:52:57.879656Z",
     "shell.execute_reply": "2024-03-06T14:52:57.877790Z"
    },
    "papermill": {
     "duration": 5.644525,
     "end_time": "2024-03-06T14:52:57.883228",
     "exception": false,
     "start_time": "2024-03-06T14:52:52.238703",
     "status": "completed"
    },
    "tags": [],
    "ExecuteTime": {
     "end_time": "2024-03-06T15:18:57.581141Z",
     "start_time": "2024-03-06T15:18:53.947112Z"
    }
   },
   "outputs": [],
   "source": [
    "# Library Import\n",
    "import numpy as np \n",
    "import pandas as pd \n",
    "import sklearn as skl\n",
    "\n",
    "\n",
    "# Load the training data and the test inputs\n",
    "x_train = pd.read_csv('X_train.csv', index_col = 0, header=[0, 1, 2])\n",
    "y_train = pd.read_csv('y_train.csv', index_col=0)\n",
    "y_train = y_train.squeeze().to_numpy() # Make y_train a NumPy array\n",
    "x_test = pd.read_csv('X_test.csv', index_col = 0, header=[0, 1, 2])"
   ]
  },
  {
   "cell_type": "code",
   "execution_count": 2,
   "id": "92622842",
   "metadata": {
    "papermill": {
     "duration": 0.001876,
     "end_time": "2024-03-06T14:52:57.887999",
     "exception": false,
     "start_time": "2024-03-06T14:52:57.886123",
     "status": "completed"
    },
    "tags": [],
    "ExecuteTime": {
     "end_time": "2024-03-06T15:19:05.763178Z",
     "start_time": "2024-03-06T15:19:05.747370Z"
    }
   },
   "outputs": [
    {
     "data": {
      "text/plain": "feature    chroma_cens                                                    \\\nstatistics    kurtosis                                                     \nnumber              01        02        03        04        05        06   \nId                                                                         \n0             3.974762  4.354650  3.394523  0.033462  5.611623  2.592655   \n1             0.033636 -0.139950  0.678688 -0.553824 -0.165293  0.370275   \n2             0.044094  4.285359  0.977213  3.240997  0.400350  1.026224   \n3            -0.425218  0.793007  0.509624 -0.967103 -1.432252 -0.900761   \n4            -1.120238 -0.503659  0.303515 -0.596549 -0.716761 -0.874363   \n\nfeature                                             ...   tonnetz            \\\nstatistics                                          ...       std             \nnumber            07        08        09        10  ...        04        05   \nId                                                  ...                       \n0           3.041094  2.815378  3.954026  2.365586  ...  0.052970  0.013487   \n1          -0.314710 -0.368706 -0.437181 -0.441662  ...  0.093105  0.022865   \n2           0.772464  0.807625  1.942534  1.938970  ...  0.081955  0.017371   \n3          -0.501279 -0.855886 -0.556825  7.404243  ...  0.098877  0.019089   \n4          -0.708101 -0.642351 -0.327327 -0.342220  ...  0.102545  0.023823   \n\nfeature                     zcr                                          \\\nstatistics             kurtosis       max      mean    median       min   \nnumber            06         01        01        01        01        01   \nId                                                                        \n0           0.022031  70.844788  0.671387  0.035129  0.026367  0.010254   \n1           0.028800  18.427612  0.538574  0.055975  0.039062  0.000000   \n2           0.016673  38.401405  0.405762  0.030685  0.028809  0.002930   \n3           0.016183   4.129582  0.252441  0.037955  0.024902  0.000000   \n4           0.025166  16.758356  0.380371  0.027851  0.019043  0.000000   \n\nfeature                         \nstatistics      skew       std  \nnumber            01        01  \nId                              \n0           8.394708  0.067026  \n1           3.638194  0.053879  \n2           2.620369  0.016835  \n3           1.898847  0.034382  \n4           3.244483  0.027128  \n\n[5 rows x 518 columns]",
      "text/html": "<div>\n<style scoped>\n    .dataframe tbody tr th:only-of-type {\n        vertical-align: middle;\n    }\n\n    .dataframe tbody tr th {\n        vertical-align: top;\n    }\n\n    .dataframe thead tr th {\n        text-align: left;\n    }\n\n    .dataframe thead tr:last-of-type th {\n        text-align: right;\n    }\n</style>\n<table border=\"1\" class=\"dataframe\">\n  <thead>\n    <tr>\n      <th>feature</th>\n      <th colspan=\"10\" halign=\"left\">chroma_cens</th>\n      <th>...</th>\n      <th colspan=\"3\" halign=\"left\">tonnetz</th>\n      <th colspan=\"7\" halign=\"left\">zcr</th>\n    </tr>\n    <tr>\n      <th>statistics</th>\n      <th colspan=\"10\" halign=\"left\">kurtosis</th>\n      <th>...</th>\n      <th colspan=\"3\" halign=\"left\">std</th>\n      <th>kurtosis</th>\n      <th>max</th>\n      <th>mean</th>\n      <th>median</th>\n      <th>min</th>\n      <th>skew</th>\n      <th>std</th>\n    </tr>\n    <tr>\n      <th>number</th>\n      <th>01</th>\n      <th>02</th>\n      <th>03</th>\n      <th>04</th>\n      <th>05</th>\n      <th>06</th>\n      <th>07</th>\n      <th>08</th>\n      <th>09</th>\n      <th>10</th>\n      <th>...</th>\n      <th>04</th>\n      <th>05</th>\n      <th>06</th>\n      <th>01</th>\n      <th>01</th>\n      <th>01</th>\n      <th>01</th>\n      <th>01</th>\n      <th>01</th>\n      <th>01</th>\n    </tr>\n    <tr>\n      <th>Id</th>\n      <th></th>\n      <th></th>\n      <th></th>\n      <th></th>\n      <th></th>\n      <th></th>\n      <th></th>\n      <th></th>\n      <th></th>\n      <th></th>\n      <th></th>\n      <th></th>\n      <th></th>\n      <th></th>\n      <th></th>\n      <th></th>\n      <th></th>\n      <th></th>\n      <th></th>\n      <th></th>\n      <th></th>\n    </tr>\n  </thead>\n  <tbody>\n    <tr>\n      <th>0</th>\n      <td>3.974762</td>\n      <td>4.354650</td>\n      <td>3.394523</td>\n      <td>0.033462</td>\n      <td>5.611623</td>\n      <td>2.592655</td>\n      <td>3.041094</td>\n      <td>2.815378</td>\n      <td>3.954026</td>\n      <td>2.365586</td>\n      <td>...</td>\n      <td>0.052970</td>\n      <td>0.013487</td>\n      <td>0.022031</td>\n      <td>70.844788</td>\n      <td>0.671387</td>\n      <td>0.035129</td>\n      <td>0.026367</td>\n      <td>0.010254</td>\n      <td>8.394708</td>\n      <td>0.067026</td>\n    </tr>\n    <tr>\n      <th>1</th>\n      <td>0.033636</td>\n      <td>-0.139950</td>\n      <td>0.678688</td>\n      <td>-0.553824</td>\n      <td>-0.165293</td>\n      <td>0.370275</td>\n      <td>-0.314710</td>\n      <td>-0.368706</td>\n      <td>-0.437181</td>\n      <td>-0.441662</td>\n      <td>...</td>\n      <td>0.093105</td>\n      <td>0.022865</td>\n      <td>0.028800</td>\n      <td>18.427612</td>\n      <td>0.538574</td>\n      <td>0.055975</td>\n      <td>0.039062</td>\n      <td>0.000000</td>\n      <td>3.638194</td>\n      <td>0.053879</td>\n    </tr>\n    <tr>\n      <th>2</th>\n      <td>0.044094</td>\n      <td>4.285359</td>\n      <td>0.977213</td>\n      <td>3.240997</td>\n      <td>0.400350</td>\n      <td>1.026224</td>\n      <td>0.772464</td>\n      <td>0.807625</td>\n      <td>1.942534</td>\n      <td>1.938970</td>\n      <td>...</td>\n      <td>0.081955</td>\n      <td>0.017371</td>\n      <td>0.016673</td>\n      <td>38.401405</td>\n      <td>0.405762</td>\n      <td>0.030685</td>\n      <td>0.028809</td>\n      <td>0.002930</td>\n      <td>2.620369</td>\n      <td>0.016835</td>\n    </tr>\n    <tr>\n      <th>3</th>\n      <td>-0.425218</td>\n      <td>0.793007</td>\n      <td>0.509624</td>\n      <td>-0.967103</td>\n      <td>-1.432252</td>\n      <td>-0.900761</td>\n      <td>-0.501279</td>\n      <td>-0.855886</td>\n      <td>-0.556825</td>\n      <td>7.404243</td>\n      <td>...</td>\n      <td>0.098877</td>\n      <td>0.019089</td>\n      <td>0.016183</td>\n      <td>4.129582</td>\n      <td>0.252441</td>\n      <td>0.037955</td>\n      <td>0.024902</td>\n      <td>0.000000</td>\n      <td>1.898847</td>\n      <td>0.034382</td>\n    </tr>\n    <tr>\n      <th>4</th>\n      <td>-1.120238</td>\n      <td>-0.503659</td>\n      <td>0.303515</td>\n      <td>-0.596549</td>\n      <td>-0.716761</td>\n      <td>-0.874363</td>\n      <td>-0.708101</td>\n      <td>-0.642351</td>\n      <td>-0.327327</td>\n      <td>-0.342220</td>\n      <td>...</td>\n      <td>0.102545</td>\n      <td>0.023823</td>\n      <td>0.025166</td>\n      <td>16.758356</td>\n      <td>0.380371</td>\n      <td>0.027851</td>\n      <td>0.019043</td>\n      <td>0.000000</td>\n      <td>3.244483</td>\n      <td>0.027128</td>\n    </tr>\n  </tbody>\n</table>\n<p>5 rows × 518 columns</p>\n</div>"
     },
     "execution_count": 2,
     "metadata": {},
     "output_type": "execute_result"
    }
   ],
   "source": []
  },
  {
   "cell_type": "code",
   "outputs": [],
   "source": [],
   "metadata": {
    "collapsed": false
   },
   "id": "62ef494c3bfd873a"
  }
 ],
 "metadata": {
  "kaggle": {
   "accelerator": "none",
   "dataSources": [
    {
     "datasetId": 4550223,
     "sourceId": 7776495,
     "sourceType": "datasetVersion"
    }
   ],
   "dockerImageVersionId": 30664,
   "isGpuEnabled": false,
   "isInternetEnabled": true,
   "language": "python",
   "sourceType": "notebook"
  },
  "kernelspec": {
   "display_name": "Python 3",
   "language": "python",
   "name": "python3"
  },
  "language_info": {
   "codemirror_mode": {
    "name": "ipython",
    "version": 3
   },
   "file_extension": ".py",
   "mimetype": "text/x-python",
   "name": "python",
   "nbconvert_exporter": "python",
   "pygments_lexer": "ipython3",
   "version": "3.10.13"
  },
  "papermill": {
   "default_parameters": {},
   "duration": 10.569256,
   "end_time": "2024-03-06T14:52:58.819088",
   "environment_variables": {},
   "exception": null,
   "input_path": "__notebook__.ipynb",
   "output_path": "__notebook__.ipynb",
   "parameters": {},
   "start_time": "2024-03-06T14:52:48.249832",
   "version": "2.5.0"
  }
 },
 "nbformat": 4,
 "nbformat_minor": 5
}
