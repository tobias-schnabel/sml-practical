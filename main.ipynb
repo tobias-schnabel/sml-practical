{
 "cells": [
  {
   "cell_type": "code",
   "execution_count": 1,
   "id": "1fd86b59",
   "metadata": {
    "_cell_guid": "b1076dfc-b9ad-4769-8c92-a6c4dae69d19",
    "_uuid": "8f2839f25d086af736a60e9eeb907d3b93b6e0e5",
    "execution": {
     "iopub.execute_input": "2024-03-06T14:52:52.245961Z",
     "iopub.status.busy": "2024-03-06T14:52:52.245082Z",
     "iopub.status.idle": "2024-03-06T14:52:57.879656Z",
     "shell.execute_reply": "2024-03-06T14:52:57.877790Z"
    },
    "papermill": {
     "duration": 5.644525,
     "end_time": "2024-03-06T14:52:57.883228",
     "exception": false,
     "start_time": "2024-03-06T14:52:52.238703",
     "status": "completed"
    },
    "tags": [],
    "ExecuteTime": {
     "end_time": "2024-03-06T15:18:57.581141Z",
     "start_time": "2024-03-06T15:18:53.947112Z"
    }
   },
   "outputs": [],
   "source": [
    "%run 'Setup.py'"
   ]
  }
 ],
 "metadata": {
  "kaggle": {
   "accelerator": "none",
   "dataSources": [
    {
     "datasetId": 4550223,
     "sourceId": 7776495,
     "sourceType": "datasetVersion"
    }
   ],
   "dockerImageVersionId": 30664,
   "isGpuEnabled": false,
   "isInternetEnabled": true,
   "language": "python",
   "sourceType": "notebook"
  },
  "kernelspec": {
   "display_name": "Python 3",
   "language": "python",
   "name": "python3"
  },
  "language_info": {
   "codemirror_mode": {
    "name": "ipython",
    "version": 3
   },
   "file_extension": ".py",
   "mimetype": "text/x-python",
   "name": "python",
   "nbconvert_exporter": "python",
   "pygments_lexer": "ipython3",
   "version": "3.10.13"
  },
  "papermill": {
   "default_parameters": {},
   "duration": 10.569256,
   "end_time": "2024-03-06T14:52:58.819088",
   "environment_variables": {},
   "exception": null,
   "input_path": "__notebook__.ipynb",
   "output_path": "__notebook__.ipynb",
   "parameters": {},
   "start_time": "2024-03-06T14:52:48.249832",
   "version": "2.5.0"
  }
 },
 "nbformat": 4,
 "nbformat_minor": 5
}
