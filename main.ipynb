{
 "cells": [
  {
   "cell_type": "markdown",
   "source": [
    "# Setup"
   ],
   "metadata": {
    "collapsed": false
   },
   "id": "bece8dc9fc84a56f"
  },
  {
   "cell_type": "code",
   "outputs": [],
   "source": [
    "import numpy as np\n",
    "import pandas as pd\n",
    "import sklearn as skl\n",
    "import matplotlib.pyplot as plt\n",
    "import seaborn as sns\n",
    "import sklearn\n",
    "from sklearn.model_selection import train_test_split\n",
    "from sklearn.model_selection import GridSearchCV\n",
    "from sklearn.preprocessing import StandardScaler\n",
    "from sklearn.decomposition import PCA\n",
    "from sklearn.ensemble import RandomForestClassifier\n",
    "from sklearn.metrics import accuracy_score, classification_report\n",
    "from sklearn.model_selection import RandomizedSearchCV\n",
    "from sklearn.ensemble import BaggingClassifier\n",
    "from scipy.stats import randint\n",
    "from sklearn.ensemble import AdaBoostClassifier\n",
    "from sklearn.ensemble import GradientBoostingClassifier\n",
    "from sklearn.linear_model import LogisticRegression\n",
    "from sklearn.model_selection import cross_val_score\n",
    "from sklearn.tree import DecisionTreeClassifier\n",
    "from sklearn.metrics import roc_auc_score, average_precision_score, classification_report, auc\n",
    "import scikitplot as skplt  # search for scikit-plot\n",
    "from sklearn.neural_network import MLPClassifier\n",
    "from sklearn.metrics import accuracy_score\n",
    "from sklearn.pipeline import make_pipeline\n",
    "from sklearn.preprocessing import LabelEncoder, StandardScaler\n",
    "import torch\n",
    "import torch.nn as nn\n",
    "import torch.optim as optim\n",
    "from torch.utils.data import DataLoader, TensorDataset\n",
    "import optuna\n",
    "import xgboost as xgb\n",
    "\n",
    "# Load the training data and the test inputs\n",
    "x_train = pd.read_csv('X_train.csv', index_col=0, header=[0, 1, 2])\n",
    "x_train_np = np.array(x_train)\n",
    "y_train = pd.read_csv('y_train.csv', index_col=0)\n",
    "y_train_np = y_train.squeeze().to_numpy()  # Make y_train a NumPy array\n",
    "x_test = pd.read_csv('X_test.csv', index_col=0, header=[0, 1, 2])\n",
    "x_test_np = np.array(x_test)\n",
    "\n",
    "x_train_flat_columns = ['_'.join(col).strip() for col in x_train.columns.values]\n",
    "x_train.columns = x_train_flat_columns\n",
    "\n",
    "x_test_flat_columns = ['_'.join(col).strip() for col in x_test.columns.values]\n",
    "x_test.columns = x_train_flat_columns\n",
    "# Prepare data\n",
    "label_encoder = LabelEncoder()\n",
    "y_train_encoded = label_encoder.fit_transform(y_train_np.ravel())\n",
    "\n",
    "# Split training data into training and temporary validation sets\n",
    "X_train, X_temp, Y_train, Y_temp = train_test_split(x_train, y_train_encoded, test_size=0.4, random_state=42)\n",
    "\n",
    "# Split the temporary validation set into validation and fake test set\n",
    "X_val, X_test, Y_val, Y_test = train_test_split(X_temp, Y_temp, test_size=0.5, random_state=42)\n",
    "\n",
    "scaler = StandardScaler()\n",
    "X_train_scaled = scaler.fit_transform(X_train)\n",
    "X_val_scaled = scaler.transform(X_val)\n",
    "X_test_scaled = scaler.transform(X_test)\n",
    "X_real_test_scaled = scaler.transform(x_test)  # real test set we don't have labels for\n",
    "\n",
    "\n",
    "def calculate_test_accuracy(predictions):\n",
    "    return f\"Pseudo Test Set accuracy: {accuracy_score(Y_test, predictions):.2f}\"\n",
    "\n",
    "\n",
    "def calculate_trainig_accuracy(predictions):\n",
    "    return f\"Training Set accuracy: {accuracy_score(Y_train, predictions):.2f}\"\n",
    "\n",
    "\n",
    "def split_features_by_type(X, feature_structure):\n",
    "    \"\"\"\n",
    "    Splits the dataset into subsets based on the feature structure provided.\n",
    "\n",
    "    :param X: numpy array, the dataset to be split (features only)\n",
    "    :param feature_structure: dict, keys are feature names and values are the number of features of that type\n",
    "    :return: dict of feature subsets\n",
    "    \"\"\"\n",
    "    feature_subsets = {}\n",
    "    start_idx = 0\n",
    "    \n",
    "    for feature_name, feature_count in feature_structure.items():\n",
    "        end_idx = start_idx + feature_count\n",
    "        feature_subsets[feature_name] = X[:, start_idx:end_idx]\n",
    "        start_idx = end_idx\n",
    "    \n",
    "    return feature_subsets\n",
    "\n",
    "# Define the structure of your features based on the information you've provided\n",
    "feature_structure = {\n",
    "    'chroma_cens': 84,\n",
    "    'chroma_cqt': 84,\n",
    "    'chroma_stft': 84,\n",
    "    'mfcc': 140,\n",
    "    'rmse': 7,\n",
    "    'spectral_bandwidth': 7,\n",
    "    'spectral_centroid': 7,\n",
    "    'spectral_contrast': 49,\n",
    "    'spectral_rolloff': 7,\n",
    "    'tonnetz': 42,\n",
    "    'zcr': 7\n",
    "}\n",
    "\n",
    "# Example usage with a hypothetical dataset X_train_scaled\n",
    "# This would be your preprocessed and scaled training data as a NumPy array\n",
    "train_feature_subsets = split_features_by_type(X_train_scaled, feature_structure)\n",
    "val_feature_subsets = split_features_by_type(X_val_scaled, feature_structure)\n",
    "test_feature_subsets = split_features_by_type(X_test_scaled, feature_structure)"
   ],
   "metadata": {
    "collapsed": false,
    "ExecuteTime": {
     "end_time": "2024-03-16T16:32:12.949045Z",
     "start_time": "2024-03-16T16:32:12.485869Z"
    }
   },
   "id": "f43045e67fbaeda9",
   "execution_count": 7
  },
  {
   "cell_type": "code",
   "outputs": [
    {
     "name": "stdout",
     "output_type": "stream",
     "text": [
      "Training Set accuracy: 0.52\n",
      "Pseudo Test Set accuracy: 0.40\n"
     ]
    }
   ],
   "source": [
    "from sklearn.neighbors import KNeighborsClassifier\n",
    "from sklearn.ensemble import BaggingClassifier\n",
    "\n",
    "# Number of base estimators\n",
    "n_estimators = 10  # You can experiment with this number\n",
    "\n",
    "# Create a BaggingClassifier with KNN as base estimators\n",
    "bagging_clf = BaggingClassifier(\n",
    "    estimator=KNeighborsClassifier(n_neighbors=1), \n",
    "    n_estimators=n_estimators, \n",
    "    max_samples=1.0 / n_estimators, \n",
    "    bootstrap=True, \n",
    "    random_state=42,\n",
    "    n_jobs=-1  # Use all cores\n",
    ")\n",
    "\n",
    "# Fit the BaggingClassifier\n",
    "bagging_clf.fit(X_train_scaled, Y_train)\n",
    "# training predictions\n",
    "trainpreds = bagging_clf.predict(X_train_scaled)\n",
    "# test predictions\n",
    "testpreds = bagging_clf.predict(X_test_scaled)\n",
    "\n",
    "print(calculate_trainig_accuracy(trainpreds))\n",
    "print(calculate_test_accuracy(testpreds))"
   ],
   "metadata": {
    "collapsed": false,
    "ExecuteTime": {
     "end_time": "2024-03-16T16:32:14.325247Z",
     "start_time": "2024-03-16T16:32:13.719507Z"
    }
   },
   "id": "79636e26c422405c",
   "execution_count": 8
  },
  {
   "cell_type": "markdown",
   "source": [
    "### Function to save EPS Plots directly to Overleaf"
   ],
   "metadata": {
    "collapsed": false
   },
   "id": "80ed4dd2eeca53bb"
  },
  {
   "cell_type": "code",
   "outputs": [],
   "source": [
    "import getpass\n",
    "import os\n",
    "export_username = \"ts\" # Only save plots to dropbox on Tobias's code\n",
    "def save_plot(plot, filename):\n",
    "    username = getpass.getuser()\n",
    "    filepath = \"/Users/ts/Library/CloudStorage/Dropbox/Apps/Overleaf/SML Practical/Figures\"\n",
    "    filename += \".eps\"\n",
    "    if username == export_username:\n",
    "        plot.savefig(os.path.join(filepath, filename), format='eps') # Save as EPS"
   ],
   "metadata": {
    "collapsed": false
   },
   "id": "7e31f68c9199497c"
  },
  {
   "cell_type": "markdown",
   "source": [
    "# EDA"
   ],
   "metadata": {
    "collapsed": false
   },
   "id": "89d0a290c5075e35"
  },
  {
   "cell_type": "markdown",
   "source": [
    "## Check Balance of Classes"
   ],
   "metadata": {
    "collapsed": false
   },
   "id": "5468a9ab361d6695"
  },
  {
   "cell_type": "code",
   "outputs": [],
   "source": [
    "class_bal = plt.figure(figsize=(10, 6))\n",
    "sns.countplot(data=y_train, y='Genre')\n",
    "plt.title('Distribution of Genres in the Training Set')\n",
    "plt.xlabel('Count')\n",
    "plt.ylabel('Genre')\n",
    "plt.subplots_adjust(left=0.1, right=0.9, top=0.9, bottom=0.1)\n",
    "plt.show()\n",
    "save_plot(class_bal, \"Class-Balance\")"
   ],
   "metadata": {
    "collapsed": false
   },
   "id": "3e5233c4bdf163"
  },
  {
   "cell_type": "markdown",
   "source": [
    "## Plot Distribution of Medians across feature subset"
   ],
   "metadata": {
    "collapsed": false
   },
   "id": "dbd3484b274c3910"
  },
  {
   "cell_type": "code",
   "outputs": [],
   "source": [
    "x_train_with_genre = x_train.merge(y_train, left_index=True, right_on='Id') # Merge Genre labels on to training data\n",
    "# Create the subplots\n",
    "box1, axs = plt.subplots(nrows=2, ncols=2, figsize=(16, 9))\n",
    "\n",
    "# Top-left subplot for spectral_centroid_median_01\n",
    "sns.boxplot(x='spectral_centroid_median_01', y='Genre', data=x_train_with_genre, ax=axs[0, 0])\n",
    "axs[0, 0].set_title('Spectral Centroid Median 01')\n",
    "\n",
    "# Top-right subplot for spectral_rolloff_median_01\n",
    "sns.boxplot(x='spectral_rolloff_median_01', y='Genre', data=x_train_with_genre, ax=axs[0, 1])\n",
    "axs[0, 1].set_title('Spectral Rolloff Median 01')\n",
    "\n",
    "# Bottom-left subplot for spectral_contrast_median_04\n",
    "sns.boxplot(x='spectral_contrast_median_04', y='Genre', data=x_train_with_genre, ax=axs[1, 0])\n",
    "axs[1, 0].set_title('Spectral Contrast Median 04')\n",
    "\n",
    "# Bottom-right subplot for mfcc_median_01\n",
    "sns.boxplot(x='mfcc_median_01', y='Genre', data=x_train_with_genre, ax=axs[1, 1])\n",
    "axs[1, 1].set_title('MFCC Median 01')\n",
    "\n",
    "# Adjust the font scale for better readability\n",
    "sns.set(font_scale=1.6)\n",
    "\n",
    "# Tight layout for better spacing\n",
    "plt.tight_layout()\n",
    "\n",
    "# Show the plots\n",
    "plt.show()\n",
    "save_plot(box1, \"boxplot-1\")"
   ],
   "metadata": {
    "collapsed": false
   },
   "id": "d499e546c5898017"
  },
  {
   "cell_type": "markdown",
   "source": [
    "# Julia"
   ],
   "metadata": {
    "collapsed": false
   },
   "id": "4eef374235d1c85"
  },
  {
   "cell_type": "code",
   "outputs": [],
   "source": [],
   "metadata": {
    "collapsed": false
   },
   "id": "548fb59e46966d07"
  },
  {
   "cell_type": "markdown",
   "id": "f2ffd230eeedb0af",
   "metadata": {
    "collapsed": false
   },
   "source": [
    "# Max"
   ]
  },
  {
   "cell_type": "code",
   "execution_count": null,
   "id": "98a3d620f9a6fbbe",
   "metadata": {
    "ExecuteTime": {
     "end_time": "2024-03-16T11:51:45.929909Z",
     "start_time": "2024-03-16T11:51:45.929357Z"
    },
    "collapsed": false
   },
   "outputs": [],
   "source": []
  },
  {
   "cell_type": "markdown",
   "id": "5793140838d2dc17",
   "metadata": {
    "collapsed": false
   },
   "source": [
    "# Tobias"
   ]
  },
  {
   "cell_type": "code",
   "execution_count": null,
   "id": "424a0ad7b8f113d0",
   "metadata": {
    "collapsed": false
   },
   "outputs": [],
   "source": []
  }
 ],
 "metadata": {
  "kaggle": {
   "accelerator": "none",
   "dataSources": [
    {
     "datasetId": 4550223,
     "sourceId": 7776495,
     "sourceType": "datasetVersion"
    }
   ],
   "dockerImageVersionId": 30664,
   "isGpuEnabled": false,
   "isInternetEnabled": true,
   "language": "python",
   "sourceType": "notebook"
  },
  "kernelspec": {
   "display_name": "Python 3",
   "language": "python",
   "name": "python3"
  },
  "language_info": {
   "codemirror_mode": {
    "name": "ipython",
    "version": 3
   },
   "file_extension": ".py",
   "mimetype": "text/x-python",
   "name": "python",
   "nbconvert_exporter": "python",
   "pygments_lexer": "ipython3",
   "version": "3.10.13"
  },
  "papermill": {
   "default_parameters": {},
   "duration": 10.569256,
   "end_time": "2024-03-06T14:52:58.819088",
   "environment_variables": {},
   "exception": null,
   "input_path": "__notebook__.ipynb",
   "output_path": "__notebook__.ipynb",
   "parameters": {},
   "start_time": "2024-03-06T14:52:48.249832",
   "version": "2.5.0"
  }
 },
 "nbformat": 4,
 "nbformat_minor": 5
}
