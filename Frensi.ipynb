{
 "cells": [
  {
   "cell_type": "code",
   "execution_count": null,
   "id": "initial_id",
   "metadata": {
    "collapsed": true
   },
   "outputs": [],
   "source": [
    "%run 'Setup.py'"
   ]
  },
  {
   "cell_type": "markdown",
   "source": [
    "## Practical Assignments STEPS\n",
    "\n",
    "### 1. EDA: Distribution of genres, Range and type of feature values, Patterns or Anomalies.\n",
    "\n",
    "### 2. Feature Engineering:\n",
    "\n",
    "### 3. Preprocessing:\n",
    "\n",
    "### 4. Model Selection:\n",
    "\n",
    "### 5. Model Training and Tuning:\n",
    "\n",
    "### 6. Evaluation:\n",
    "\n",
    "### 7. Report Writing:\n",
    "\n",
    "### 8. Review:\n"
   ],
   "metadata": {
    "collapsed": false
   },
   "id": "296175bf0292425a"
  },
  {
   "cell_type": "code",
   "execution_count": 3,
   "outputs": [
    {
     "data": {
      "text/plain": "      chroma_cens_kurtosis_01  chroma_cens_kurtosis_02  \\\nId                                                       \n0                   -0.266585                -0.984668   \n1                   -0.180061                 0.260884   \n2                   -0.692900                 0.356662   \n3                    0.243339                 0.214182   \n4                   -0.968576                 0.309255   \n...                       ...                      ...   \n5995                 0.503490                -0.540720   \n5996                -0.600597                 0.406386   \n5997                -1.014298                -0.950744   \n5998                -0.002938                 0.646034   \n5999                -0.881917                -0.615638   \n\n      chroma_cens_kurtosis_03  chroma_cens_kurtosis_04  \\\nId                                                       \n0                   -0.729823                -0.895122   \n1                   -0.069373                 0.208734   \n2                    0.062617                 0.248280   \n3                   -0.049026                 1.456255   \n4                    0.223164                 0.160960   \n...                       ...                      ...   \n5995                -0.690117                -0.107338   \n5996                -0.748409                -0.316157   \n5997                 0.618304                 0.204298   \n5998                -0.732819                 1.205990   \n5999                 0.891155                 4.850262   \n\n      chroma_cens_kurtosis_05  chroma_cens_kurtosis_06  \\\nId                                                       \n0                    2.138628                 0.935209   \n1                   -0.078855                -0.577818   \n2                    3.470037                 0.166613   \n3                   -0.360826                -0.875256   \n4                    0.919838                -0.111985   \n...                       ...                      ...   \n5995                -0.647856                -0.681969   \n5996                -0.507428                -0.054214   \n5997                -0.788411                -0.794254   \n5998                -0.898733                -0.684953   \n5999                -0.349280                -1.010980   \n\n      chroma_cens_kurtosis_07  chroma_cens_kurtosis_08  \\\nId                                                       \n0                    0.104089                -0.698659   \n1                    0.583788                 0.143781   \n2                    0.823874                 0.181112   \n3                   -0.770200                 0.315500   \n4                   -1.012521                -0.665692   \n...                       ...                      ...   \n5995                -0.246245                -0.546552   \n5996                -0.476804                -0.373120   \n5997                -0.586847                 0.099172   \n5998                 0.134642                -0.374792   \n5999                -0.577905                -0.046604   \n\n      chroma_cens_kurtosis_09  chroma_cens_kurtosis_10  ...  tonnetz_std_04  \\\nId                                                      ...                   \n0                   -0.736408                -0.334376  ...        0.065003   \n1                    0.291556                 0.007314  ...        0.087692   \n2                    0.551939                 0.357985  ...        0.132387   \n3                    0.789956                 0.448319  ...        0.071478   \n4                   -0.316646                -0.264381  ...        0.106220   \n...                       ...                      ...  ...             ...   \n5995                 0.062783                 0.070393  ...        0.084929   \n5996                -0.930158                -1.080690  ...        0.075407   \n5997                -0.313476                -0.523417  ...        0.138591   \n5998                -0.019524                -1.016032  ...        0.137695   \n5999                -0.828026                -0.457468  ...        0.175120   \n\n      tonnetz_std_05  tonnetz_std_06  zcr_kurtosis_01  zcr_max_01  \\\nId                                                                  \n0           0.016522        0.015776         5.743597    0.307617   \n1           0.016355        0.016605        64.870987    0.812988   \n2           0.025847        0.023922        34.251705    0.850098   \n3           0.019166        0.025535         1.364990    0.342285   \n4           0.023536        0.019742         3.589230    0.322266   \n...              ...             ...              ...         ...   \n5995        0.017250        0.020335         4.868783    0.668945   \n5996        0.014998        0.020683         7.893681    0.584961   \n5997        0.024969        0.023658        27.257378    0.373047   \n5998        0.030371        0.029970       431.200500    0.384277   \n5999        0.039703        0.025094        13.567758    0.233398   \n\n      zcr_mean_01  zcr_median_01  zcr_min_01  zcr_skew_01  zcr_std_01  \nId                                                                     \n0        0.051370       0.042480    0.002441     1.976972    0.034533  \n1        0.082784       0.069824    0.003906     7.374503    0.074870  \n2        0.058200       0.036621    0.010254     5.927942    0.117603  \n3        0.081713       0.075195    0.000000     1.100437    0.041754  \n4        0.073736       0.069336    0.004395     1.210593    0.036459  \n...           ...            ...         ...          ...         ...  \n5995     0.076452       0.044434    0.001465     2.045856    0.084214  \n5996     0.076210       0.048340    0.000000     2.561808    0.073010  \n5997     0.042598       0.037598    0.000000     3.778109    0.027813  \n5998     0.025731       0.025391    0.008301    10.260160    0.006870  \n5999     0.047689       0.044922    0.015625     2.553229    0.018049  \n\n[6000 rows x 518 columns]",
      "text/html": "<div>\n<style scoped>\n    .dataframe tbody tr th:only-of-type {\n        vertical-align: middle;\n    }\n\n    .dataframe tbody tr th {\n        vertical-align: top;\n    }\n\n    .dataframe thead th {\n        text-align: right;\n    }\n</style>\n<table border=\"1\" class=\"dataframe\">\n  <thead>\n    <tr style=\"text-align: right;\">\n      <th></th>\n      <th>chroma_cens_kurtosis_01</th>\n      <th>chroma_cens_kurtosis_02</th>\n      <th>chroma_cens_kurtosis_03</th>\n      <th>chroma_cens_kurtosis_04</th>\n      <th>chroma_cens_kurtosis_05</th>\n      <th>chroma_cens_kurtosis_06</th>\n      <th>chroma_cens_kurtosis_07</th>\n      <th>chroma_cens_kurtosis_08</th>\n      <th>chroma_cens_kurtosis_09</th>\n      <th>chroma_cens_kurtosis_10</th>\n      <th>...</th>\n      <th>tonnetz_std_04</th>\n      <th>tonnetz_std_05</th>\n      <th>tonnetz_std_06</th>\n      <th>zcr_kurtosis_01</th>\n      <th>zcr_max_01</th>\n      <th>zcr_mean_01</th>\n      <th>zcr_median_01</th>\n      <th>zcr_min_01</th>\n      <th>zcr_skew_01</th>\n      <th>zcr_std_01</th>\n    </tr>\n    <tr>\n      <th>Id</th>\n      <th></th>\n      <th></th>\n      <th></th>\n      <th></th>\n      <th></th>\n      <th></th>\n      <th></th>\n      <th></th>\n      <th></th>\n      <th></th>\n      <th></th>\n      <th></th>\n      <th></th>\n      <th></th>\n      <th></th>\n      <th></th>\n      <th></th>\n      <th></th>\n      <th></th>\n      <th></th>\n      <th></th>\n    </tr>\n  </thead>\n  <tbody>\n    <tr>\n      <th>0</th>\n      <td>-0.266585</td>\n      <td>-0.984668</td>\n      <td>-0.729823</td>\n      <td>-0.895122</td>\n      <td>2.138628</td>\n      <td>0.935209</td>\n      <td>0.104089</td>\n      <td>-0.698659</td>\n      <td>-0.736408</td>\n      <td>-0.334376</td>\n      <td>...</td>\n      <td>0.065003</td>\n      <td>0.016522</td>\n      <td>0.015776</td>\n      <td>5.743597</td>\n      <td>0.307617</td>\n      <td>0.051370</td>\n      <td>0.042480</td>\n      <td>0.002441</td>\n      <td>1.976972</td>\n      <td>0.034533</td>\n    </tr>\n    <tr>\n      <th>1</th>\n      <td>-0.180061</td>\n      <td>0.260884</td>\n      <td>-0.069373</td>\n      <td>0.208734</td>\n      <td>-0.078855</td>\n      <td>-0.577818</td>\n      <td>0.583788</td>\n      <td>0.143781</td>\n      <td>0.291556</td>\n      <td>0.007314</td>\n      <td>...</td>\n      <td>0.087692</td>\n      <td>0.016355</td>\n      <td>0.016605</td>\n      <td>64.870987</td>\n      <td>0.812988</td>\n      <td>0.082784</td>\n      <td>0.069824</td>\n      <td>0.003906</td>\n      <td>7.374503</td>\n      <td>0.074870</td>\n    </tr>\n    <tr>\n      <th>2</th>\n      <td>-0.692900</td>\n      <td>0.356662</td>\n      <td>0.062617</td>\n      <td>0.248280</td>\n      <td>3.470037</td>\n      <td>0.166613</td>\n      <td>0.823874</td>\n      <td>0.181112</td>\n      <td>0.551939</td>\n      <td>0.357985</td>\n      <td>...</td>\n      <td>0.132387</td>\n      <td>0.025847</td>\n      <td>0.023922</td>\n      <td>34.251705</td>\n      <td>0.850098</td>\n      <td>0.058200</td>\n      <td>0.036621</td>\n      <td>0.010254</td>\n      <td>5.927942</td>\n      <td>0.117603</td>\n    </tr>\n    <tr>\n      <th>3</th>\n      <td>0.243339</td>\n      <td>0.214182</td>\n      <td>-0.049026</td>\n      <td>1.456255</td>\n      <td>-0.360826</td>\n      <td>-0.875256</td>\n      <td>-0.770200</td>\n      <td>0.315500</td>\n      <td>0.789956</td>\n      <td>0.448319</td>\n      <td>...</td>\n      <td>0.071478</td>\n      <td>0.019166</td>\n      <td>0.025535</td>\n      <td>1.364990</td>\n      <td>0.342285</td>\n      <td>0.081713</td>\n      <td>0.075195</td>\n      <td>0.000000</td>\n      <td>1.100437</td>\n      <td>0.041754</td>\n    </tr>\n    <tr>\n      <th>4</th>\n      <td>-0.968576</td>\n      <td>0.309255</td>\n      <td>0.223164</td>\n      <td>0.160960</td>\n      <td>0.919838</td>\n      <td>-0.111985</td>\n      <td>-1.012521</td>\n      <td>-0.665692</td>\n      <td>-0.316646</td>\n      <td>-0.264381</td>\n      <td>...</td>\n      <td>0.106220</td>\n      <td>0.023536</td>\n      <td>0.019742</td>\n      <td>3.589230</td>\n      <td>0.322266</td>\n      <td>0.073736</td>\n      <td>0.069336</td>\n      <td>0.004395</td>\n      <td>1.210593</td>\n      <td>0.036459</td>\n    </tr>\n    <tr>\n      <th>...</th>\n      <td>...</td>\n      <td>...</td>\n      <td>...</td>\n      <td>...</td>\n      <td>...</td>\n      <td>...</td>\n      <td>...</td>\n      <td>...</td>\n      <td>...</td>\n      <td>...</td>\n      <td>...</td>\n      <td>...</td>\n      <td>...</td>\n      <td>...</td>\n      <td>...</td>\n      <td>...</td>\n      <td>...</td>\n      <td>...</td>\n      <td>...</td>\n      <td>...</td>\n      <td>...</td>\n    </tr>\n    <tr>\n      <th>5995</th>\n      <td>0.503490</td>\n      <td>-0.540720</td>\n      <td>-0.690117</td>\n      <td>-0.107338</td>\n      <td>-0.647856</td>\n      <td>-0.681969</td>\n      <td>-0.246245</td>\n      <td>-0.546552</td>\n      <td>0.062783</td>\n      <td>0.070393</td>\n      <td>...</td>\n      <td>0.084929</td>\n      <td>0.017250</td>\n      <td>0.020335</td>\n      <td>4.868783</td>\n      <td>0.668945</td>\n      <td>0.076452</td>\n      <td>0.044434</td>\n      <td>0.001465</td>\n      <td>2.045856</td>\n      <td>0.084214</td>\n    </tr>\n    <tr>\n      <th>5996</th>\n      <td>-0.600597</td>\n      <td>0.406386</td>\n      <td>-0.748409</td>\n      <td>-0.316157</td>\n      <td>-0.507428</td>\n      <td>-0.054214</td>\n      <td>-0.476804</td>\n      <td>-0.373120</td>\n      <td>-0.930158</td>\n      <td>-1.080690</td>\n      <td>...</td>\n      <td>0.075407</td>\n      <td>0.014998</td>\n      <td>0.020683</td>\n      <td>7.893681</td>\n      <td>0.584961</td>\n      <td>0.076210</td>\n      <td>0.048340</td>\n      <td>0.000000</td>\n      <td>2.561808</td>\n      <td>0.073010</td>\n    </tr>\n    <tr>\n      <th>5997</th>\n      <td>-1.014298</td>\n      <td>-0.950744</td>\n      <td>0.618304</td>\n      <td>0.204298</td>\n      <td>-0.788411</td>\n      <td>-0.794254</td>\n      <td>-0.586847</td>\n      <td>0.099172</td>\n      <td>-0.313476</td>\n      <td>-0.523417</td>\n      <td>...</td>\n      <td>0.138591</td>\n      <td>0.024969</td>\n      <td>0.023658</td>\n      <td>27.257378</td>\n      <td>0.373047</td>\n      <td>0.042598</td>\n      <td>0.037598</td>\n      <td>0.000000</td>\n      <td>3.778109</td>\n      <td>0.027813</td>\n    </tr>\n    <tr>\n      <th>5998</th>\n      <td>-0.002938</td>\n      <td>0.646034</td>\n      <td>-0.732819</td>\n      <td>1.205990</td>\n      <td>-0.898733</td>\n      <td>-0.684953</td>\n      <td>0.134642</td>\n      <td>-0.374792</td>\n      <td>-0.019524</td>\n      <td>-1.016032</td>\n      <td>...</td>\n      <td>0.137695</td>\n      <td>0.030371</td>\n      <td>0.029970</td>\n      <td>431.200500</td>\n      <td>0.384277</td>\n      <td>0.025731</td>\n      <td>0.025391</td>\n      <td>0.008301</td>\n      <td>10.260160</td>\n      <td>0.006870</td>\n    </tr>\n    <tr>\n      <th>5999</th>\n      <td>-0.881917</td>\n      <td>-0.615638</td>\n      <td>0.891155</td>\n      <td>4.850262</td>\n      <td>-0.349280</td>\n      <td>-1.010980</td>\n      <td>-0.577905</td>\n      <td>-0.046604</td>\n      <td>-0.828026</td>\n      <td>-0.457468</td>\n      <td>...</td>\n      <td>0.175120</td>\n      <td>0.039703</td>\n      <td>0.025094</td>\n      <td>13.567758</td>\n      <td>0.233398</td>\n      <td>0.047689</td>\n      <td>0.044922</td>\n      <td>0.015625</td>\n      <td>2.553229</td>\n      <td>0.018049</td>\n    </tr>\n  </tbody>\n</table>\n<p>6000 rows × 518 columns</p>\n</div>"
     },
     "execution_count": 3,
     "metadata": {},
     "output_type": "execute_result"
    }
   ],
   "source": [
    "x_train"
   ],
   "metadata": {
    "collapsed": false,
    "ExecuteTime": {
     "end_time": "2024-03-09T19:01:55.872297Z",
     "start_time": "2024-03-09T19:01:55.859856Z"
    }
   },
   "id": "88a480664a804758"
  },
  {
   "cell_type": "code",
   "execution_count": null,
   "outputs": [],
   "source": [],
   "metadata": {
    "collapsed": false
   },
   "id": "ca9523c2832a21f2"
  },
  {
   "cell_type": "code",
   "execution_count": null,
   "outputs": [],
   "source": [],
   "metadata": {
    "collapsed": false
   },
   "id": "cc1d61debcde7cd2"
  }
 ],
 "metadata": {
  "kernelspec": {
   "display_name": "Python 3",
   "language": "python",
   "name": "python3"
  },
  "language_info": {
   "codemirror_mode": {
    "name": "ipython",
    "version": 2
   },
   "file_extension": ".py",
   "mimetype": "text/x-python",
   "name": "python",
   "nbconvert_exporter": "python",
   "pygments_lexer": "ipython2",
   "version": "2.7.6"
  }
 },
 "nbformat": 4,
 "nbformat_minor": 5
}
