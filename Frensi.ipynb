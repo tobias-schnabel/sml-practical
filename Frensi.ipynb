{
 "cells": [
  {
   "cell_type": "code",
   "execution_count": null,
   "id": "initial_id",
   "metadata": {
    "collapsed": true
   },
   "outputs": [],
   "source": [
    "%run 'Setup.py'"
   ]
  },
  {
   "cell_type": "markdown",
   "source": [
    "## Practical Assignments STEPS\n",
    "\n",
    "### 1. EDA: Distribution of genres, Range and type of feature values, Patterns or Anomalies.\n",
    "\n",
    "### 2. Feature Engineering: \n",
    "\n",
    "### 3. Preprocessing: NA data\n",
    "\n",
    "### 4. Model Selection:\n",
    "\n",
    "### 5. Model Training and Tuning:\n",
    "\n",
    "### 6. Evaluation:\n",
    "\n",
    "### 7. Report Writing:\n",
    "\n",
    "### 8. Review:\n"
   ],
   "metadata": {
    "collapsed": false
   },
   "id": "296175bf0292425a"
  },
  {
   "cell_type": "code",
   "execution_count": null,
   "outputs": [],
   "source": [],
   "metadata": {
    "collapsed": false
   },
   "id": "ca9523c2832a21f2"
  }
 ],
 "metadata": {
  "kernelspec": {
   "display_name": "Python 3",
   "language": "python",
   "name": "python3"
  },
  "language_info": {
   "codemirror_mode": {
    "name": "ipython",
    "version": 2
   },
   "file_extension": ".py",
   "mimetype": "text/x-python",
   "name": "python",
   "nbconvert_exporter": "python",
   "pygments_lexer": "ipython2",
   "version": "2.7.6"
  }
 },
 "nbformat": 4,
 "nbformat_minor": 5
}
